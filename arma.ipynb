{
  "nbformat": 4,
  "nbformat_minor": 0,
  "metadata": {
    "colab": {
      "name": "arma.ipynb",
      "provenance": []
    },
    "kernelspec": {
      "name": "python3",
      "display_name": "Python 3"
    }
  },
  "cells": [
    {
      "cell_type": "code",
      "metadata": {
        "id": "FFOoZ9P8XiTz"
      },
      "source": [
        "import datetime\n",
        "import numpy as np\n",
        "import pandas as pd\n",
        "from statsmodels.tsa.arima_process import ArmaProcess\n",
        "from statsmodels.tsa.arima_process import ArmaProcess\n",
        "from statsmodels.tsa.statespace.sarimax import SARIMAX\n",
        "from statsmodels.tsa.arima_model import ARIMA\n",
        "import matplotlib.pyplot as plt\n",
        "%matplotlib inline"
      ],
      "execution_count": null,
      "outputs": []
    },
    {
      "cell_type": "code",
      "metadata": {
        "id": "QxeMTLgbpQuY"
      },
      "source": [
        ""
      ],
      "execution_count": null,
      "outputs": []
    },
    {
      "cell_type": "code",
      "metadata": {
        "id": "h6tIhj96YL0k"
      },
      "source": [
        "startDate = '2013-01-01'\n",
        "endDate = '2013-01-01'"
      ],
      "execution_count": null,
      "outputs": []
    },
    {
      "cell_type": "code",
      "metadata": {
        "colab": {
          "base_uri": "https://localhost:8080/"
        },
        "id": "mp9gTg6jhGLh",
        "outputId": "fdf20702-8f82-4aea-f760-04c49766bd1b"
      },
      "source": [
        "datetime.timedelta(days=15)"
      ],
      "execution_count": null,
      "outputs": [
        {
          "output_type": "execute_result",
          "data": {
            "text/plain": [
              "datetime.timedelta(15)"
            ]
          },
          "metadata": {
            "tags": []
          },
          "execution_count": 298
        }
      ]
    },
    {
      "cell_type": "code",
      "metadata": {
        "colab": {
          "base_uri": "https://localhost:8080/"
        },
        "id": "HMKDjQGZhU0Y",
        "outputId": "d2c0af3c-c331-41ce-9363-ddc6e355d3a3"
      },
      "source": [
        "datetime.datetime.strptime(startDate, \"%Y-%m-%d\")"
      ],
      "execution_count": null,
      "outputs": [
        {
          "output_type": "execute_result",
          "data": {
            "text/plain": [
              "datetime.datetime(2013, 1, 1, 0, 0)"
            ]
          },
          "metadata": {
            "tags": []
          },
          "execution_count": 299
        }
      ]
    },
    {
      "cell_type": "code",
      "metadata": {
        "id": "iPUfBwH_cCLr"
      },
      "source": [
        "date_rng = pd.date_range(start=datetime.datetime.strptime(startDate, \"%Y-%m-%d\"), \n",
        "                         end=datetime.datetime.strptime(endDate, \"%Y-%m-%d\") + datetime.timedelta(hours=23), \n",
        "                         freq='H')"
      ],
      "execution_count": null,
      "outputs": []
    },
    {
      "cell_type": "code",
      "metadata": {
        "colab": {
          "base_uri": "https://localhost:8080/"
        },
        "id": "qu20Nbc4jAFK",
        "outputId": "851e1042-8907-437c-e701-ac2cb02423b3"
      },
      "source": [
        "len(date_rng)"
      ],
      "execution_count": null,
      "outputs": [
        {
          "output_type": "execute_result",
          "data": {
            "text/plain": [
              "24"
            ]
          },
          "metadata": {
            "tags": []
          },
          "execution_count": 301
        }
      ]
    },
    {
      "cell_type": "code",
      "metadata": {
        "id": "K0aNBZL6dVCn"
      },
      "source": [
        "temperature = [34.38,\n",
        "34.36,\n",
        "34.74,\n",
        "35.26,\n",
        "35.23,\n",
        "35.29,\n",
        "35.64,\n",
        "36.02,\n",
        "36.1,\n",
        "36.98,\n",
        "37.01,\n",
        "36.75,\n",
        "36.01,\n",
        "35.66,\n",
        "34.72,\n",
        "33.9,\n",
        "32.62,\n",
        "31.51,\n",
        "30.73,\n",
        "29.5,\n",
        "26.94,\n",
        "25.47,\n",
        "23.84,\n",
        "22.55]"
      ],
      "execution_count": null,
      "outputs": []
    },
    {
      "cell_type": "code",
      "metadata": {
        "colab": {
          "base_uri": "https://localhost:8080/",
          "height": 238
        },
        "id": "oInzutbZcTjy",
        "outputId": "ae6a4bca-764b-4abb-bd5b-563aa96a829d"
      },
      "source": [
        "df = pd.DataFrame(date_rng, columns=['date'])\n",
        "df['data'] = temperature\n",
        "df['datetime'] = pd.to_datetime(df['date'])\n",
        "df = df.set_index('datetime')\n",
        "df.drop(['date'], axis=1, inplace=True)\n",
        "df.head()"
      ],
      "execution_count": null,
      "outputs": [
        {
          "output_type": "execute_result",
          "data": {
            "text/html": [
              "<div>\n",
              "<style scoped>\n",
              "    .dataframe tbody tr th:only-of-type {\n",
              "        vertical-align: middle;\n",
              "    }\n",
              "\n",
              "    .dataframe tbody tr th {\n",
              "        vertical-align: top;\n",
              "    }\n",
              "\n",
              "    .dataframe thead th {\n",
              "        text-align: right;\n",
              "    }\n",
              "</style>\n",
              "<table border=\"1\" class=\"dataframe\">\n",
              "  <thead>\n",
              "    <tr style=\"text-align: right;\">\n",
              "      <th></th>\n",
              "      <th>data</th>\n",
              "    </tr>\n",
              "    <tr>\n",
              "      <th>datetime</th>\n",
              "      <th></th>\n",
              "    </tr>\n",
              "  </thead>\n",
              "  <tbody>\n",
              "    <tr>\n",
              "      <th>2013-01-01 00:00:00</th>\n",
              "      <td>34.38</td>\n",
              "    </tr>\n",
              "    <tr>\n",
              "      <th>2013-01-01 01:00:00</th>\n",
              "      <td>34.36</td>\n",
              "    </tr>\n",
              "    <tr>\n",
              "      <th>2013-01-01 02:00:00</th>\n",
              "      <td>34.74</td>\n",
              "    </tr>\n",
              "    <tr>\n",
              "      <th>2013-01-01 03:00:00</th>\n",
              "      <td>35.26</td>\n",
              "    </tr>\n",
              "    <tr>\n",
              "      <th>2013-01-01 04:00:00</th>\n",
              "      <td>35.23</td>\n",
              "    </tr>\n",
              "  </tbody>\n",
              "</table>\n",
              "</div>"
            ],
            "text/plain": [
              "                      data\n",
              "datetime                  \n",
              "2013-01-01 00:00:00  34.38\n",
              "2013-01-01 01:00:00  34.36\n",
              "2013-01-01 02:00:00  34.74\n",
              "2013-01-01 03:00:00  35.26\n",
              "2013-01-01 04:00:00  35.23"
            ]
          },
          "metadata": {
            "tags": []
          },
          "execution_count": 303
        }
      ]
    },
    {
      "cell_type": "code",
      "metadata": {
        "colab": {
          "base_uri": "https://localhost:8080/",
          "height": 834
        },
        "id": "WIlOy_8unjmj",
        "outputId": "0882deb5-93ab-466e-dfd9-da9a55fa7f5e"
      },
      "source": [
        "df"
      ],
      "execution_count": null,
      "outputs": [
        {
          "output_type": "execute_result",
          "data": {
            "text/html": [
              "<div>\n",
              "<style scoped>\n",
              "    .dataframe tbody tr th:only-of-type {\n",
              "        vertical-align: middle;\n",
              "    }\n",
              "\n",
              "    .dataframe tbody tr th {\n",
              "        vertical-align: top;\n",
              "    }\n",
              "\n",
              "    .dataframe thead th {\n",
              "        text-align: right;\n",
              "    }\n",
              "</style>\n",
              "<table border=\"1\" class=\"dataframe\">\n",
              "  <thead>\n",
              "    <tr style=\"text-align: right;\">\n",
              "      <th></th>\n",
              "      <th>data</th>\n",
              "    </tr>\n",
              "    <tr>\n",
              "      <th>datetime</th>\n",
              "      <th></th>\n",
              "    </tr>\n",
              "  </thead>\n",
              "  <tbody>\n",
              "    <tr>\n",
              "      <th>2013-01-01 00:00:00</th>\n",
              "      <td>34.38</td>\n",
              "    </tr>\n",
              "    <tr>\n",
              "      <th>2013-01-01 01:00:00</th>\n",
              "      <td>34.36</td>\n",
              "    </tr>\n",
              "    <tr>\n",
              "      <th>2013-01-01 02:00:00</th>\n",
              "      <td>34.74</td>\n",
              "    </tr>\n",
              "    <tr>\n",
              "      <th>2013-01-01 03:00:00</th>\n",
              "      <td>35.26</td>\n",
              "    </tr>\n",
              "    <tr>\n",
              "      <th>2013-01-01 04:00:00</th>\n",
              "      <td>35.23</td>\n",
              "    </tr>\n",
              "    <tr>\n",
              "      <th>2013-01-01 05:00:00</th>\n",
              "      <td>35.29</td>\n",
              "    </tr>\n",
              "    <tr>\n",
              "      <th>2013-01-01 06:00:00</th>\n",
              "      <td>35.64</td>\n",
              "    </tr>\n",
              "    <tr>\n",
              "      <th>2013-01-01 07:00:00</th>\n",
              "      <td>36.02</td>\n",
              "    </tr>\n",
              "    <tr>\n",
              "      <th>2013-01-01 08:00:00</th>\n",
              "      <td>36.10</td>\n",
              "    </tr>\n",
              "    <tr>\n",
              "      <th>2013-01-01 09:00:00</th>\n",
              "      <td>36.98</td>\n",
              "    </tr>\n",
              "    <tr>\n",
              "      <th>2013-01-01 10:00:00</th>\n",
              "      <td>37.01</td>\n",
              "    </tr>\n",
              "    <tr>\n",
              "      <th>2013-01-01 11:00:00</th>\n",
              "      <td>36.75</td>\n",
              "    </tr>\n",
              "    <tr>\n",
              "      <th>2013-01-01 12:00:00</th>\n",
              "      <td>36.01</td>\n",
              "    </tr>\n",
              "    <tr>\n",
              "      <th>2013-01-01 13:00:00</th>\n",
              "      <td>35.66</td>\n",
              "    </tr>\n",
              "    <tr>\n",
              "      <th>2013-01-01 14:00:00</th>\n",
              "      <td>34.72</td>\n",
              "    </tr>\n",
              "    <tr>\n",
              "      <th>2013-01-01 15:00:00</th>\n",
              "      <td>33.90</td>\n",
              "    </tr>\n",
              "    <tr>\n",
              "      <th>2013-01-01 16:00:00</th>\n",
              "      <td>32.62</td>\n",
              "    </tr>\n",
              "    <tr>\n",
              "      <th>2013-01-01 17:00:00</th>\n",
              "      <td>31.51</td>\n",
              "    </tr>\n",
              "    <tr>\n",
              "      <th>2013-01-01 18:00:00</th>\n",
              "      <td>30.73</td>\n",
              "    </tr>\n",
              "    <tr>\n",
              "      <th>2013-01-01 19:00:00</th>\n",
              "      <td>29.50</td>\n",
              "    </tr>\n",
              "    <tr>\n",
              "      <th>2013-01-01 20:00:00</th>\n",
              "      <td>26.94</td>\n",
              "    </tr>\n",
              "    <tr>\n",
              "      <th>2013-01-01 21:00:00</th>\n",
              "      <td>25.47</td>\n",
              "    </tr>\n",
              "    <tr>\n",
              "      <th>2013-01-01 22:00:00</th>\n",
              "      <td>23.84</td>\n",
              "    </tr>\n",
              "    <tr>\n",
              "      <th>2013-01-01 23:00:00</th>\n",
              "      <td>22.55</td>\n",
              "    </tr>\n",
              "  </tbody>\n",
              "</table>\n",
              "</div>"
            ],
            "text/plain": [
              "                      data\n",
              "datetime                  \n",
              "2013-01-01 00:00:00  34.38\n",
              "2013-01-01 01:00:00  34.36\n",
              "2013-01-01 02:00:00  34.74\n",
              "2013-01-01 03:00:00  35.26\n",
              "2013-01-01 04:00:00  35.23\n",
              "2013-01-01 05:00:00  35.29\n",
              "2013-01-01 06:00:00  35.64\n",
              "2013-01-01 07:00:00  36.02\n",
              "2013-01-01 08:00:00  36.10\n",
              "2013-01-01 09:00:00  36.98\n",
              "2013-01-01 10:00:00  37.01\n",
              "2013-01-01 11:00:00  36.75\n",
              "2013-01-01 12:00:00  36.01\n",
              "2013-01-01 13:00:00  35.66\n",
              "2013-01-01 14:00:00  34.72\n",
              "2013-01-01 15:00:00  33.90\n",
              "2013-01-01 16:00:00  32.62\n",
              "2013-01-01 17:00:00  31.51\n",
              "2013-01-01 18:00:00  30.73\n",
              "2013-01-01 19:00:00  29.50\n",
              "2013-01-01 20:00:00  26.94\n",
              "2013-01-01 21:00:00  25.47\n",
              "2013-01-01 22:00:00  23.84\n",
              "2013-01-01 23:00:00  22.55"
            ]
          },
          "metadata": {
            "tags": []
          },
          "execution_count": 304
        }
      ]
    },
    {
      "cell_type": "code",
      "metadata": {
        "colab": {
          "base_uri": "https://localhost:8080/",
          "height": 834
        },
        "id": "h8Q5LRWUdsYB",
        "outputId": "c39b614c-35c3-44e9-aeec-1b1f2d364dae"
      },
      "source": [
        "df"
      ],
      "execution_count": null,
      "outputs": [
        {
          "output_type": "execute_result",
          "data": {
            "text/html": [
              "<div>\n",
              "<style scoped>\n",
              "    .dataframe tbody tr th:only-of-type {\n",
              "        vertical-align: middle;\n",
              "    }\n",
              "\n",
              "    .dataframe tbody tr th {\n",
              "        vertical-align: top;\n",
              "    }\n",
              "\n",
              "    .dataframe thead th {\n",
              "        text-align: right;\n",
              "    }\n",
              "</style>\n",
              "<table border=\"1\" class=\"dataframe\">\n",
              "  <thead>\n",
              "    <tr style=\"text-align: right;\">\n",
              "      <th></th>\n",
              "      <th>data</th>\n",
              "    </tr>\n",
              "    <tr>\n",
              "      <th>datetime</th>\n",
              "      <th></th>\n",
              "    </tr>\n",
              "  </thead>\n",
              "  <tbody>\n",
              "    <tr>\n",
              "      <th>2013-01-01 00:00:00</th>\n",
              "      <td>34.38</td>\n",
              "    </tr>\n",
              "    <tr>\n",
              "      <th>2013-01-01 01:00:00</th>\n",
              "      <td>34.36</td>\n",
              "    </tr>\n",
              "    <tr>\n",
              "      <th>2013-01-01 02:00:00</th>\n",
              "      <td>34.74</td>\n",
              "    </tr>\n",
              "    <tr>\n",
              "      <th>2013-01-01 03:00:00</th>\n",
              "      <td>35.26</td>\n",
              "    </tr>\n",
              "    <tr>\n",
              "      <th>2013-01-01 04:00:00</th>\n",
              "      <td>35.23</td>\n",
              "    </tr>\n",
              "    <tr>\n",
              "      <th>2013-01-01 05:00:00</th>\n",
              "      <td>35.29</td>\n",
              "    </tr>\n",
              "    <tr>\n",
              "      <th>2013-01-01 06:00:00</th>\n",
              "      <td>35.64</td>\n",
              "    </tr>\n",
              "    <tr>\n",
              "      <th>2013-01-01 07:00:00</th>\n",
              "      <td>36.02</td>\n",
              "    </tr>\n",
              "    <tr>\n",
              "      <th>2013-01-01 08:00:00</th>\n",
              "      <td>36.10</td>\n",
              "    </tr>\n",
              "    <tr>\n",
              "      <th>2013-01-01 09:00:00</th>\n",
              "      <td>36.98</td>\n",
              "    </tr>\n",
              "    <tr>\n",
              "      <th>2013-01-01 10:00:00</th>\n",
              "      <td>37.01</td>\n",
              "    </tr>\n",
              "    <tr>\n",
              "      <th>2013-01-01 11:00:00</th>\n",
              "      <td>36.75</td>\n",
              "    </tr>\n",
              "    <tr>\n",
              "      <th>2013-01-01 12:00:00</th>\n",
              "      <td>36.01</td>\n",
              "    </tr>\n",
              "    <tr>\n",
              "      <th>2013-01-01 13:00:00</th>\n",
              "      <td>35.66</td>\n",
              "    </tr>\n",
              "    <tr>\n",
              "      <th>2013-01-01 14:00:00</th>\n",
              "      <td>34.72</td>\n",
              "    </tr>\n",
              "    <tr>\n",
              "      <th>2013-01-01 15:00:00</th>\n",
              "      <td>33.90</td>\n",
              "    </tr>\n",
              "    <tr>\n",
              "      <th>2013-01-01 16:00:00</th>\n",
              "      <td>32.62</td>\n",
              "    </tr>\n",
              "    <tr>\n",
              "      <th>2013-01-01 17:00:00</th>\n",
              "      <td>31.51</td>\n",
              "    </tr>\n",
              "    <tr>\n",
              "      <th>2013-01-01 18:00:00</th>\n",
              "      <td>30.73</td>\n",
              "    </tr>\n",
              "    <tr>\n",
              "      <th>2013-01-01 19:00:00</th>\n",
              "      <td>29.50</td>\n",
              "    </tr>\n",
              "    <tr>\n",
              "      <th>2013-01-01 20:00:00</th>\n",
              "      <td>26.94</td>\n",
              "    </tr>\n",
              "    <tr>\n",
              "      <th>2013-01-01 21:00:00</th>\n",
              "      <td>25.47</td>\n",
              "    </tr>\n",
              "    <tr>\n",
              "      <th>2013-01-01 22:00:00</th>\n",
              "      <td>23.84</td>\n",
              "    </tr>\n",
              "    <tr>\n",
              "      <th>2013-01-01 23:00:00</th>\n",
              "      <td>22.55</td>\n",
              "    </tr>\n",
              "  </tbody>\n",
              "</table>\n",
              "</div>"
            ],
            "text/plain": [
              "                      data\n",
              "datetime                  \n",
              "2013-01-01 00:00:00  34.38\n",
              "2013-01-01 01:00:00  34.36\n",
              "2013-01-01 02:00:00  34.74\n",
              "2013-01-01 03:00:00  35.26\n",
              "2013-01-01 04:00:00  35.23\n",
              "2013-01-01 05:00:00  35.29\n",
              "2013-01-01 06:00:00  35.64\n",
              "2013-01-01 07:00:00  36.02\n",
              "2013-01-01 08:00:00  36.10\n",
              "2013-01-01 09:00:00  36.98\n",
              "2013-01-01 10:00:00  37.01\n",
              "2013-01-01 11:00:00  36.75\n",
              "2013-01-01 12:00:00  36.01\n",
              "2013-01-01 13:00:00  35.66\n",
              "2013-01-01 14:00:00  34.72\n",
              "2013-01-01 15:00:00  33.90\n",
              "2013-01-01 16:00:00  32.62\n",
              "2013-01-01 17:00:00  31.51\n",
              "2013-01-01 18:00:00  30.73\n",
              "2013-01-01 19:00:00  29.50\n",
              "2013-01-01 20:00:00  26.94\n",
              "2013-01-01 21:00:00  25.47\n",
              "2013-01-01 22:00:00  23.84\n",
              "2013-01-01 23:00:00  22.55"
            ]
          },
          "metadata": {
            "tags": []
          },
          "execution_count": 305
        }
      ]
    },
    {
      "cell_type": "code",
      "metadata": {
        "colab": {
          "base_uri": "https://localhost:8080/"
        },
        "id": "5R5cxgDnZ2gg",
        "outputId": "0400995f-7b54-4ff8-abea-92113004df92"
      },
      "source": [
        "# fit model\n",
        "model = ARIMA(df, order=(3, 0, 0))\n",
        "model_fit = model.fit(disp=1)"
      ],
      "execution_count": null,
      "outputs": [
        {
          "output_type": "stream",
          "text": [
            "/usr/local/lib/python3.6/dist-packages/statsmodels/tsa/base/tsa_model.py:165: ValueWarning: No frequency information was provided, so inferred frequency H will be used.\n",
            "  % freq, ValueWarning)\n"
          ],
          "name": "stderr"
        }
      ]
    },
    {
      "cell_type": "code",
      "metadata": {
        "colab": {
          "base_uri": "https://localhost:8080/",
          "height": 186
        },
        "id": "aa5n1Ahwx1oK",
        "outputId": "1d291b5a-4a39-4aaa-a7d4-edbf3480913c"
      },
      "source": [
        "print(model.order)\n",
        "print(model.seasonal_order)"
      ],
      "execution_count": null,
      "outputs": [
        {
          "output_type": "error",
          "ename": "AttributeError",
          "evalue": "ignored",
          "traceback": [
            "\u001b[0;31m---------------------------------------------------------------------------\u001b[0m",
            "\u001b[0;31mAttributeError\u001b[0m                            Traceback (most recent call last)",
            "\u001b[0;32m<ipython-input-392-de5eab054e47>\u001b[0m in \u001b[0;36m<module>\u001b[0;34m()\u001b[0m\n\u001b[0;32m----> 1\u001b[0;31m \u001b[0mprint\u001b[0m\u001b[0;34m(\u001b[0m\u001b[0mmodel\u001b[0m\u001b[0;34m.\u001b[0m\u001b[0morder\u001b[0m\u001b[0;34m)\u001b[0m\u001b[0;34m\u001b[0m\u001b[0;34m\u001b[0m\u001b[0m\n\u001b[0m\u001b[1;32m      2\u001b[0m \u001b[0mprint\u001b[0m\u001b[0;34m(\u001b[0m\u001b[0mmodel\u001b[0m\u001b[0;34m.\u001b[0m\u001b[0mseasonal_order\u001b[0m\u001b[0;34m)\u001b[0m\u001b[0;34m\u001b[0m\u001b[0;34m\u001b[0m\u001b[0m\n",
            "\u001b[0;31mAttributeError\u001b[0m: 'ARMA' object has no attribute 'order'"
          ]
        }
      ]
    },
    {
      "cell_type": "code",
      "metadata": {
        "colab": {
          "base_uri": "https://localhost:8080/",
          "height": 1000
        },
        "id": "v0IUZY_fpg2s",
        "outputId": "d86bb8b8-c1b1-429b-f819-69541deabac3"
      },
      "source": [
        "print(model_fit.summary())\n",
        "# plot residual errors\n",
        "residuals = pd.DataFrame(model_fit.resid)\n",
        "residuals.plot()\n",
        "plt.show()\n",
        "residuals.plot(kind='kde')\n",
        "plt.show()\n",
        "print(residuals.describe())"
      ],
      "execution_count": null,
      "outputs": [
        {
          "output_type": "stream",
          "text": [
            "                              ARMA Model Results                              \n",
            "==============================================================================\n",
            "Dep. Variable:                   data   No. Observations:                   24\n",
            "Model:                     ARMA(3, 0)   Log Likelihood                 -19.607\n",
            "Method:                       css-mle   S.D. of innovations              0.477\n",
            "Date:                Sun, 06 Dec 2020   AIC                             49.214\n",
            "Time:                        02:08:45   BIC                             55.104\n",
            "Sample:                    01-01-2013   HQIC                            50.777\n",
            "                         - 01-01-2013                                         \n",
            "==============================================================================\n",
            "                 coef    std err          z      P>|z|      [0.025      0.975]\n",
            "------------------------------------------------------------------------------\n",
            "const         29.8833      3.892      7.679      0.000      22.256      37.511\n",
            "ar.L1.data     1.5304      0.189      8.116      0.000       1.161       1.900\n",
            "ar.L2.data    -0.2113      0.375     -0.564      0.579      -0.946       0.524\n",
            "ar.L3.data    -0.3466      0.197     -1.757      0.094      -0.733       0.040\n",
            "                                    Roots                                    \n",
            "=============================================================================\n",
            "                  Real          Imaginary           Modulus         Frequency\n",
            "-----------------------------------------------------------------------------\n",
            "AR.1            1.0296           -0.1441j            1.0397           -0.0221\n",
            "AR.2            1.0296           +0.1441j            1.0397            0.0221\n",
            "AR.3           -2.6689           -0.0000j            2.6689           -0.5000\n",
            "-----------------------------------------------------------------------------\n"
          ],
          "name": "stdout"
        },
        {
          "output_type": "display_data",
          "data": {
            "image/png": "[encoded data removed]",
            "text/plain": [
              "<Figure size 432x288 with 1 Axes>"
            ]
          },
          "metadata": {
            "tags": [],
            "needs_background": "light"
          }
        },
        {
          "output_type": "display_data",
          "data": {
            "image/png": "[encoded data removed]",
            "text/plain": [
              "<Figure size 432x288 with 1 Axes>"
            ]
          },
          "metadata": {
            "tags": [],
            "needs_background": "light"
          }
        },
        {
          "output_type": "stream",
          "text": [
            "               0\n",
            "count  24.000000\n",
            "mean    0.157331\n",
            "std     1.042421\n",
            "min    -1.613917\n",
            "25%    -0.310122\n",
            "50%    -0.036833\n",
            "75%     0.323789\n",
            "max     4.496673\n"
          ],
          "name": "stdout"
        }
      ]
    },
    {
      "cell_type": "code",
      "metadata": {
        "id": "qmKQWXDhipZx"
      },
      "source": [
        "n = 1"
      ],
      "execution_count": null,
      "outputs": []
    },
    {
      "cell_type": "code",
      "metadata": {
        "id": "IawGiqk0aonB"
      },
      "source": [
        "pred = model_fit.predict(start=datetime.datetime.strptime(endDate, \"%Y-%m-%d\") + datetime.timedelta(days=1), \n",
        "                         end=datetime.datetime.strptime(endDate, \"%Y-%m-%d\") + datetime.timedelta(days=n, hours=23), dynamic=False)"
      ],
      "execution_count": null,
      "outputs": []
    },
    {
      "cell_type": "code",
      "metadata": {
        "colab": {
          "base_uri": "https://localhost:8080/"
        },
        "id": "zMpBFZ6MeZo5",
        "outputId": "1d5774e7-138f-49c9-bb2c-835a4a35a2a4"
      },
      "source": [
        "len(pred)"
      ],
      "execution_count": null,
      "outputs": [
        {
          "output_type": "execute_result",
          "data": {
            "text/plain": [
              "24"
            ]
          },
          "metadata": {
            "tags": []
          },
          "execution_count": 396
        }
      ]
    },
    {
      "cell_type": "code",
      "metadata": {
        "colab": {
          "base_uri": "https://localhost:8080/"
        },
        "id": "Sal6xhBIeicP",
        "outputId": "ec96236b-6b29-4f73-9c2e-6a68b2651a91"
      },
      "source": [
        "pred"
      ],
      "execution_count": null,
      "outputs": [
        {
          "output_type": "execute_result",
          "data": {
            "text/plain": [
              "2013-01-02 00:00:00    21.467193\n",
              "2013-01-02 01:00:00    20.647661\n",
              "2013-01-02 02:00:00    20.069410\n",
              "2013-01-02 03:00:00    19.732962\n",
              "2013-01-02 04:00:00    19.624326\n",
              "2013-01-02 05:00:00    19.729606\n",
              "2013-01-02 06:00:00    20.030304\n",
              "2013-01-02 07:00:00    20.505904\n",
              "2013-01-02 08:00:00    21.133730\n",
              "2013-01-02 09:00:00    21.889827\n",
              "2013-01-02 10:00:00    22.749435\n",
              "2013-01-02 11:00:00    23.687588\n",
              "2013-01-02 12:00:00    24.679609\n",
              "2013-01-02 13:00:00    25.701593\n",
              "2013-01-02 14:00:00    26.730823\n",
              "2013-01-02 15:00:00    27.746139\n",
              "2013-01-02 16:00:00    28.728244\n",
              "2013-01-02 17:00:00    29.659950\n",
              "2013-01-02 18:00:00    30.526367\n",
              "2013-01-02 19:00:00    31.315027\n",
              "2013-01-02 20:00:00    32.015955\n",
              "2013-01-02 21:00:00    32.621676\n",
              "2013-01-02 22:00:00    33.127188\n",
              "2013-01-02 23:00:00    33.529865\n",
              "Freq: H, dtype: float64"
            ]
          },
          "metadata": {
            "tags": []
          },
          "execution_count": 397
        }
      ]
    },
    {
      "cell_type": "code",
      "metadata": {
        "id": "zDorl7holeqW"
      },
      "source": [
        "ARIMA?"
      ],
      "execution_count": null,
      "outputs": []
    },
    {
      "cell_type": "code",
      "metadata": {
        "id": "e5Ro1rKHmnMI"
      },
      "source": [
        ""
      ],
      "execution_count": null,
      "outputs": []
    }
  ]
}