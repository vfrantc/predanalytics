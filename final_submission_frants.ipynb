{
  "nbformat": 4,
  "nbformat_minor": 0,
  "metadata": {
    "colab": {
      "name": "final_submission_frants.ipynb",
      "provenance": [],
      "authorship_tag": "ABX9TyNvBcZ83M26pVuqwZdzSd1k",
      "include_colab_link": true
    },
    "kernelspec": {
      "name": "python3",
      "display_name": "Python 3"
    }
  },
  "cells": [
    {
      "cell_type": "markdown",
      "metadata": {
        "id": "view-in-github",
        "colab_type": "text"
      },
      "source": [
        "<a href=\"https://colab.research.google.com/github/vfrantc/predanalytics/blob/main/final_submission_frants.ipynb\" target=\"_parent\"><img src=\"https://colab.research.google.com/assets/colab-badge.svg\" alt=\"Open In Colab\"/></a>"
      ]
    },
    {
      "cell_type": "code",
      "metadata": {
        "colab": {
          "base_uri": "https://localhost:8080/"
        },
        "id": "SHAfteiWtDa0",
        "outputId": "e0d4f320-55b1-4528-e929-d1d7329232e3"
      },
      "source": [
        "!apt install libgraphviz-dev\n",
        "!pip install -q pygraphviz\n",
        "!pip install -q pomegranate"
      ],
      "execution_count": null,
      "outputs": [
        {
          "output_type": "stream",
          "text": [
            "Reading package lists... Done\n",
            "Building dependency tree       \n",
            "Reading state information... Done\n",
            "libgraphviz-dev is already the newest version (2.40.1-2).\n",
            "0 upgraded, 0 newly installed, 0 to remove and 14 not upgraded.\n"
          ],
          "name": "stdout"
        }
      ]
    },
    {
      "cell_type": "code",
      "metadata": {
        "colab": {
          "base_uri": "https://localhost:8080/"
        },
        "id": "D-oQ4tdlsE4S",
        "outputId": "4ae7adb1-868d-434d-b581-b3193f7f952d"
      },
      "source": [
        "import os\n",
        "import datetime\n",
        "from collections import defaultdict\n",
        "\n",
        "import numpy as np\n",
        "import pandas as pd\n",
        "\n",
        "from scipy import stats\n",
        "from sklearn.compose import ColumnTransformer\n",
        "from sklearn.compose import make_column_transformer\n",
        "from sklearn.pipeline import make_pipeline\n",
        "from sklearn.impute import SimpleImputer\n",
        "from sklearn.preprocessing import StandardScaler\n",
        "from sklearn.preprocessing import OneHotEncoder\n",
        "from sklearn.preprocessing import PolynomialFeatures\n",
        "from sklearn.linear_model import LinearRegression\n",
        "from sklearn.linear_model import Ridge\n",
        "from sklearn.linear_model import Lasso\n",
        "from sklearn.linear_model import ElasticNet\n",
        "from sklearn.ensemble import RandomForestRegressor\n",
        "from sklearn.tree import DecisionTreeRegressor\n",
        "from sklearn.model_selection import train_test_split\n",
        "from sklearn.model_selection import cross_val_score\n",
        "from sklearn.model_selection import GridSearchCV\n",
        "from sklearn.model_selection import KFold\n",
        "from sklearn.pipeline import Pipeline\n",
        "from sklearn.metrics import r2_score\n",
        "\n",
        "from sklearn.decomposition import PCA\n",
        "from sklearn.preprocessing import LabelEncoder\n",
        "\n",
        "from statsmodels.tsa.arima_process import ArmaProcess\n",
        "from statsmodels.tsa.statespace.sarimax import SARIMAX\n",
        "from statsmodels.tsa.arima_model import ARIMA\n",
        "\n",
        "import tensorflow as tf\n",
        "from tensorflow.keras import models\n",
        "from tensorflow.keras import layers\n",
        "\n",
        "import pomegranate as pm\n",
        "\n",
        "import matplotlib.pyplot as plt\n",
        "%matplotlib inline"
      ],
      "execution_count": null,
      "outputs": [
        {
          "output_type": "stream",
          "text": [
            "/usr/local/lib/python3.6/dist-packages/statsmodels/tools/_testing.py:19: FutureWarning: pandas.util.testing is deprecated. Use the functions in the public API at pandas.testing instead.\n",
            "  import pandas.util.testing as tm\n"
          ],
          "name": "stderr"
        }
      ]
    },
    {
      "cell_type": "code",
      "metadata": {
        "id": "rjGI_Q4IsVo7"
      },
      "source": [
        "def anova(pred_er, true_er):\n",
        "  F, p = stats.f_oneway(pred_er, true_er)\n",
        "  return p\n",
        "\n",
        "def ttest(pred_er, true_er):\n",
        "  Ts, p = stats.ttest_ind(pred_er, true_er)\n",
        "  return p"
      ],
      "execution_count": null,
      "outputs": []
    },
    {
      "cell_type": "markdown",
      "metadata": {
        "id": "p53nGTX-uhWg"
      },
      "source": [
        "# Load datasheet"
      ]
    },
    {
      "cell_type": "code",
      "metadata": {
        "colab": {
          "base_uri": "https://localhost:8080/"
        },
        "id": "2dXDvYXtq1Cz",
        "outputId": "fe9980ba-268c-402f-d040-e71cf36d09e1"
      },
      "source": [
        "from google.colab import drive\n",
        "drive.mount('/content/drive')\n",
        "!mkdir data\n",
        "!cp '/content/drive/My Drive/pred-analit/GC-Predictive-Analytics-worksheet - Sheet1 - week6.csv' data\n",
        "df = pd.read_csv('data/GC-Predictive-Analytics-worksheet - Sheet1 - week6.csv')\n",
        "df = df.drop([11, 12])\n",
        "df = df.reset_index()\n",
        "del df['cluster']\n",
        "del df['Unnamed: 12']"
      ],
      "execution_count": null,
      "outputs": [
        {
          "output_type": "stream",
          "text": [
            "Drive already mounted at /content/drive; to attempt to forcibly remount, call drive.mount(\"/content/drive\", force_remount=True).\n",
            "mkdir: cannot create directory ‘data’: File exists\n"
          ],
          "name": "stdout"
        }
      ]
    },
    {
      "cell_type": "code",
      "metadata": {
        "colab": {
          "base_uri": "https://localhost:8080/",
          "height": 1000
        },
        "id": "vOvG_2N2u2bf",
        "outputId": "114b2242-db9a-4b35-90a6-81444cd8476d"
      },
      "source": [
        "df"
      ],
      "execution_count": null,
      "outputs": [
        {
          "output_type": "execute_result",
          "data": {
            "text/html": [
              "<div>\n",
              "<style scoped>\n",
              "    .dataframe tbody tr th:only-of-type {\n",
              "        vertical-align: middle;\n",
              "    }\n",
              "\n",
              "    .dataframe tbody tr th {\n",
              "        vertical-align: top;\n",
              "    }\n",
              "\n",
              "    .dataframe thead th {\n",
              "        text-align: right;\n",
              "    }\n",
              "</style>\n",
              "<table border=\"1\" class=\"dataframe\">\n",
              "  <thead>\n",
              "    <tr style=\"text-align: right;\">\n",
              "      <th></th>\n",
              "      <th>index</th>\n",
              "      <th>Gender</th>\n",
              "      <th>Age</th>\n",
              "      <th>Ethnicity</th>\n",
              "      <th>Income</th>\n",
              "      <th>Work hours</th>\n",
              "      <th>Health condition</th>\n",
              "      <th>Education</th>\n",
              "      <th>Motivation</th>\n",
              "      <th>Attitude</th>\n",
              "      <th>Intention</th>\n",
              "      <th>Ownership</th>\n",
              "      <th>1</th>\n",
              "      <th>ER</th>\n",
              "      <th>2</th>\n",
              "      <th>ER.1</th>\n",
              "      <th>3</th>\n",
              "      <th>ER.2</th>\n",
              "      <th>4</th>\n",
              "      <th>ER.3</th>\n",
              "      <th>5</th>\n",
              "      <th>ER.4</th>\n",
              "      <th>6</th>\n",
              "      <th>ER.5</th>\n",
              "      <th>7</th>\n",
              "      <th>ER.6</th>\n",
              "      <th>8</th>\n",
              "      <th>ER.7</th>\n",
              "      <th>9</th>\n",
              "      <th>ER.8</th>\n",
              "      <th>10</th>\n",
              "      <th>ER.9</th>\n",
              "      <th>11</th>\n",
              "      <th>ER.10</th>\n",
              "      <th>12</th>\n",
              "      <th>ER.11</th>\n",
              "      <th>13</th>\n",
              "      <th>ER.12</th>\n",
              "      <th>14</th>\n",
              "      <th>ER.13</th>\n",
              "      <th>15</th>\n",
              "      <th>ER.14</th>\n",
              "      <th>16 Recommendation</th>\n",
              "      <th>Actual ER</th>\n",
              "      <th>17 Recommendation</th>\n",
              "      <th>Actual ER.1</th>\n",
              "      <th>18 Recommendation</th>\n",
              "      <th>Estimated ER</th>\n",
              "    </tr>\n",
              "  </thead>\n",
              "  <tbody>\n",
              "    <tr>\n",
              "      <th>0</th>\n",
              "      <td>0</td>\n",
              "      <td>Female</td>\n",
              "      <td>44</td>\n",
              "      <td>Caucasian</td>\n",
              "      <td>150,000-199,999</td>\n",
              "      <td>50+ hrs/week</td>\n",
              "      <td>Good</td>\n",
              "      <td>4-year college degree</td>\n",
              "      <td>0.265623</td>\n",
              "      <td>0.526590</td>\n",
              "      <td>0.507169</td>\n",
              "      <td>0.559363</td>\n",
              "      <td>Phy</td>\n",
              "      <td>0.166667</td>\n",
              "      <td>diet</td>\n",
              "      <td>0.714286</td>\n",
              "      <td>diet</td>\n",
              "      <td>0.428571</td>\n",
              "      <td>diet</td>\n",
              "      <td>0.571429</td>\n",
              "      <td>diet</td>\n",
              "      <td>0.750000</td>\n",
              "      <td>diet</td>\n",
              "      <td>0.428571</td>\n",
              "      <td>diet</td>\n",
              "      <td>0.857143</td>\n",
              "      <td>diet</td>\n",
              "      <td>1.0</td>\n",
              "      <td>diet</td>\n",
              "      <td>1.0</td>\n",
              "      <td>diet</td>\n",
              "      <td>0.285714</td>\n",
              "      <td>diet</td>\n",
              "      <td>0.571429</td>\n",
              "      <td>diet</td>\n",
              "      <td>0.500000</td>\n",
              "      <td>Phy</td>\n",
              "      <td>0.0</td>\n",
              "      <td>Phy</td>\n",
              "      <td>0.000000</td>\n",
              "      <td>Phy</td>\n",
              "      <td>0.000000</td>\n",
              "      <td>Phy</td>\n",
              "      <td>0</td>\n",
              "      <td>diet</td>\n",
              "      <td>0.0</td>\n",
              "      <td>NaN</td>\n",
              "      <td>NaN</td>\n",
              "    </tr>\n",
              "    <tr>\n",
              "      <th>1</th>\n",
              "      <td>1</td>\n",
              "      <td>Female</td>\n",
              "      <td>37</td>\n",
              "      <td>Asian</td>\n",
              "      <td>100,000-149,999</td>\n",
              "      <td>16-35 hrs/week</td>\n",
              "      <td>Excellent</td>\n",
              "      <td>2-year college degree</td>\n",
              "      <td>0.386128</td>\n",
              "      <td>0.896973</td>\n",
              "      <td>0.736022</td>\n",
              "      <td>0.924759</td>\n",
              "      <td>diet</td>\n",
              "      <td>0.000000</td>\n",
              "      <td>diet</td>\n",
              "      <td>0.428571</td>\n",
              "      <td>diet</td>\n",
              "      <td>1.000000</td>\n",
              "      <td>diet</td>\n",
              "      <td>0.857143</td>\n",
              "      <td>diet</td>\n",
              "      <td>0.875000</td>\n",
              "      <td>diet</td>\n",
              "      <td>0.857143</td>\n",
              "      <td>diet</td>\n",
              "      <td>1.000000</td>\n",
              "      <td>diet</td>\n",
              "      <td>1.0</td>\n",
              "      <td>diet</td>\n",
              "      <td>1.0</td>\n",
              "      <td>diet</td>\n",
              "      <td>0.857143</td>\n",
              "      <td>diet</td>\n",
              "      <td>0.857143</td>\n",
              "      <td>diet</td>\n",
              "      <td>1.000000</td>\n",
              "      <td>diet</td>\n",
              "      <td>1.0</td>\n",
              "      <td>diet</td>\n",
              "      <td>0.857143</td>\n",
              "      <td>diet</td>\n",
              "      <td>0.428571</td>\n",
              "      <td>Phy</td>\n",
              "      <td>0</td>\n",
              "      <td>diet</td>\n",
              "      <td>0.0</td>\n",
              "      <td>NaN</td>\n",
              "      <td>NaN</td>\n",
              "    </tr>\n",
              "    <tr>\n",
              "      <th>2</th>\n",
              "      <td>2</td>\n",
              "      <td>Female</td>\n",
              "      <td>63</td>\n",
              "      <td>Caucasian</td>\n",
              "      <td>0-24,999</td>\n",
              "      <td>50+ hrs/week</td>\n",
              "      <td>Excellent</td>\n",
              "      <td>2-year college degree</td>\n",
              "      <td>0.147511</td>\n",
              "      <td>0.593162</td>\n",
              "      <td>0.574159</td>\n",
              "      <td>0.928628</td>\n",
              "      <td>diet</td>\n",
              "      <td>0.000000</td>\n",
              "      <td>Phy</td>\n",
              "      <td>0.142857</td>\n",
              "      <td>Phy</td>\n",
              "      <td>0.000000</td>\n",
              "      <td>Phy</td>\n",
              "      <td>0.571429</td>\n",
              "      <td>Phy</td>\n",
              "      <td>0.000000</td>\n",
              "      <td>Phy</td>\n",
              "      <td>0.000000</td>\n",
              "      <td>Phy</td>\n",
              "      <td>0.000000</td>\n",
              "      <td>Phy</td>\n",
              "      <td>0.0</td>\n",
              "      <td>Phy</td>\n",
              "      <td>0.0</td>\n",
              "      <td>Phy</td>\n",
              "      <td>0.000000</td>\n",
              "      <td>Phy</td>\n",
              "      <td>0.000000</td>\n",
              "      <td>Phy</td>\n",
              "      <td>0.000000</td>\n",
              "      <td>diet</td>\n",
              "      <td>1.0</td>\n",
              "      <td>phy</td>\n",
              "      <td>1.000000</td>\n",
              "      <td>diet</td>\n",
              "      <td>0.333333</td>\n",
              "      <td>diet</td>\n",
              "      <td>0.5714285714</td>\n",
              "      <td>NaN</td>\n",
              "      <td>NaN</td>\n",
              "      <td>NaN</td>\n",
              "      <td>NaN</td>\n",
              "    </tr>\n",
              "    <tr>\n",
              "      <th>3</th>\n",
              "      <td>3</td>\n",
              "      <td>Female</td>\n",
              "      <td>37</td>\n",
              "      <td>African American</td>\n",
              "      <td>0-24,999</td>\n",
              "      <td>1-15 hrs/week</td>\n",
              "      <td>Fair</td>\n",
              "      <td>Some college, but no degree</td>\n",
              "      <td>0.492041</td>\n",
              "      <td>0.586625</td>\n",
              "      <td>0.645084</td>\n",
              "      <td>0.799052</td>\n",
              "      <td>Phy</td>\n",
              "      <td>0.000000</td>\n",
              "      <td>diet</td>\n",
              "      <td>0.000000</td>\n",
              "      <td>phy</td>\n",
              "      <td>0.000000</td>\n",
              "      <td>diet</td>\n",
              "      <td>0.000000</td>\n",
              "      <td>diet</td>\n",
              "      <td>0.000000</td>\n",
              "      <td>NaN</td>\n",
              "      <td>NaN</td>\n",
              "      <td>NaN</td>\n",
              "      <td>NaN</td>\n",
              "      <td>NaN</td>\n",
              "      <td>NaN</td>\n",
              "      <td>NaN</td>\n",
              "      <td>NaN</td>\n",
              "      <td>NaN</td>\n",
              "      <td>NaN</td>\n",
              "      <td>NaN</td>\n",
              "      <td>NaN</td>\n",
              "      <td>NaN</td>\n",
              "      <td>NaN</td>\n",
              "      <td>NaN</td>\n",
              "      <td>NaN</td>\n",
              "      <td>NaN</td>\n",
              "      <td>NaN</td>\n",
              "      <td>NaN</td>\n",
              "      <td>NaN</td>\n",
              "      <td>NaN</td>\n",
              "      <td>NaN</td>\n",
              "      <td>NaN</td>\n",
              "      <td>NaN</td>\n",
              "      <td>NaN</td>\n",
              "      <td>NaN</td>\n",
              "    </tr>\n",
              "    <tr>\n",
              "      <th>4</th>\n",
              "      <td>4</td>\n",
              "      <td>Female</td>\n",
              "      <td>62</td>\n",
              "      <td>African American</td>\n",
              "      <td>50,000-99,999</td>\n",
              "      <td>1-15 hrs/week</td>\n",
              "      <td>Good</td>\n",
              "      <td>4-year college degree</td>\n",
              "      <td>0.594119</td>\n",
              "      <td>0.563496</td>\n",
              "      <td>0.659809</td>\n",
              "      <td>0.820454</td>\n",
              "      <td>diet</td>\n",
              "      <td>0.285714</td>\n",
              "      <td>diet</td>\n",
              "      <td>1.000000</td>\n",
              "      <td>Phy</td>\n",
              "      <td>0.470588</td>\n",
              "      <td>diet</td>\n",
              "      <td>0.900000</td>\n",
              "      <td>phy</td>\n",
              "      <td>0.916667</td>\n",
              "      <td>diet</td>\n",
              "      <td>1.000000</td>\n",
              "      <td>diet</td>\n",
              "      <td>0.900000</td>\n",
              "      <td>NaN</td>\n",
              "      <td>NaN</td>\n",
              "      <td>NaN</td>\n",
              "      <td>NaN</td>\n",
              "      <td>NaN</td>\n",
              "      <td>NaN</td>\n",
              "      <td>NaN</td>\n",
              "      <td>NaN</td>\n",
              "      <td>NaN</td>\n",
              "      <td>NaN</td>\n",
              "      <td>NaN</td>\n",
              "      <td>NaN</td>\n",
              "      <td>NaN</td>\n",
              "      <td>NaN</td>\n",
              "      <td>NaN</td>\n",
              "      <td>NaN</td>\n",
              "      <td>NaN</td>\n",
              "      <td>NaN</td>\n",
              "      <td>NaN</td>\n",
              "      <td>NaN</td>\n",
              "      <td>NaN</td>\n",
              "      <td>NaN</td>\n",
              "    </tr>\n",
              "    <tr>\n",
              "      <th>5</th>\n",
              "      <td>5</td>\n",
              "      <td>Male</td>\n",
              "      <td>59</td>\n",
              "      <td>Caucasian</td>\n",
              "      <td>50,000-99,999</td>\n",
              "      <td>36-50 hrs/week</td>\n",
              "      <td>Fair</td>\n",
              "      <td>4-year college degree</td>\n",
              "      <td>0.760602</td>\n",
              "      <td>0.541951</td>\n",
              "      <td>0.750184</td>\n",
              "      <td>0.664756</td>\n",
              "      <td>phy</td>\n",
              "      <td>0.058824</td>\n",
              "      <td>diet</td>\n",
              "      <td>0.500000</td>\n",
              "      <td>diet</td>\n",
              "      <td>0.500000</td>\n",
              "      <td>phy</td>\n",
              "      <td>0.750000</td>\n",
              "      <td>diet</td>\n",
              "      <td>0.300000</td>\n",
              "      <td>NaN</td>\n",
              "      <td>NaN</td>\n",
              "      <td>NaN</td>\n",
              "      <td>NaN</td>\n",
              "      <td>NaN</td>\n",
              "      <td>NaN</td>\n",
              "      <td>NaN</td>\n",
              "      <td>NaN</td>\n",
              "      <td>NaN</td>\n",
              "      <td>NaN</td>\n",
              "      <td>NaN</td>\n",
              "      <td>NaN</td>\n",
              "      <td>NaN</td>\n",
              "      <td>NaN</td>\n",
              "      <td>NaN</td>\n",
              "      <td>NaN</td>\n",
              "      <td>NaN</td>\n",
              "      <td>NaN</td>\n",
              "      <td>NaN</td>\n",
              "      <td>NaN</td>\n",
              "      <td>NaN</td>\n",
              "      <td>NaN</td>\n",
              "      <td>NaN</td>\n",
              "      <td>NaN</td>\n",
              "      <td>NaN</td>\n",
              "      <td>NaN</td>\n",
              "    </tr>\n",
              "    <tr>\n",
              "      <th>6</th>\n",
              "      <td>6</td>\n",
              "      <td>Female</td>\n",
              "      <td>28</td>\n",
              "      <td>Asian</td>\n",
              "      <td>50,000-99,999</td>\n",
              "      <td>50+ hrs/week</td>\n",
              "      <td>Good</td>\n",
              "      <td>4-year college degree</td>\n",
              "      <td>0.653543</td>\n",
              "      <td>0.731372</td>\n",
              "      <td>0.751441</td>\n",
              "      <td>0.976597</td>\n",
              "      <td>phy</td>\n",
              "      <td>0.250000</td>\n",
              "      <td>diet</td>\n",
              "      <td>0.000000</td>\n",
              "      <td>diet</td>\n",
              "      <td>0.100000</td>\n",
              "      <td>NaN</td>\n",
              "      <td>NaN</td>\n",
              "      <td>NaN</td>\n",
              "      <td>NaN</td>\n",
              "      <td>NaN</td>\n",
              "      <td>NaN</td>\n",
              "      <td>NaN</td>\n",
              "      <td>NaN</td>\n",
              "      <td>NaN</td>\n",
              "      <td>NaN</td>\n",
              "      <td>NaN</td>\n",
              "      <td>NaN</td>\n",
              "      <td>NaN</td>\n",
              "      <td>NaN</td>\n",
              "      <td>NaN</td>\n",
              "      <td>NaN</td>\n",
              "      <td>NaN</td>\n",
              "      <td>NaN</td>\n",
              "      <td>NaN</td>\n",
              "      <td>NaN</td>\n",
              "      <td>NaN</td>\n",
              "      <td>NaN</td>\n",
              "      <td>NaN</td>\n",
              "      <td>NaN</td>\n",
              "      <td>NaN</td>\n",
              "      <td>NaN</td>\n",
              "      <td>NaN</td>\n",
              "      <td>NaN</td>\n",
              "      <td>NaN</td>\n",
              "      <td>NaN</td>\n",
              "    </tr>\n",
              "    <tr>\n",
              "      <th>7</th>\n",
              "      <td>7</td>\n",
              "      <td>Male</td>\n",
              "      <td>60</td>\n",
              "      <td>Asian</td>\n",
              "      <td>150,000-199,999</td>\n",
              "      <td>50+ hrs/week</td>\n",
              "      <td>Good</td>\n",
              "      <td>Some graduate work</td>\n",
              "      <td>0.736708</td>\n",
              "      <td>0.675436</td>\n",
              "      <td>0.760342</td>\n",
              "      <td>0.974514</td>\n",
              "      <td>phy</td>\n",
              "      <td>0.166667</td>\n",
              "      <td>diet</td>\n",
              "      <td>0.000000</td>\n",
              "      <td>diet</td>\n",
              "      <td>0.300000</td>\n",
              "      <td>NaN</td>\n",
              "      <td>NaN</td>\n",
              "      <td>NaN</td>\n",
              "      <td>NaN</td>\n",
              "      <td>NaN</td>\n",
              "      <td>NaN</td>\n",
              "      <td>NaN</td>\n",
              "      <td>NaN</td>\n",
              "      <td>NaN</td>\n",
              "      <td>NaN</td>\n",
              "      <td>NaN</td>\n",
              "      <td>NaN</td>\n",
              "      <td>NaN</td>\n",
              "      <td>NaN</td>\n",
              "      <td>NaN</td>\n",
              "      <td>NaN</td>\n",
              "      <td>NaN</td>\n",
              "      <td>NaN</td>\n",
              "      <td>NaN</td>\n",
              "      <td>NaN</td>\n",
              "      <td>NaN</td>\n",
              "      <td>NaN</td>\n",
              "      <td>NaN</td>\n",
              "      <td>NaN</td>\n",
              "      <td>NaN</td>\n",
              "      <td>NaN</td>\n",
              "      <td>NaN</td>\n",
              "      <td>NaN</td>\n",
              "      <td>NaN</td>\n",
              "      <td>NaN</td>\n",
              "    </tr>\n",
              "    <tr>\n",
              "      <th>8</th>\n",
              "      <td>8</td>\n",
              "      <td>Male</td>\n",
              "      <td>57</td>\n",
              "      <td>African American</td>\n",
              "      <td>25,000-49,000</td>\n",
              "      <td>50+ hrs/week</td>\n",
              "      <td>Excellent</td>\n",
              "      <td>Some graduate work</td>\n",
              "      <td>0.550593</td>\n",
              "      <td>0.765072</td>\n",
              "      <td>0.800639</td>\n",
              "      <td>0.804968</td>\n",
              "      <td>diet</td>\n",
              "      <td>0.833333</td>\n",
              "      <td>Phy</td>\n",
              "      <td>0.857143</td>\n",
              "      <td>Phy</td>\n",
              "      <td>0.857143</td>\n",
              "      <td>Phy</td>\n",
              "      <td>1.000000</td>\n",
              "      <td>Phy</td>\n",
              "      <td>1.000000</td>\n",
              "      <td>Phy</td>\n",
              "      <td>0.714286</td>\n",
              "      <td>Phy</td>\n",
              "      <td>1.000000</td>\n",
              "      <td>Phy</td>\n",
              "      <td>1.0</td>\n",
              "      <td>Phy</td>\n",
              "      <td>1.0</td>\n",
              "      <td>Phy</td>\n",
              "      <td>1.000000</td>\n",
              "      <td>Phy</td>\n",
              "      <td>1.000000</td>\n",
              "      <td>Phy</td>\n",
              "      <td>0.833333</td>\n",
              "      <td>Phy</td>\n",
              "      <td>1.0</td>\n",
              "      <td>Phy</td>\n",
              "      <td>1.000000</td>\n",
              "      <td>Phy</td>\n",
              "      <td>1.000000</td>\n",
              "      <td>NaN</td>\n",
              "      <td>DROPPED</td>\n",
              "      <td>NaN</td>\n",
              "      <td>NaN</td>\n",
              "      <td>NaN</td>\n",
              "      <td>NaN</td>\n",
              "    </tr>\n",
              "    <tr>\n",
              "      <th>9</th>\n",
              "      <td>9</td>\n",
              "      <td>Female</td>\n",
              "      <td>47</td>\n",
              "      <td>Caucasian</td>\n",
              "      <td>0-24,999</td>\n",
              "      <td>36-50 hrs/week</td>\n",
              "      <td>Very Good</td>\n",
              "      <td>4-year college degree</td>\n",
              "      <td>0.131661</td>\n",
              "      <td>0.422950</td>\n",
              "      <td>0.417563</td>\n",
              "      <td>0.742601</td>\n",
              "      <td>NaN</td>\n",
              "      <td>NaN</td>\n",
              "      <td>NaN</td>\n",
              "      <td>NaN</td>\n",
              "      <td>NaN</td>\n",
              "      <td>NaN</td>\n",
              "      <td>NaN</td>\n",
              "      <td>NaN</td>\n",
              "      <td>NaN</td>\n",
              "      <td>NaN</td>\n",
              "      <td>NaN</td>\n",
              "      <td>NaN</td>\n",
              "      <td>NaN</td>\n",
              "      <td>NaN</td>\n",
              "      <td>NaN</td>\n",
              "      <td>NaN</td>\n",
              "      <td>NaN</td>\n",
              "      <td>NaN</td>\n",
              "      <td>NaN</td>\n",
              "      <td>NaN</td>\n",
              "      <td>NaN</td>\n",
              "      <td>NaN</td>\n",
              "      <td>NaN</td>\n",
              "      <td>NaN</td>\n",
              "      <td>NaN</td>\n",
              "      <td>NaN</td>\n",
              "      <td>NaN</td>\n",
              "      <td>NaN</td>\n",
              "      <td>NaN</td>\n",
              "      <td>NaN</td>\n",
              "      <td>NaN</td>\n",
              "      <td>NaN</td>\n",
              "      <td>NaN</td>\n",
              "      <td>NaN</td>\n",
              "      <td>NaN</td>\n",
              "      <td>NaN</td>\n",
              "    </tr>\n",
              "    <tr>\n",
              "      <th>10</th>\n",
              "      <td>10</td>\n",
              "      <td>Female</td>\n",
              "      <td>40-50's</td>\n",
              "      <td>African American</td>\n",
              "      <td>50,000-99,999</td>\n",
              "      <td>50+ hrs/week</td>\n",
              "      <td>Very Good</td>\n",
              "      <td>Some college, but no degree</td>\n",
              "      <td>0.639898</td>\n",
              "      <td>0.696926</td>\n",
              "      <td>0.704242</td>\n",
              "      <td>0.615685</td>\n",
              "      <td>NaN</td>\n",
              "      <td>NaN</td>\n",
              "      <td>NaN</td>\n",
              "      <td>NaN</td>\n",
              "      <td>NaN</td>\n",
              "      <td>NaN</td>\n",
              "      <td>NaN</td>\n",
              "      <td>NaN</td>\n",
              "      <td>NaN</td>\n",
              "      <td>NaN</td>\n",
              "      <td>NaN</td>\n",
              "      <td>NaN</td>\n",
              "      <td>NaN</td>\n",
              "      <td>NaN</td>\n",
              "      <td>NaN</td>\n",
              "      <td>NaN</td>\n",
              "      <td>NaN</td>\n",
              "      <td>NaN</td>\n",
              "      <td>NaN</td>\n",
              "      <td>NaN</td>\n",
              "      <td>NaN</td>\n",
              "      <td>NaN</td>\n",
              "      <td>NaN</td>\n",
              "      <td>NaN</td>\n",
              "      <td>NaN</td>\n",
              "      <td>NaN</td>\n",
              "      <td>NaN</td>\n",
              "      <td>NaN</td>\n",
              "      <td>NaN</td>\n",
              "      <td>NaN</td>\n",
              "      <td>NaN</td>\n",
              "      <td>NaN</td>\n",
              "      <td>NaN</td>\n",
              "      <td>NaN</td>\n",
              "      <td>NaN</td>\n",
              "      <td>NaN</td>\n",
              "    </tr>\n",
              "    <tr>\n",
              "      <th>11</th>\n",
              "      <td>13</td>\n",
              "      <td>Male</td>\n",
              "      <td>40</td>\n",
              "      <td>HIspanic</td>\n",
              "      <td>0-24,999</td>\n",
              "      <td>50+ hrs/week</td>\n",
              "      <td>Fair</td>\n",
              "      <td>4-year college degree</td>\n",
              "      <td>0.689156</td>\n",
              "      <td>0.647716</td>\n",
              "      <td>0.738081</td>\n",
              "      <td>0.975890</td>\n",
              "      <td>diet</td>\n",
              "      <td>0.000000</td>\n",
              "      <td>diet</td>\n",
              "      <td>0.000000</td>\n",
              "      <td>diet</td>\n",
              "      <td>0.285714</td>\n",
              "      <td></td>\n",
              "      <td>0.000000</td>\n",
              "      <td>diet</td>\n",
              "      <td>0.125000</td>\n",
              "      <td>diet</td>\n",
              "      <td>0.428571</td>\n",
              "      <td>diet</td>\n",
              "      <td>0.000000</td>\n",
              "      <td>diet</td>\n",
              "      <td>0.0</td>\n",
              "      <td>diet</td>\n",
              "      <td>0.0</td>\n",
              "      <td>diet</td>\n",
              "      <td>0.000000</td>\n",
              "      <td>diet</td>\n",
              "      <td>0.000000</td>\n",
              "      <td>diet</td>\n",
              "      <td>0.000000</td>\n",
              "      <td>diet</td>\n",
              "      <td>0.0</td>\n",
              "      <td>diet</td>\n",
              "      <td>0.000000</td>\n",
              "      <td>diet</td>\n",
              "      <td>0.000000</td>\n",
              "      <td>NaN</td>\n",
              "      <td>NaN</td>\n",
              "      <td>NaN</td>\n",
              "      <td>NaN</td>\n",
              "      <td>NaN</td>\n",
              "      <td>NaN</td>\n",
              "    </tr>\n",
              "    <tr>\n",
              "      <th>12</th>\n",
              "      <td>14</td>\n",
              "      <td>Male</td>\n",
              "      <td>34</td>\n",
              "      <td>Asian</td>\n",
              "      <td>100,000-149,999</td>\n",
              "      <td>36-50 hrs/week</td>\n",
              "      <td>Good</td>\n",
              "      <td>Some college, but no degree</td>\n",
              "      <td>0.653392</td>\n",
              "      <td>0.656563</td>\n",
              "      <td>0.732841</td>\n",
              "      <td>0.645978</td>\n",
              "      <td>Phy</td>\n",
              "      <td>0.000000</td>\n",
              "      <td>diet</td>\n",
              "      <td>0.000000</td>\n",
              "      <td>diet</td>\n",
              "      <td>0.000000</td>\n",
              "      <td>diet</td>\n",
              "      <td>0.000000</td>\n",
              "      <td>diet</td>\n",
              "      <td>0.000000</td>\n",
              "      <td>Phy</td>\n",
              "      <td>0.000000</td>\n",
              "      <td>Phy</td>\n",
              "      <td>0.000000</td>\n",
              "      <td>Phy</td>\n",
              "      <td>0.0</td>\n",
              "      <td>Phy</td>\n",
              "      <td>0.0</td>\n",
              "      <td>Phy</td>\n",
              "      <td>0.000000</td>\n",
              "      <td>diet</td>\n",
              "      <td>0.000000</td>\n",
              "      <td>diet</td>\n",
              "      <td>0.000000</td>\n",
              "      <td>Phy</td>\n",
              "      <td>0.0</td>\n",
              "      <td>Phy</td>\n",
              "      <td>0.000000</td>\n",
              "      <td>Phy</td>\n",
              "      <td>0.000000</td>\n",
              "      <td>NaN</td>\n",
              "      <td>NaN</td>\n",
              "      <td>NaN</td>\n",
              "      <td>NaN</td>\n",
              "      <td>NaN</td>\n",
              "      <td>NaN</td>\n",
              "    </tr>\n",
              "    <tr>\n",
              "      <th>13</th>\n",
              "      <td>15</td>\n",
              "      <td>Female</td>\n",
              "      <td>63</td>\n",
              "      <td>Indian/ Asian</td>\n",
              "      <td>NaN</td>\n",
              "      <td>NaN</td>\n",
              "      <td>NaN</td>\n",
              "      <td>NaN</td>\n",
              "      <td>NaN</td>\n",
              "      <td>NaN</td>\n",
              "      <td>NaN</td>\n",
              "      <td>NaN</td>\n",
              "      <td>Phy</td>\n",
              "      <td>0.000000</td>\n",
              "      <td>diet</td>\n",
              "      <td>0.000000</td>\n",
              "      <td>diet</td>\n",
              "      <td>0.000000</td>\n",
              "      <td>diet</td>\n",
              "      <td>0.000000</td>\n",
              "      <td>diet</td>\n",
              "      <td>0.000000</td>\n",
              "      <td>Phy</td>\n",
              "      <td>0.000000</td>\n",
              "      <td>Phy</td>\n",
              "      <td>0.000000</td>\n",
              "      <td>Phy</td>\n",
              "      <td>0.0</td>\n",
              "      <td>Phy</td>\n",
              "      <td>0.0</td>\n",
              "      <td>Phy</td>\n",
              "      <td>0.000000</td>\n",
              "      <td>Phy</td>\n",
              "      <td>0.000000</td>\n",
              "      <td>Phy</td>\n",
              "      <td>0.000000</td>\n",
              "      <td>Phy</td>\n",
              "      <td>0.0</td>\n",
              "      <td>Phy</td>\n",
              "      <td>0.000000</td>\n",
              "      <td>Phy</td>\n",
              "      <td>0.000000</td>\n",
              "      <td>NaN</td>\n",
              "      <td>NaN</td>\n",
              "      <td>NaN</td>\n",
              "      <td>NaN</td>\n",
              "      <td>NaN</td>\n",
              "      <td>NaN</td>\n",
              "    </tr>\n",
              "    <tr>\n",
              "      <th>14</th>\n",
              "      <td>16</td>\n",
              "      <td>Female</td>\n",
              "      <td>49</td>\n",
              "      <td>African American</td>\n",
              "      <td>NaN</td>\n",
              "      <td>NaN</td>\n",
              "      <td>NaN</td>\n",
              "      <td>NaN</td>\n",
              "      <td>NaN</td>\n",
              "      <td>NaN</td>\n",
              "      <td>NaN</td>\n",
              "      <td>NaN</td>\n",
              "      <td>Phy</td>\n",
              "      <td>0.166667</td>\n",
              "      <td>diet</td>\n",
              "      <td>0.142857</td>\n",
              "      <td>diet</td>\n",
              "      <td>0.285714</td>\n",
              "      <td>diet</td>\n",
              "      <td>0.285714</td>\n",
              "      <td>diet</td>\n",
              "      <td>0.125000</td>\n",
              "      <td>Phy</td>\n",
              "      <td>0.142857</td>\n",
              "      <td>Phy</td>\n",
              "      <td>0.000000</td>\n",
              "      <td>Phy</td>\n",
              "      <td>0.0</td>\n",
              "      <td>Phy</td>\n",
              "      <td>0.0</td>\n",
              "      <td>Phy</td>\n",
              "      <td>0.000000</td>\n",
              "      <td>diet</td>\n",
              "      <td>0.000000</td>\n",
              "      <td>diet</td>\n",
              "      <td>0.000000</td>\n",
              "      <td>Phy</td>\n",
              "      <td>0.0</td>\n",
              "      <td>Phy</td>\n",
              "      <td>0.000000</td>\n",
              "      <td>Phy</td>\n",
              "      <td>0.000000</td>\n",
              "      <td>NaN</td>\n",
              "      <td>NaN</td>\n",
              "      <td>NaN</td>\n",
              "      <td>NaN</td>\n",
              "      <td>NaN</td>\n",
              "      <td>NaN</td>\n",
              "    </tr>\n",
              "    <tr>\n",
              "      <th>15</th>\n",
              "      <td>17</td>\n",
              "      <td>Male</td>\n",
              "      <td>81</td>\n",
              "      <td>Caucasian</td>\n",
              "      <td>25,000-49,000</td>\n",
              "      <td>36-50 hrs/week</td>\n",
              "      <td>Good</td>\n",
              "      <td>2-year college degree</td>\n",
              "      <td>0.101779</td>\n",
              "      <td>0.989535</td>\n",
              "      <td>0.849737</td>\n",
              "      <td>0.919458</td>\n",
              "      <td>Phy</td>\n",
              "      <td>0.000000</td>\n",
              "      <td>diet</td>\n",
              "      <td>0.000000</td>\n",
              "      <td>diet</td>\n",
              "      <td>0.000000</td>\n",
              "      <td>diet</td>\n",
              "      <td>0.000000</td>\n",
              "      <td>diet</td>\n",
              "      <td>0.000000</td>\n",
              "      <td>diet</td>\n",
              "      <td>0.000000</td>\n",
              "      <td>diet</td>\n",
              "      <td>0.000000</td>\n",
              "      <td>diet</td>\n",
              "      <td>0.0</td>\n",
              "      <td>diet</td>\n",
              "      <td>0.0</td>\n",
              "      <td>diet</td>\n",
              "      <td>0.000000</td>\n",
              "      <td>diet</td>\n",
              "      <td>0.000000</td>\n",
              "      <td>diet</td>\n",
              "      <td>0.000000</td>\n",
              "      <td>diet</td>\n",
              "      <td>0.0</td>\n",
              "      <td>diet</td>\n",
              "      <td>0.000000</td>\n",
              "      <td>diet</td>\n",
              "      <td>0.000000</td>\n",
              "      <td>NaN</td>\n",
              "      <td>NaN</td>\n",
              "      <td>NaN</td>\n",
              "      <td>NaN</td>\n",
              "      <td>NaN</td>\n",
              "      <td>NaN</td>\n",
              "    </tr>\n",
              "  </tbody>\n",
              "</table>\n",
              "</div>"
            ],
            "text/plain": [
              "    index  Gender      Age  ... Actual ER.1 18 Recommendation Estimated ER\n",
              "0       0  Female       44  ...         0.0               NaN          NaN\n",
              "1       1  Female       37  ...         0.0               NaN          NaN\n",
              "2       2  Female       63  ...         NaN               NaN          NaN\n",
              "3       3  Female       37  ...         NaN               NaN          NaN\n",
              "4       4  Female       62  ...         NaN               NaN          NaN\n",
              "5       5    Male       59  ...         NaN               NaN          NaN\n",
              "6       6  Female       28  ...         NaN               NaN          NaN\n",
              "7       7    Male       60  ...         NaN               NaN          NaN\n",
              "8       8    Male       57  ...         NaN               NaN          NaN\n",
              "9       9  Female       47  ...         NaN               NaN          NaN\n",
              "10     10  Female  40-50's  ...         NaN               NaN          NaN\n",
              "11     13    Male       40  ...         NaN               NaN          NaN\n",
              "12     14    Male       34  ...         NaN               NaN          NaN\n",
              "13     15  Female       63  ...         NaN               NaN          NaN\n",
              "14     16  Female       49  ...         NaN               NaN          NaN\n",
              "15     17    Male       81  ...         NaN               NaN          NaN\n",
              "\n",
              "[16 rows x 48 columns]"
            ]
          },
          "metadata": {
            "tags": []
          },
          "execution_count": 5
        }
      ]
    },
    {
      "cell_type": "markdown",
      "metadata": {
        "id": "3M-jQ-pbwGlG"
      },
      "source": [
        "# Rearange data"
      ]
    },
    {
      "cell_type": "code",
      "metadata": {
        "id": "HLmqqWZevWXH"
      },
      "source": [
        "cat_fields = ['Gender', 'Ethnicity', 'Income', 'Work hours', 'Health condition', 'Education']\n",
        "df[cat_fields] = df[cat_fields].apply(lambda col:pd.Categorical(col).codes).replace(-1,np.nan)\n",
        "\n",
        "df['Age'] = df['Age'].replace(\"40-50's\", '45')\n",
        "df['Age'] = df['Age'].astype('int32')\n",
        "df['Age'] = pd.qcut(df['Age'], 4, labels=False )\n",
        "\n",
        "cont_fields = ['Motivation', 'Attitude', 'Intention', 'Ownership']\n",
        "pca = PCA().fit(df[cont_fields].fillna(0).to_numpy())\n",
        "data = pca.transform(df[cont_fields].fillna(0).to_numpy())\n",
        "df['Factor 1'] = pd.qcut(data[:, 0], 5, labels=False)\n",
        "df['Factor 2'] = pd.qcut(data[:, 1], 5, labels=False)\n",
        "\n",
        "del df['Motivation']\n",
        "del df['Attitude']\n",
        "del df['Intention']\n",
        "del df['Ownership']"
      ],
      "execution_count": null,
      "outputs": []
    },
    {
      "cell_type": "code",
      "metadata": {
        "colab": {
          "base_uri": "https://localhost:8080/",
          "height": 589
        },
        "id": "6zs1UTuBwYQg",
        "outputId": "59da6738-f795-4ac1-e78d-08fdb0adeec7"
      },
      "source": [
        "df"
      ],
      "execution_count": null,
      "outputs": [
        {
          "output_type": "execute_result",
          "data": {
            "text/html": [
              "<div>\n",
              "<style scoped>\n",
              "    .dataframe tbody tr th:only-of-type {\n",
              "        vertical-align: middle;\n",
              "    }\n",
              "\n",
              "    .dataframe tbody tr th {\n",
              "        vertical-align: top;\n",
              "    }\n",
              "\n",
              "    .dataframe thead th {\n",
              "        text-align: right;\n",
              "    }\n",
              "</style>\n",
              "<table border=\"1\" class=\"dataframe\">\n",
              "  <thead>\n",
              "    <tr style=\"text-align: right;\">\n",
              "      <th></th>\n",
              "      <th>index</th>\n",
              "      <th>Gender</th>\n",
              "      <th>Age</th>\n",
              "      <th>Ethnicity</th>\n",
              "      <th>Income</th>\n",
              "      <th>Work hours</th>\n",
              "      <th>Health condition</th>\n",
              "      <th>Education</th>\n",
              "      <th>1</th>\n",
              "      <th>ER</th>\n",
              "      <th>2</th>\n",
              "      <th>ER.1</th>\n",
              "      <th>3</th>\n",
              "      <th>ER.2</th>\n",
              "      <th>4</th>\n",
              "      <th>ER.3</th>\n",
              "      <th>5</th>\n",
              "      <th>ER.4</th>\n",
              "      <th>6</th>\n",
              "      <th>ER.5</th>\n",
              "      <th>7</th>\n",
              "      <th>ER.6</th>\n",
              "      <th>8</th>\n",
              "      <th>ER.7</th>\n",
              "      <th>9</th>\n",
              "      <th>ER.8</th>\n",
              "      <th>10</th>\n",
              "      <th>ER.9</th>\n",
              "      <th>11</th>\n",
              "      <th>ER.10</th>\n",
              "      <th>12</th>\n",
              "      <th>ER.11</th>\n",
              "      <th>13</th>\n",
              "      <th>ER.12</th>\n",
              "      <th>14</th>\n",
              "      <th>ER.13</th>\n",
              "      <th>15</th>\n",
              "      <th>ER.14</th>\n",
              "      <th>16 Recommendation</th>\n",
              "      <th>Actual ER</th>\n",
              "      <th>17 Recommendation</th>\n",
              "      <th>Actual ER.1</th>\n",
              "      <th>18 Recommendation</th>\n",
              "      <th>Estimated ER</th>\n",
              "      <th>Factor 1</th>\n",
              "      <th>Factor 2</th>\n",
              "    </tr>\n",
              "  </thead>\n",
              "  <tbody>\n",
              "    <tr>\n",
              "      <th>0</th>\n",
              "      <td>0</td>\n",
              "      <td>0</td>\n",
              "      <td>1</td>\n",
              "      <td>2</td>\n",
              "      <td>2.0</td>\n",
              "      <td>3.0</td>\n",
              "      <td>2.0</td>\n",
              "      <td>1.0</td>\n",
              "      <td>Phy</td>\n",
              "      <td>0.166667</td>\n",
              "      <td>diet</td>\n",
              "      <td>0.714286</td>\n",
              "      <td>diet</td>\n",
              "      <td>0.428571</td>\n",
              "      <td>diet</td>\n",
              "      <td>0.571429</td>\n",
              "      <td>diet</td>\n",
              "      <td>0.750000</td>\n",
              "      <td>diet</td>\n",
              "      <td>0.428571</td>\n",
              "      <td>diet</td>\n",
              "      <td>0.857143</td>\n",
              "      <td>diet</td>\n",
              "      <td>1.0</td>\n",
              "      <td>diet</td>\n",
              "      <td>1.0</td>\n",
              "      <td>diet</td>\n",
              "      <td>0.285714</td>\n",
              "      <td>diet</td>\n",
              "      <td>0.571429</td>\n",
              "      <td>diet</td>\n",
              "      <td>0.500000</td>\n",
              "      <td>Phy</td>\n",
              "      <td>0.0</td>\n",
              "      <td>Phy</td>\n",
              "      <td>0.000000</td>\n",
              "      <td>Phy</td>\n",
              "      <td>0.000000</td>\n",
              "      <td>Phy</td>\n",
              "      <td>0</td>\n",
              "      <td>diet</td>\n",
              "      <td>0.0</td>\n",
              "      <td>NaN</td>\n",
              "      <td>NaN</td>\n",
              "      <td>3</td>\n",
              "      <td>3</td>\n",
              "    </tr>\n",
              "    <tr>\n",
              "      <th>1</th>\n",
              "      <td>1</td>\n",
              "      <td>0</td>\n",
              "      <td>0</td>\n",
              "      <td>1</td>\n",
              "      <td>1.0</td>\n",
              "      <td>1.0</td>\n",
              "      <td>0.0</td>\n",
              "      <td>0.0</td>\n",
              "      <td>diet</td>\n",
              "      <td>0.000000</td>\n",
              "      <td>diet</td>\n",
              "      <td>0.428571</td>\n",
              "      <td>diet</td>\n",
              "      <td>1.000000</td>\n",
              "      <td>diet</td>\n",
              "      <td>0.857143</td>\n",
              "      <td>diet</td>\n",
              "      <td>0.875000</td>\n",
              "      <td>diet</td>\n",
              "      <td>0.857143</td>\n",
              "      <td>diet</td>\n",
              "      <td>1.000000</td>\n",
              "      <td>diet</td>\n",
              "      <td>1.0</td>\n",
              "      <td>diet</td>\n",
              "      <td>1.0</td>\n",
              "      <td>diet</td>\n",
              "      <td>0.857143</td>\n",
              "      <td>diet</td>\n",
              "      <td>0.857143</td>\n",
              "      <td>diet</td>\n",
              "      <td>1.000000</td>\n",
              "      <td>diet</td>\n",
              "      <td>1.0</td>\n",
              "      <td>diet</td>\n",
              "      <td>0.857143</td>\n",
              "      <td>diet</td>\n",
              "      <td>0.428571</td>\n",
              "      <td>Phy</td>\n",
              "      <td>0</td>\n",
              "      <td>diet</td>\n",
              "      <td>0.0</td>\n",
              "      <td>NaN</td>\n",
              "      <td>NaN</td>\n",
              "      <td>0</td>\n",
              "      <td>3</td>\n",
              "    </tr>\n",
              "    <tr>\n",
              "      <th>2</th>\n",
              "      <td>2</td>\n",
              "      <td>0</td>\n",
              "      <td>3</td>\n",
              "      <td>2</td>\n",
              "      <td>0.0</td>\n",
              "      <td>3.0</td>\n",
              "      <td>0.0</td>\n",
              "      <td>0.0</td>\n",
              "      <td>diet</td>\n",
              "      <td>0.000000</td>\n",
              "      <td>Phy</td>\n",
              "      <td>0.142857</td>\n",
              "      <td>Phy</td>\n",
              "      <td>0.000000</td>\n",
              "      <td>Phy</td>\n",
              "      <td>0.571429</td>\n",
              "      <td>Phy</td>\n",
              "      <td>0.000000</td>\n",
              "      <td>Phy</td>\n",
              "      <td>0.000000</td>\n",
              "      <td>Phy</td>\n",
              "      <td>0.000000</td>\n",
              "      <td>Phy</td>\n",
              "      <td>0.0</td>\n",
              "      <td>Phy</td>\n",
              "      <td>0.0</td>\n",
              "      <td>Phy</td>\n",
              "      <td>0.000000</td>\n",
              "      <td>Phy</td>\n",
              "      <td>0.000000</td>\n",
              "      <td>Phy</td>\n",
              "      <td>0.000000</td>\n",
              "      <td>diet</td>\n",
              "      <td>1.0</td>\n",
              "      <td>phy</td>\n",
              "      <td>1.000000</td>\n",
              "      <td>diet</td>\n",
              "      <td>0.333333</td>\n",
              "      <td>diet</td>\n",
              "      <td>0.5714285714</td>\n",
              "      <td>NaN</td>\n",
              "      <td>NaN</td>\n",
              "      <td>NaN</td>\n",
              "      <td>NaN</td>\n",
              "      <td>3</td>\n",
              "      <td>4</td>\n",
              "    </tr>\n",
              "    <tr>\n",
              "      <th>3</th>\n",
              "      <td>3</td>\n",
              "      <td>0</td>\n",
              "      <td>0</td>\n",
              "      <td>0</td>\n",
              "      <td>0.0</td>\n",
              "      <td>0.0</td>\n",
              "      <td>1.0</td>\n",
              "      <td>2.0</td>\n",
              "      <td>Phy</td>\n",
              "      <td>0.000000</td>\n",
              "      <td>diet</td>\n",
              "      <td>0.000000</td>\n",
              "      <td>phy</td>\n",
              "      <td>0.000000</td>\n",
              "      <td>diet</td>\n",
              "      <td>0.000000</td>\n",
              "      <td>diet</td>\n",
              "      <td>0.000000</td>\n",
              "      <td>NaN</td>\n",
              "      <td>NaN</td>\n",
              "      <td>NaN</td>\n",
              "      <td>NaN</td>\n",
              "      <td>NaN</td>\n",
              "      <td>NaN</td>\n",
              "      <td>NaN</td>\n",
              "      <td>NaN</td>\n",
              "      <td>NaN</td>\n",
              "      <td>NaN</td>\n",
              "      <td>NaN</td>\n",
              "      <td>NaN</td>\n",
              "      <td>NaN</td>\n",
              "      <td>NaN</td>\n",
              "      <td>NaN</td>\n",
              "      <td>NaN</td>\n",
              "      <td>NaN</td>\n",
              "      <td>NaN</td>\n",
              "      <td>NaN</td>\n",
              "      <td>NaN</td>\n",
              "      <td>NaN</td>\n",
              "      <td>NaN</td>\n",
              "      <td>NaN</td>\n",
              "      <td>NaN</td>\n",
              "      <td>NaN</td>\n",
              "      <td>NaN</td>\n",
              "      <td>3</td>\n",
              "      <td>2</td>\n",
              "    </tr>\n",
              "    <tr>\n",
              "      <th>4</th>\n",
              "      <td>4</td>\n",
              "      <td>0</td>\n",
              "      <td>3</td>\n",
              "      <td>0</td>\n",
              "      <td>4.0</td>\n",
              "      <td>0.0</td>\n",
              "      <td>2.0</td>\n",
              "      <td>1.0</td>\n",
              "      <td>diet</td>\n",
              "      <td>0.285714</td>\n",
              "      <td>diet</td>\n",
              "      <td>1.000000</td>\n",
              "      <td>Phy</td>\n",
              "      <td>0.470588</td>\n",
              "      <td>diet</td>\n",
              "      <td>0.900000</td>\n",
              "      <td>phy</td>\n",
              "      <td>0.916667</td>\n",
              "      <td>diet</td>\n",
              "      <td>1.000000</td>\n",
              "      <td>diet</td>\n",
              "      <td>0.900000</td>\n",
              "      <td>NaN</td>\n",
              "      <td>NaN</td>\n",
              "      <td>NaN</td>\n",
              "      <td>NaN</td>\n",
              "      <td>NaN</td>\n",
              "      <td>NaN</td>\n",
              "      <td>NaN</td>\n",
              "      <td>NaN</td>\n",
              "      <td>NaN</td>\n",
              "      <td>NaN</td>\n",
              "      <td>NaN</td>\n",
              "      <td>NaN</td>\n",
              "      <td>NaN</td>\n",
              "      <td>NaN</td>\n",
              "      <td>NaN</td>\n",
              "      <td>NaN</td>\n",
              "      <td>NaN</td>\n",
              "      <td>NaN</td>\n",
              "      <td>NaN</td>\n",
              "      <td>NaN</td>\n",
              "      <td>NaN</td>\n",
              "      <td>NaN</td>\n",
              "      <td>2</td>\n",
              "      <td>1</td>\n",
              "    </tr>\n",
              "    <tr>\n",
              "      <th>5</th>\n",
              "      <td>5</td>\n",
              "      <td>1</td>\n",
              "      <td>2</td>\n",
              "      <td>2</td>\n",
              "      <td>4.0</td>\n",
              "      <td>2.0</td>\n",
              "      <td>1.0</td>\n",
              "      <td>1.0</td>\n",
              "      <td>phy</td>\n",
              "      <td>0.058824</td>\n",
              "      <td>diet</td>\n",
              "      <td>0.500000</td>\n",
              "      <td>diet</td>\n",
              "      <td>0.500000</td>\n",
              "      <td>phy</td>\n",
              "      <td>0.750000</td>\n",
              "      <td>diet</td>\n",
              "      <td>0.300000</td>\n",
              "      <td>NaN</td>\n",
              "      <td>NaN</td>\n",
              "      <td>NaN</td>\n",
              "      <td>NaN</td>\n",
              "      <td>NaN</td>\n",
              "      <td>NaN</td>\n",
              "      <td>NaN</td>\n",
              "      <td>NaN</td>\n",
              "      <td>NaN</td>\n",
              "      <td>NaN</td>\n",
              "      <td>NaN</td>\n",
              "      <td>NaN</td>\n",
              "      <td>NaN</td>\n",
              "      <td>NaN</td>\n",
              "      <td>NaN</td>\n",
              "      <td>NaN</td>\n",
              "      <td>NaN</td>\n",
              "      <td>NaN</td>\n",
              "      <td>NaN</td>\n",
              "      <td>NaN</td>\n",
              "      <td>NaN</td>\n",
              "      <td>NaN</td>\n",
              "      <td>NaN</td>\n",
              "      <td>NaN</td>\n",
              "      <td>NaN</td>\n",
              "      <td>NaN</td>\n",
              "      <td>1</td>\n",
              "      <td>0</td>\n",
              "    </tr>\n",
              "    <tr>\n",
              "      <th>6</th>\n",
              "      <td>6</td>\n",
              "      <td>0</td>\n",
              "      <td>0</td>\n",
              "      <td>1</td>\n",
              "      <td>4.0</td>\n",
              "      <td>3.0</td>\n",
              "      <td>2.0</td>\n",
              "      <td>1.0</td>\n",
              "      <td>phy</td>\n",
              "      <td>0.250000</td>\n",
              "      <td>diet</td>\n",
              "      <td>0.000000</td>\n",
              "      <td>diet</td>\n",
              "      <td>0.100000</td>\n",
              "      <td>NaN</td>\n",
              "      <td>NaN</td>\n",
              "      <td>NaN</td>\n",
              "      <td>NaN</td>\n",
              "      <td>NaN</td>\n",
              "      <td>NaN</td>\n",
              "      <td>NaN</td>\n",
              "      <td>NaN</td>\n",
              "      <td>NaN</td>\n",
              "      <td>NaN</td>\n",
              "      <td>NaN</td>\n",
              "      <td>NaN</td>\n",
              "      <td>NaN</td>\n",
              "      <td>NaN</td>\n",
              "      <td>NaN</td>\n",
              "      <td>NaN</td>\n",
              "      <td>NaN</td>\n",
              "      <td>NaN</td>\n",
              "      <td>NaN</td>\n",
              "      <td>NaN</td>\n",
              "      <td>NaN</td>\n",
              "      <td>NaN</td>\n",
              "      <td>NaN</td>\n",
              "      <td>NaN</td>\n",
              "      <td>NaN</td>\n",
              "      <td>NaN</td>\n",
              "      <td>NaN</td>\n",
              "      <td>NaN</td>\n",
              "      <td>NaN</td>\n",
              "      <td>NaN</td>\n",
              "      <td>0</td>\n",
              "      <td>1</td>\n",
              "    </tr>\n",
              "    <tr>\n",
              "      <th>7</th>\n",
              "      <td>7</td>\n",
              "      <td>1</td>\n",
              "      <td>2</td>\n",
              "      <td>1</td>\n",
              "      <td>2.0</td>\n",
              "      <td>3.0</td>\n",
              "      <td>2.0</td>\n",
              "      <td>3.0</td>\n",
              "      <td>phy</td>\n",
              "      <td>0.166667</td>\n",
              "      <td>diet</td>\n",
              "      <td>0.000000</td>\n",
              "      <td>diet</td>\n",
              "      <td>0.300000</td>\n",
              "      <td>NaN</td>\n",
              "      <td>NaN</td>\n",
              "      <td>NaN</td>\n",
              "      <td>NaN</td>\n",
              "      <td>NaN</td>\n",
              "      <td>NaN</td>\n",
              "      <td>NaN</td>\n",
              "      <td>NaN</td>\n",
              "      <td>NaN</td>\n",
              "      <td>NaN</td>\n",
              "      <td>NaN</td>\n",
              "      <td>NaN</td>\n",
              "      <td>NaN</td>\n",
              "      <td>NaN</td>\n",
              "      <td>NaN</td>\n",
              "      <td>NaN</td>\n",
              "      <td>NaN</td>\n",
              "      <td>NaN</td>\n",
              "      <td>NaN</td>\n",
              "      <td>NaN</td>\n",
              "      <td>NaN</td>\n",
              "      <td>NaN</td>\n",
              "      <td>NaN</td>\n",
              "      <td>NaN</td>\n",
              "      <td>NaN</td>\n",
              "      <td>NaN</td>\n",
              "      <td>NaN</td>\n",
              "      <td>NaN</td>\n",
              "      <td>NaN</td>\n",
              "      <td>NaN</td>\n",
              "      <td>0</td>\n",
              "      <td>0</td>\n",
              "    </tr>\n",
              "    <tr>\n",
              "      <th>8</th>\n",
              "      <td>8</td>\n",
              "      <td>1</td>\n",
              "      <td>2</td>\n",
              "      <td>0</td>\n",
              "      <td>3.0</td>\n",
              "      <td>3.0</td>\n",
              "      <td>0.0</td>\n",
              "      <td>3.0</td>\n",
              "      <td>diet</td>\n",
              "      <td>0.833333</td>\n",
              "      <td>Phy</td>\n",
              "      <td>0.857143</td>\n",
              "      <td>Phy</td>\n",
              "      <td>0.857143</td>\n",
              "      <td>Phy</td>\n",
              "      <td>1.000000</td>\n",
              "      <td>Phy</td>\n",
              "      <td>1.000000</td>\n",
              "      <td>Phy</td>\n",
              "      <td>0.714286</td>\n",
              "      <td>Phy</td>\n",
              "      <td>1.000000</td>\n",
              "      <td>Phy</td>\n",
              "      <td>1.0</td>\n",
              "      <td>Phy</td>\n",
              "      <td>1.0</td>\n",
              "      <td>Phy</td>\n",
              "      <td>1.000000</td>\n",
              "      <td>Phy</td>\n",
              "      <td>1.000000</td>\n",
              "      <td>Phy</td>\n",
              "      <td>0.833333</td>\n",
              "      <td>Phy</td>\n",
              "      <td>1.0</td>\n",
              "      <td>Phy</td>\n",
              "      <td>1.000000</td>\n",
              "      <td>Phy</td>\n",
              "      <td>1.000000</td>\n",
              "      <td>NaN</td>\n",
              "      <td>DROPPED</td>\n",
              "      <td>NaN</td>\n",
              "      <td>NaN</td>\n",
              "      <td>NaN</td>\n",
              "      <td>NaN</td>\n",
              "      <td>1</td>\n",
              "      <td>3</td>\n",
              "    </tr>\n",
              "    <tr>\n",
              "      <th>9</th>\n",
              "      <td>9</td>\n",
              "      <td>0</td>\n",
              "      <td>1</td>\n",
              "      <td>2</td>\n",
              "      <td>0.0</td>\n",
              "      <td>2.0</td>\n",
              "      <td>3.0</td>\n",
              "      <td>1.0</td>\n",
              "      <td>NaN</td>\n",
              "      <td>NaN</td>\n",
              "      <td>NaN</td>\n",
              "      <td>NaN</td>\n",
              "      <td>NaN</td>\n",
              "      <td>NaN</td>\n",
              "      <td>NaN</td>\n",
              "      <td>NaN</td>\n",
              "      <td>NaN</td>\n",
              "      <td>NaN</td>\n",
              "      <td>NaN</td>\n",
              "      <td>NaN</td>\n",
              "      <td>NaN</td>\n",
              "      <td>NaN</td>\n",
              "      <td>NaN</td>\n",
              "      <td>NaN</td>\n",
              "      <td>NaN</td>\n",
              "      <td>NaN</td>\n",
              "      <td>NaN</td>\n",
              "      <td>NaN</td>\n",
              "      <td>NaN</td>\n",
              "      <td>NaN</td>\n",
              "      <td>NaN</td>\n",
              "      <td>NaN</td>\n",
              "      <td>NaN</td>\n",
              "      <td>NaN</td>\n",
              "      <td>NaN</td>\n",
              "      <td>NaN</td>\n",
              "      <td>NaN</td>\n",
              "      <td>NaN</td>\n",
              "      <td>NaN</td>\n",
              "      <td>NaN</td>\n",
              "      <td>NaN</td>\n",
              "      <td>NaN</td>\n",
              "      <td>NaN</td>\n",
              "      <td>NaN</td>\n",
              "      <td>4</td>\n",
              "      <td>4</td>\n",
              "    </tr>\n",
              "    <tr>\n",
              "      <th>10</th>\n",
              "      <td>10</td>\n",
              "      <td>0</td>\n",
              "      <td>1</td>\n",
              "      <td>0</td>\n",
              "      <td>4.0</td>\n",
              "      <td>3.0</td>\n",
              "      <td>3.0</td>\n",
              "      <td>2.0</td>\n",
              "      <td>NaN</td>\n",
              "      <td>NaN</td>\n",
              "      <td>NaN</td>\n",
              "      <td>NaN</td>\n",
              "      <td>NaN</td>\n",
              "      <td>NaN</td>\n",
              "      <td>NaN</td>\n",
              "      <td>NaN</td>\n",
              "      <td>NaN</td>\n",
              "      <td>NaN</td>\n",
              "      <td>NaN</td>\n",
              "      <td>NaN</td>\n",
              "      <td>NaN</td>\n",
              "      <td>NaN</td>\n",
              "      <td>NaN</td>\n",
              "      <td>NaN</td>\n",
              "      <td>NaN</td>\n",
              "      <td>NaN</td>\n",
              "      <td>NaN</td>\n",
              "      <td>NaN</td>\n",
              "      <td>NaN</td>\n",
              "      <td>NaN</td>\n",
              "      <td>NaN</td>\n",
              "      <td>NaN</td>\n",
              "      <td>NaN</td>\n",
              "      <td>NaN</td>\n",
              "      <td>NaN</td>\n",
              "      <td>NaN</td>\n",
              "      <td>NaN</td>\n",
              "      <td>NaN</td>\n",
              "      <td>NaN</td>\n",
              "      <td>NaN</td>\n",
              "      <td>NaN</td>\n",
              "      <td>NaN</td>\n",
              "      <td>NaN</td>\n",
              "      <td>NaN</td>\n",
              "      <td>2</td>\n",
              "      <td>0</td>\n",
              "    </tr>\n",
              "    <tr>\n",
              "      <th>11</th>\n",
              "      <td>13</td>\n",
              "      <td>1</td>\n",
              "      <td>1</td>\n",
              "      <td>3</td>\n",
              "      <td>0.0</td>\n",
              "      <td>3.0</td>\n",
              "      <td>1.0</td>\n",
              "      <td>1.0</td>\n",
              "      <td>diet</td>\n",
              "      <td>0.000000</td>\n",
              "      <td>diet</td>\n",
              "      <td>0.000000</td>\n",
              "      <td>diet</td>\n",
              "      <td>0.285714</td>\n",
              "      <td></td>\n",
              "      <td>0.000000</td>\n",
              "      <td>diet</td>\n",
              "      <td>0.125000</td>\n",
              "      <td>diet</td>\n",
              "      <td>0.428571</td>\n",
              "      <td>diet</td>\n",
              "      <td>0.000000</td>\n",
              "      <td>diet</td>\n",
              "      <td>0.0</td>\n",
              "      <td>diet</td>\n",
              "      <td>0.0</td>\n",
              "      <td>diet</td>\n",
              "      <td>0.000000</td>\n",
              "      <td>diet</td>\n",
              "      <td>0.000000</td>\n",
              "      <td>diet</td>\n",
              "      <td>0.000000</td>\n",
              "      <td>diet</td>\n",
              "      <td>0.0</td>\n",
              "      <td>diet</td>\n",
              "      <td>0.000000</td>\n",
              "      <td>diet</td>\n",
              "      <td>0.000000</td>\n",
              "      <td>NaN</td>\n",
              "      <td>NaN</td>\n",
              "      <td>NaN</td>\n",
              "      <td>NaN</td>\n",
              "      <td>NaN</td>\n",
              "      <td>NaN</td>\n",
              "      <td>0</td>\n",
              "      <td>1</td>\n",
              "    </tr>\n",
              "    <tr>\n",
              "      <th>12</th>\n",
              "      <td>14</td>\n",
              "      <td>1</td>\n",
              "      <td>0</td>\n",
              "      <td>1</td>\n",
              "      <td>1.0</td>\n",
              "      <td>2.0</td>\n",
              "      <td>2.0</td>\n",
              "      <td>2.0</td>\n",
              "      <td>Phy</td>\n",
              "      <td>0.000000</td>\n",
              "      <td>diet</td>\n",
              "      <td>0.000000</td>\n",
              "      <td>diet</td>\n",
              "      <td>0.000000</td>\n",
              "      <td>diet</td>\n",
              "      <td>0.000000</td>\n",
              "      <td>diet</td>\n",
              "      <td>0.000000</td>\n",
              "      <td>Phy</td>\n",
              "      <td>0.000000</td>\n",
              "      <td>Phy</td>\n",
              "      <td>0.000000</td>\n",
              "      <td>Phy</td>\n",
              "      <td>0.0</td>\n",
              "      <td>Phy</td>\n",
              "      <td>0.0</td>\n",
              "      <td>Phy</td>\n",
              "      <td>0.000000</td>\n",
              "      <td>diet</td>\n",
              "      <td>0.000000</td>\n",
              "      <td>diet</td>\n",
              "      <td>0.000000</td>\n",
              "      <td>Phy</td>\n",
              "      <td>0.0</td>\n",
              "      <td>Phy</td>\n",
              "      <td>0.000000</td>\n",
              "      <td>Phy</td>\n",
              "      <td>0.000000</td>\n",
              "      <td>NaN</td>\n",
              "      <td>NaN</td>\n",
              "      <td>NaN</td>\n",
              "      <td>NaN</td>\n",
              "      <td>NaN</td>\n",
              "      <td>NaN</td>\n",
              "      <td>2</td>\n",
              "      <td>0</td>\n",
              "    </tr>\n",
              "    <tr>\n",
              "      <th>13</th>\n",
              "      <td>15</td>\n",
              "      <td>0</td>\n",
              "      <td>3</td>\n",
              "      <td>4</td>\n",
              "      <td>NaN</td>\n",
              "      <td>NaN</td>\n",
              "      <td>NaN</td>\n",
              "      <td>NaN</td>\n",
              "      <td>Phy</td>\n",
              "      <td>0.000000</td>\n",
              "      <td>diet</td>\n",
              "      <td>0.000000</td>\n",
              "      <td>diet</td>\n",
              "      <td>0.000000</td>\n",
              "      <td>diet</td>\n",
              "      <td>0.000000</td>\n",
              "      <td>diet</td>\n",
              "      <td>0.000000</td>\n",
              "      <td>Phy</td>\n",
              "      <td>0.000000</td>\n",
              "      <td>Phy</td>\n",
              "      <td>0.000000</td>\n",
              "      <td>Phy</td>\n",
              "      <td>0.0</td>\n",
              "      <td>Phy</td>\n",
              "      <td>0.0</td>\n",
              "      <td>Phy</td>\n",
              "      <td>0.000000</td>\n",
              "      <td>Phy</td>\n",
              "      <td>0.000000</td>\n",
              "      <td>Phy</td>\n",
              "      <td>0.000000</td>\n",
              "      <td>Phy</td>\n",
              "      <td>0.0</td>\n",
              "      <td>Phy</td>\n",
              "      <td>0.000000</td>\n",
              "      <td>Phy</td>\n",
              "      <td>0.000000</td>\n",
              "      <td>NaN</td>\n",
              "      <td>NaN</td>\n",
              "      <td>NaN</td>\n",
              "      <td>NaN</td>\n",
              "      <td>NaN</td>\n",
              "      <td>NaN</td>\n",
              "      <td>4</td>\n",
              "      <td>2</td>\n",
              "    </tr>\n",
              "    <tr>\n",
              "      <th>14</th>\n",
              "      <td>16</td>\n",
              "      <td>0</td>\n",
              "      <td>2</td>\n",
              "      <td>0</td>\n",
              "      <td>NaN</td>\n",
              "      <td>NaN</td>\n",
              "      <td>NaN</td>\n",
              "      <td>NaN</td>\n",
              "      <td>Phy</td>\n",
              "      <td>0.166667</td>\n",
              "      <td>diet</td>\n",
              "      <td>0.142857</td>\n",
              "      <td>diet</td>\n",
              "      <td>0.285714</td>\n",
              "      <td>diet</td>\n",
              "      <td>0.285714</td>\n",
              "      <td>diet</td>\n",
              "      <td>0.125000</td>\n",
              "      <td>Phy</td>\n",
              "      <td>0.142857</td>\n",
              "      <td>Phy</td>\n",
              "      <td>0.000000</td>\n",
              "      <td>Phy</td>\n",
              "      <td>0.0</td>\n",
              "      <td>Phy</td>\n",
              "      <td>0.0</td>\n",
              "      <td>Phy</td>\n",
              "      <td>0.000000</td>\n",
              "      <td>diet</td>\n",
              "      <td>0.000000</td>\n",
              "      <td>diet</td>\n",
              "      <td>0.000000</td>\n",
              "      <td>Phy</td>\n",
              "      <td>0.0</td>\n",
              "      <td>Phy</td>\n",
              "      <td>0.000000</td>\n",
              "      <td>Phy</td>\n",
              "      <td>0.000000</td>\n",
              "      <td>NaN</td>\n",
              "      <td>NaN</td>\n",
              "      <td>NaN</td>\n",
              "      <td>NaN</td>\n",
              "      <td>NaN</td>\n",
              "      <td>NaN</td>\n",
              "      <td>4</td>\n",
              "      <td>2</td>\n",
              "    </tr>\n",
              "    <tr>\n",
              "      <th>15</th>\n",
              "      <td>17</td>\n",
              "      <td>1</td>\n",
              "      <td>3</td>\n",
              "      <td>2</td>\n",
              "      <td>3.0</td>\n",
              "      <td>2.0</td>\n",
              "      <td>2.0</td>\n",
              "      <td>0.0</td>\n",
              "      <td>Phy</td>\n",
              "      <td>0.000000</td>\n",
              "      <td>diet</td>\n",
              "      <td>0.000000</td>\n",
              "      <td>diet</td>\n",
              "      <td>0.000000</td>\n",
              "      <td>diet</td>\n",
              "      <td>0.000000</td>\n",
              "      <td>diet</td>\n",
              "      <td>0.000000</td>\n",
              "      <td>diet</td>\n",
              "      <td>0.000000</td>\n",
              "      <td>diet</td>\n",
              "      <td>0.000000</td>\n",
              "      <td>diet</td>\n",
              "      <td>0.0</td>\n",
              "      <td>diet</td>\n",
              "      <td>0.0</td>\n",
              "      <td>diet</td>\n",
              "      <td>0.000000</td>\n",
              "      <td>diet</td>\n",
              "      <td>0.000000</td>\n",
              "      <td>diet</td>\n",
              "      <td>0.000000</td>\n",
              "      <td>diet</td>\n",
              "      <td>0.0</td>\n",
              "      <td>diet</td>\n",
              "      <td>0.000000</td>\n",
              "      <td>diet</td>\n",
              "      <td>0.000000</td>\n",
              "      <td>NaN</td>\n",
              "      <td>NaN</td>\n",
              "      <td>NaN</td>\n",
              "      <td>NaN</td>\n",
              "      <td>NaN</td>\n",
              "      <td>NaN</td>\n",
              "      <td>1</td>\n",
              "      <td>4</td>\n",
              "    </tr>\n",
              "  </tbody>\n",
              "</table>\n",
              "</div>"
            ],
            "text/plain": [
              "    index  Gender  Age  ...  Estimated ER  Factor 1  Factor 2\n",
              "0       0       0    1  ...           NaN         3         3\n",
              "1       1       0    0  ...           NaN         0         3\n",
              "2       2       0    3  ...           NaN         3         4\n",
              "3       3       0    0  ...           NaN         3         2\n",
              "4       4       0    3  ...           NaN         2         1\n",
              "5       5       1    2  ...           NaN         1         0\n",
              "6       6       0    0  ...           NaN         0         1\n",
              "7       7       1    2  ...           NaN         0         0\n",
              "8       8       1    2  ...           NaN         1         3\n",
              "9       9       0    1  ...           NaN         4         4\n",
              "10     10       0    1  ...           NaN         2         0\n",
              "11     13       1    1  ...           NaN         0         1\n",
              "12     14       1    0  ...           NaN         2         0\n",
              "13     15       0    3  ...           NaN         4         2\n",
              "14     16       0    2  ...           NaN         4         2\n",
              "15     17       1    3  ...           NaN         1         4\n",
              "\n",
              "[16 rows x 46 columns]"
            ]
          },
          "metadata": {
            "tags": []
          },
          "execution_count": 7
        }
      ]
    },
    {
      "cell_type": "code",
      "metadata": {
        "id": "bEC3klVNx0AG"
      },
      "source": [
        "td = dict()\n",
        "td['Gender'] = [0, 0, 0, 0, 0, 1, 0, 1]\n",
        "td['Age'] = [1, 0, 3, 0, 3, 2, 0, 2]\n",
        "td['Ethnicity'] = [2, 1, 2, 0, 0, 2, 1, 1]\n",
        "td['Income'] = [2.0, 1.0, 0.0, 0.0, 4.0, 4.0, 4.0, 2.0]\n",
        "td['Work hours'] = [3.0, 1.0, 3.0, 0.0, 0.0, 2.0, 3.0, 3.0]\n",
        "td['Health condition'] = [2.0, 0.0, 0.0, 1.0, 2.0, 1.0, 2.0, 2.0]\n",
        "td['Education'] = [1.0, 0.0, 0.0, 2.0, 1.0, 1.0, 1.0, 3.0]\n",
        "td['Factor 1'] = [3, 0, 3, 3, 2, 1, 0, 0]\n",
        "td['Factor 2'] = [3, 3, 4, 2, 1, 0, 1, 0]\n",
        "td['Previous er'] = [0, 0, 0.33333, 0.0, 1.0, 0.75, 0.0, 0.0]\n",
        "td['Rec'] = [1, 1, 1, 1, 1, 1, 1, 1]\n",
        "td['Er'] = [0,0, 0.57142, 0.0, 0.90, 0.3, 0.1, 0.3]\n",
        "test_data = pd.DataFrame(data=td)"
      ],
      "execution_count": null,
      "outputs": []
    },
    {
      "cell_type": "code",
      "metadata": {
        "colab": {
          "base_uri": "https://localhost:8080/",
          "height": 300
        },
        "id": "NcSKQFrbxz8W",
        "outputId": "3b881654-2fc0-4174-c4d3-b109978ef2b0"
      },
      "source": [
        "test_data"
      ],
      "execution_count": null,
      "outputs": [
        {
          "output_type": "execute_result",
          "data": {
            "text/html": [
              "<div>\n",
              "<style scoped>\n",
              "    .dataframe tbody tr th:only-of-type {\n",
              "        vertical-align: middle;\n",
              "    }\n",
              "\n",
              "    .dataframe tbody tr th {\n",
              "        vertical-align: top;\n",
              "    }\n",
              "\n",
              "    .dataframe thead th {\n",
              "        text-align: right;\n",
              "    }\n",
              "</style>\n",
              "<table border=\"1\" class=\"dataframe\">\n",
              "  <thead>\n",
              "    <tr style=\"text-align: right;\">\n",
              "      <th></th>\n",
              "      <th>Gender</th>\n",
              "      <th>Age</th>\n",
              "      <th>Ethnicity</th>\n",
              "      <th>Income</th>\n",
              "      <th>Work hours</th>\n",
              "      <th>Health condition</th>\n",
              "      <th>Education</th>\n",
              "      <th>Factor 1</th>\n",
              "      <th>Factor 2</th>\n",
              "      <th>Previous er</th>\n",
              "      <th>Rec</th>\n",
              "      <th>Er</th>\n",
              "    </tr>\n",
              "  </thead>\n",
              "  <tbody>\n",
              "    <tr>\n",
              "      <th>0</th>\n",
              "      <td>0</td>\n",
              "      <td>1</td>\n",
              "      <td>2</td>\n",
              "      <td>2.0</td>\n",
              "      <td>3.0</td>\n",
              "      <td>2.0</td>\n",
              "      <td>1.0</td>\n",
              "      <td>3</td>\n",
              "      <td>3</td>\n",
              "      <td>0.00000</td>\n",
              "      <td>1</td>\n",
              "      <td>0.00000</td>\n",
              "    </tr>\n",
              "    <tr>\n",
              "      <th>1</th>\n",
              "      <td>0</td>\n",
              "      <td>0</td>\n",
              "      <td>1</td>\n",
              "      <td>1.0</td>\n",
              "      <td>1.0</td>\n",
              "      <td>0.0</td>\n",
              "      <td>0.0</td>\n",
              "      <td>0</td>\n",
              "      <td>3</td>\n",
              "      <td>0.00000</td>\n",
              "      <td>1</td>\n",
              "      <td>0.00000</td>\n",
              "    </tr>\n",
              "    <tr>\n",
              "      <th>2</th>\n",
              "      <td>0</td>\n",
              "      <td>3</td>\n",
              "      <td>2</td>\n",
              "      <td>0.0</td>\n",
              "      <td>3.0</td>\n",
              "      <td>0.0</td>\n",
              "      <td>0.0</td>\n",
              "      <td>3</td>\n",
              "      <td>4</td>\n",
              "      <td>0.33333</td>\n",
              "      <td>1</td>\n",
              "      <td>0.57142</td>\n",
              "    </tr>\n",
              "    <tr>\n",
              "      <th>3</th>\n",
              "      <td>0</td>\n",
              "      <td>0</td>\n",
              "      <td>0</td>\n",
              "      <td>0.0</td>\n",
              "      <td>0.0</td>\n",
              "      <td>1.0</td>\n",
              "      <td>2.0</td>\n",
              "      <td>3</td>\n",
              "      <td>2</td>\n",
              "      <td>0.00000</td>\n",
              "      <td>1</td>\n",
              "      <td>0.00000</td>\n",
              "    </tr>\n",
              "    <tr>\n",
              "      <th>4</th>\n",
              "      <td>0</td>\n",
              "      <td>3</td>\n",
              "      <td>0</td>\n",
              "      <td>4.0</td>\n",
              "      <td>0.0</td>\n",
              "      <td>2.0</td>\n",
              "      <td>1.0</td>\n",
              "      <td>2</td>\n",
              "      <td>1</td>\n",
              "      <td>1.00000</td>\n",
              "      <td>1</td>\n",
              "      <td>0.90000</td>\n",
              "    </tr>\n",
              "    <tr>\n",
              "      <th>5</th>\n",
              "      <td>1</td>\n",
              "      <td>2</td>\n",
              "      <td>2</td>\n",
              "      <td>4.0</td>\n",
              "      <td>2.0</td>\n",
              "      <td>1.0</td>\n",
              "      <td>1.0</td>\n",
              "      <td>1</td>\n",
              "      <td>0</td>\n",
              "      <td>0.75000</td>\n",
              "      <td>1</td>\n",
              "      <td>0.30000</td>\n",
              "    </tr>\n",
              "    <tr>\n",
              "      <th>6</th>\n",
              "      <td>0</td>\n",
              "      <td>0</td>\n",
              "      <td>1</td>\n",
              "      <td>4.0</td>\n",
              "      <td>3.0</td>\n",
              "      <td>2.0</td>\n",
              "      <td>1.0</td>\n",
              "      <td>0</td>\n",
              "      <td>1</td>\n",
              "      <td>0.00000</td>\n",
              "      <td>1</td>\n",
              "      <td>0.10000</td>\n",
              "    </tr>\n",
              "    <tr>\n",
              "      <th>7</th>\n",
              "      <td>1</td>\n",
              "      <td>2</td>\n",
              "      <td>1</td>\n",
              "      <td>2.0</td>\n",
              "      <td>3.0</td>\n",
              "      <td>2.0</td>\n",
              "      <td>3.0</td>\n",
              "      <td>0</td>\n",
              "      <td>0</td>\n",
              "      <td>0.00000</td>\n",
              "      <td>1</td>\n",
              "      <td>0.30000</td>\n",
              "    </tr>\n",
              "  </tbody>\n",
              "</table>\n",
              "</div>"
            ],
            "text/plain": [
              "   Gender  Age  Ethnicity  Income  ...  Factor 2  Previous er  Rec       Er\n",
              "0       0    1          2     2.0  ...         3      0.00000    1  0.00000\n",
              "1       0    0          1     1.0  ...         3      0.00000    1  0.00000\n",
              "2       0    3          2     0.0  ...         4      0.33333    1  0.57142\n",
              "3       0    0          0     0.0  ...         2      0.00000    1  0.00000\n",
              "4       0    3          0     4.0  ...         1      1.00000    1  0.90000\n",
              "5       1    2          2     4.0  ...         0      0.75000    1  0.30000\n",
              "6       0    0          1     4.0  ...         1      0.00000    1  0.10000\n",
              "7       1    2          1     2.0  ...         0      0.00000    1  0.30000\n",
              "\n",
              "[8 rows x 12 columns]"
            ]
          },
          "metadata": {
            "tags": []
          },
          "execution_count": 9
        }
      ]
    },
    {
      "cell_type": "code",
      "metadata": {
        "id": "AONyCo0hwyrM"
      },
      "source": [
        "rec_idxs = [str(i) for i in range(1, 15)]\n",
        "er_idxs = ['ER']\n",
        "er_idxs.extend(['ER.{}'.format(i) for i in range(1, 14)])\n",
        "rec_idxs.append('16 Recommendation ')\n",
        "rec_idxs.append('17 Recommendation')\n",
        "er_idxs.append('Actual ER')\n",
        "er_idxs.append('Actual ER.1')"
      ],
      "execution_count": null,
      "outputs": []
    },
    {
      "cell_type": "code",
      "metadata": {
        "id": "lKJKWIiO4hqs"
      },
      "source": [
        "data = defaultdict(list)\n",
        "fields = ['Gender', 'Age', 'Ethnicity', 'Income', 'Work hours', 'Health condition', 'Education', 'Factor 1', 'Factor 2']\n",
        "\n",
        "for i in range(len(df)):\n",
        "  for j in range(1, len(rec_idxs)):\n",
        "      if df[er_idxs[j-1]][i] == 'DROPPED' or df[er_idxs[j]][i] == 'DROPPED':\n",
        "        continue\n",
        "      prev_er = float(df[er_idxs[j-1]][i])\n",
        "      cur_rec = df[rec_idxs[j]][i]\n",
        "      cur_er = float(df[er_idxs[j]][i])\n",
        "      if pd.isna(cur_rec):\n",
        "        if i < 8:\n",
        "          for field in fields:\n",
        "            del data[field][-1]\n",
        "          del data['Previous er'][-1]\n",
        "          del data['Rec'][-1]\n",
        "          del data['Er'][-1]\n",
        "        continue\n",
        "\n",
        "      if cur_rec == 'Phy':\n",
        "        cur_rec = 0\n",
        "      else:\n",
        "        cur_rec = 1\n",
        "\n",
        "      for field in fields:\n",
        "        data[field].append(df[field][i])\n",
        "\n",
        "      data['Previous er'].append(prev_er)\n",
        "      data['Rec'].append(cur_rec)\n",
        "      data['Er'].append(prev_er)\n",
        "df = pd.DataFrame(data=data)"
      ],
      "execution_count": null,
      "outputs": []
    },
    {
      "cell_type": "code",
      "metadata": {
        "colab": {
          "base_uri": "https://localhost:8080/",
          "height": 424
        },
        "id": "I0FJ40YB5Tbd",
        "outputId": "bfb0e0ec-499e-43bc-b5fa-dc687061cdf2"
      },
      "source": [
        "df"
      ],
      "execution_count": null,
      "outputs": [
        {
          "output_type": "execute_result",
          "data": {
            "text/html": [
              "<div>\n",
              "<style scoped>\n",
              "    .dataframe tbody tr th:only-of-type {\n",
              "        vertical-align: middle;\n",
              "    }\n",
              "\n",
              "    .dataframe tbody tr th {\n",
              "        vertical-align: top;\n",
              "    }\n",
              "\n",
              "    .dataframe thead th {\n",
              "        text-align: right;\n",
              "    }\n",
              "</style>\n",
              "<table border=\"1\" class=\"dataframe\">\n",
              "  <thead>\n",
              "    <tr style=\"text-align: right;\">\n",
              "      <th></th>\n",
              "      <th>Gender</th>\n",
              "      <th>Age</th>\n",
              "      <th>Ethnicity</th>\n",
              "      <th>Income</th>\n",
              "      <th>Work hours</th>\n",
              "      <th>Health condition</th>\n",
              "      <th>Education</th>\n",
              "      <th>Factor 1</th>\n",
              "      <th>Factor 2</th>\n",
              "      <th>Previous er</th>\n",
              "      <th>Rec</th>\n",
              "      <th>Er</th>\n",
              "    </tr>\n",
              "  </thead>\n",
              "  <tbody>\n",
              "    <tr>\n",
              "      <th>0</th>\n",
              "      <td>0</td>\n",
              "      <td>1</td>\n",
              "      <td>2</td>\n",
              "      <td>2.0</td>\n",
              "      <td>3.0</td>\n",
              "      <td>2.0</td>\n",
              "      <td>1.0</td>\n",
              "      <td>3</td>\n",
              "      <td>3</td>\n",
              "      <td>0.166667</td>\n",
              "      <td>1</td>\n",
              "      <td>0.166667</td>\n",
              "    </tr>\n",
              "    <tr>\n",
              "      <th>1</th>\n",
              "      <td>0</td>\n",
              "      <td>1</td>\n",
              "      <td>2</td>\n",
              "      <td>2.0</td>\n",
              "      <td>3.0</td>\n",
              "      <td>2.0</td>\n",
              "      <td>1.0</td>\n",
              "      <td>3</td>\n",
              "      <td>3</td>\n",
              "      <td>0.714286</td>\n",
              "      <td>1</td>\n",
              "      <td>0.714286</td>\n",
              "    </tr>\n",
              "    <tr>\n",
              "      <th>2</th>\n",
              "      <td>0</td>\n",
              "      <td>1</td>\n",
              "      <td>2</td>\n",
              "      <td>2.0</td>\n",
              "      <td>3.0</td>\n",
              "      <td>2.0</td>\n",
              "      <td>1.0</td>\n",
              "      <td>3</td>\n",
              "      <td>3</td>\n",
              "      <td>0.428571</td>\n",
              "      <td>1</td>\n",
              "      <td>0.428571</td>\n",
              "    </tr>\n",
              "    <tr>\n",
              "      <th>3</th>\n",
              "      <td>0</td>\n",
              "      <td>1</td>\n",
              "      <td>2</td>\n",
              "      <td>2.0</td>\n",
              "      <td>3.0</td>\n",
              "      <td>2.0</td>\n",
              "      <td>1.0</td>\n",
              "      <td>3</td>\n",
              "      <td>3</td>\n",
              "      <td>0.571429</td>\n",
              "      <td>1</td>\n",
              "      <td>0.571429</td>\n",
              "    </tr>\n",
              "    <tr>\n",
              "      <th>4</th>\n",
              "      <td>1</td>\n",
              "      <td>2</td>\n",
              "      <td>0</td>\n",
              "      <td>3.0</td>\n",
              "      <td>3.0</td>\n",
              "      <td>0.0</td>\n",
              "      <td>3.0</td>\n",
              "      <td>1</td>\n",
              "      <td>3</td>\n",
              "      <td>0.833333</td>\n",
              "      <td>0</td>\n",
              "      <td>0.833333</td>\n",
              "    </tr>\n",
              "    <tr>\n",
              "      <th>...</th>\n",
              "      <td>...</td>\n",
              "      <td>...</td>\n",
              "      <td>...</td>\n",
              "      <td>...</td>\n",
              "      <td>...</td>\n",
              "      <td>...</td>\n",
              "      <td>...</td>\n",
              "      <td>...</td>\n",
              "      <td>...</td>\n",
              "      <td>...</td>\n",
              "      <td>...</td>\n",
              "      <td>...</td>\n",
              "    </tr>\n",
              "    <tr>\n",
              "      <th>77</th>\n",
              "      <td>1</td>\n",
              "      <td>3</td>\n",
              "      <td>2</td>\n",
              "      <td>3.0</td>\n",
              "      <td>2.0</td>\n",
              "      <td>2.0</td>\n",
              "      <td>0.0</td>\n",
              "      <td>1</td>\n",
              "      <td>4</td>\n",
              "      <td>0.000000</td>\n",
              "      <td>1</td>\n",
              "      <td>0.000000</td>\n",
              "    </tr>\n",
              "    <tr>\n",
              "      <th>78</th>\n",
              "      <td>1</td>\n",
              "      <td>3</td>\n",
              "      <td>2</td>\n",
              "      <td>3.0</td>\n",
              "      <td>2.0</td>\n",
              "      <td>2.0</td>\n",
              "      <td>0.0</td>\n",
              "      <td>1</td>\n",
              "      <td>4</td>\n",
              "      <td>0.000000</td>\n",
              "      <td>1</td>\n",
              "      <td>0.000000</td>\n",
              "    </tr>\n",
              "    <tr>\n",
              "      <th>79</th>\n",
              "      <td>1</td>\n",
              "      <td>3</td>\n",
              "      <td>2</td>\n",
              "      <td>3.0</td>\n",
              "      <td>2.0</td>\n",
              "      <td>2.0</td>\n",
              "      <td>0.0</td>\n",
              "      <td>1</td>\n",
              "      <td>4</td>\n",
              "      <td>0.000000</td>\n",
              "      <td>1</td>\n",
              "      <td>0.000000</td>\n",
              "    </tr>\n",
              "    <tr>\n",
              "      <th>80</th>\n",
              "      <td>1</td>\n",
              "      <td>3</td>\n",
              "      <td>2</td>\n",
              "      <td>3.0</td>\n",
              "      <td>2.0</td>\n",
              "      <td>2.0</td>\n",
              "      <td>0.0</td>\n",
              "      <td>1</td>\n",
              "      <td>4</td>\n",
              "      <td>0.000000</td>\n",
              "      <td>1</td>\n",
              "      <td>0.000000</td>\n",
              "    </tr>\n",
              "    <tr>\n",
              "      <th>81</th>\n",
              "      <td>1</td>\n",
              "      <td>3</td>\n",
              "      <td>2</td>\n",
              "      <td>3.0</td>\n",
              "      <td>2.0</td>\n",
              "      <td>2.0</td>\n",
              "      <td>0.0</td>\n",
              "      <td>1</td>\n",
              "      <td>4</td>\n",
              "      <td>0.000000</td>\n",
              "      <td>1</td>\n",
              "      <td>0.000000</td>\n",
              "    </tr>\n",
              "  </tbody>\n",
              "</table>\n",
              "<p>82 rows × 12 columns</p>\n",
              "</div>"
            ],
            "text/plain": [
              "    Gender  Age  Ethnicity  Income  ...  Factor 2  Previous er  Rec        Er\n",
              "0        0    1          2     2.0  ...         3     0.166667    1  0.166667\n",
              "1        0    1          2     2.0  ...         3     0.714286    1  0.714286\n",
              "2        0    1          2     2.0  ...         3     0.428571    1  0.428571\n",
              "3        0    1          2     2.0  ...         3     0.571429    1  0.571429\n",
              "4        1    2          0     3.0  ...         3     0.833333    0  0.833333\n",
              "..     ...  ...        ...     ...  ...       ...          ...  ...       ...\n",
              "77       1    3          2     3.0  ...         4     0.000000    1  0.000000\n",
              "78       1    3          2     3.0  ...         4     0.000000    1  0.000000\n",
              "79       1    3          2     3.0  ...         4     0.000000    1  0.000000\n",
              "80       1    3          2     3.0  ...         4     0.000000    1  0.000000\n",
              "81       1    3          2     3.0  ...         4     0.000000    1  0.000000\n",
              "\n",
              "[82 rows x 12 columns]"
            ]
          },
          "metadata": {
            "tags": []
          },
          "execution_count": 12
        }
      ]
    },
    {
      "cell_type": "markdown",
      "metadata": {
        "id": "Ad8mUy1a5tCE"
      },
      "source": [
        "# Try to extract bayesian network structure from data"
      ]
    },
    {
      "cell_type": "code",
      "metadata": {
        "colab": {
          "base_uri": "https://localhost:8080/",
          "height": 560
        },
        "id": "IXvYgfFs5fbB",
        "outputId": "839ab983-3fdd-4c65-d940-60d355195e83"
      },
      "source": [
        "plt.figure(figsize=(10, 10))\n",
        "model = pm.BayesianNetwork.from_samples(df, algorithm='exact-dp')\n",
        "model.plot()"
      ],
      "execution_count": null,
      "outputs": [
        {
          "output_type": "display_data",
          "data": {
            "image/png": "[encoded data removed]",
            "text/plain": [
              "<Figure size 720x720 with 1 Axes>"
            ]
          },
          "metadata": {
            "tags": [],
            "needs_background": "light"
          }
        }
      ]
    },
    {
      "cell_type": "markdown",
      "metadata": {
        "id": "2pNJ-i5V6Oad"
      },
      "source": [
        "# Regression methods"
      ]
    },
    {
      "cell_type": "code",
      "metadata": {
        "id": "np1gtkHg7wPl"
      },
      "source": [
        "df = df.dropna()"
      ],
      "execution_count": null,
      "outputs": []
    },
    {
      "cell_type": "code",
      "metadata": {
        "id": "wKO2uzOQ5zna"
      },
      "source": [
        "y = df.pop('Er')\n",
        "X = df"
      ],
      "execution_count": null,
      "outputs": []
    },
    {
      "cell_type": "markdown",
      "metadata": {
        "id": "ek3eYf907BVz"
      },
      "source": [
        "# regular features"
      ]
    },
    {
      "cell_type": "code",
      "metadata": {
        "colab": {
          "base_uri": "https://localhost:8080/"
        },
        "id": "KXEdWwXh63rY",
        "outputId": "6fb42891-3827-4415-a941-c7fd529414f0"
      },
      "source": [
        "models = []\n",
        "models.append(('Linear', LinearRegression()))\n",
        "models.append(('Ridge', Ridge()))\n",
        "models.append(('Lasso', Lasso()))\n",
        "models.append(('Elastic', ElasticNet()))\n",
        "models.append(('RandomForest', RandomForestRegressor()))\n",
        "models.append(('DecisionTree', DecisionTreeRegressor()))\n",
        "\n",
        "# evaluate each model in turn\n",
        "for name, model in models:\n",
        "    cv_results = cross_val_score(model, X, y, cv=KFold(n_splits=5, shuffle=True), scoring='r2')\n",
        "    print(\"{}: {:.3f} {:.3f}\".format(name, cv_results.mean(), cv_results.std()))"
      ],
      "execution_count": null,
      "outputs": [
        {
          "output_type": "stream",
          "text": [
            "Linear: 1.000 0.000\n",
            "Ridge: 0.955 0.040\n",
            "Lasso: -0.115 0.134\n",
            "Elastic: -0.075 0.053\n",
            "RandomForest: 0.990 0.012\n",
            "DecisionTree: 0.989 0.008\n"
          ],
          "name": "stdout"
        }
      ]
    },
    {
      "cell_type": "code",
      "metadata": {
        "id": "uUB1z9eZ_T9V"
      },
      "source": [
        "test_y = test_data.pop('Er')\n",
        "test_x = test_data "
      ],
      "execution_count": null,
      "outputs": []
    },
    {
      "cell_type": "code",
      "metadata": {
        "colab": {
          "base_uri": "https://localhost:8080/"
        },
        "id": "1gx2R7_E9HQD",
        "outputId": "13dff172-a98c-4b3c-af67-a641015598f0"
      },
      "source": [
        "models = []\n",
        "models.append(('Linear', LinearRegression()))\n",
        "models.append(('Ridge', Ridge()))\n",
        "models.append(('Lasso', Lasso()))\n",
        "models.append(('Elastic', ElasticNet()))\n",
        "models.append(('RandomForest', RandomForestRegressor()))\n",
        "models.append(('DecisionTree', DecisionTreeRegressor()))\n",
        "\n",
        "for name, model in models:\n",
        "  model.fit(X, y)\n",
        "  pred = model.predict(test_x)\n",
        "  print('{} Anova: {} ttest: {}'.format(name, anova(pred, y), ttest(pred, y)))"
      ],
      "execution_count": null,
      "outputs": [
        {
          "output_type": "stream",
          "text": [
            "Linear Anova: 0.9781991635918711 ttest: 0.9781991635917815\n",
            "Ridge Anova: 0.682127136982869 ttest: 0.682127136982868\n",
            "Lasso Anova: 1.0 ttest: 1.0\n",
            "Elastic Anova: 1.0 ttest: 1.0\n",
            "RandomForest Anova: 0.9823529532201463 ttest: 0.9823529532200699\n",
            "DecisionTree Anova: 0.9233844238138856 ttest: 0.9233844238139027\n"
          ],
          "name": "stdout"
        }
      ]
    },
    {
      "cell_type": "markdown",
      "metadata": {
        "id": "eKxhf62kEpaT"
      },
      "source": [
        "# Multi-layer perceptron"
      ]
    },
    {
      "cell_type": "code",
      "metadata": {
        "colab": {
          "base_uri": "https://localhost:8080/"
        },
        "id": "XpDpsAklEr8O",
        "outputId": "5a9b411c-f1c3-47ca-cc12-de296ab307d9"
      },
      "source": [
        "mlp = tf.keras.models.Sequential()\n",
        "mlp.add(layers.Dense(12, activation='relu', input_shape=(11, )))\n",
        "mlp.add(layers.Dropout(0.25))\n",
        "mlp.add(layers.Dense(12, activation='relu'))\n",
        "mlp.add(layers.Dense(1, activation='sigmoid'))\n",
        "mlp.compile(optimizer='adam', loss='mse', metrics=['mse'])\n",
        "mlp.summary()"
      ],
      "execution_count": null,
      "outputs": [
        {
          "output_type": "stream",
          "text": [
            "Model: \"sequential\"\n",
            "_________________________________________________________________\n",
            "Layer (type)                 Output Shape              Param #   \n",
            "=================================================================\n",
            "dense (Dense)                (None, 12)                144       \n",
            "_________________________________________________________________\n",
            "dropout (Dropout)            (None, 12)                0         \n",
            "_________________________________________________________________\n",
            "dense_1 (Dense)              (None, 12)                156       \n",
            "_________________________________________________________________\n",
            "dense_2 (Dense)              (None, 1)                 13        \n",
            "=================================================================\n",
            "Total params: 313\n",
            "Trainable params: 313\n",
            "Non-trainable params: 0\n",
            "_________________________________________________________________\n"
          ],
          "name": "stdout"
        }
      ]
    },
    {
      "cell_type": "code",
      "metadata": {
        "id": "lzSlzlflFYwo"
      },
      "source": [
        ""
      ],
      "execution_count": null,
      "outputs": []
    },
    {
      "cell_type": "code",
      "metadata": {
        "colab": {
          "base_uri": "https://localhost:8080/"
        },
        "id": "fg8ay39RE8c5",
        "outputId": "7d27c162-74f8-405f-b3da-37f01d171596"
      },
      "source": [
        "y_ = y.to_numpy().reshape(-1, 1).astype('float32')\n",
        "X_ = X.to_numpy().astype('float32')\n",
        "print(y.shape)\n",
        "print(X_.shape)"
      ],
      "execution_count": null,
      "outputs": [
        {
          "output_type": "stream",
          "text": [
            "(56,)\n",
            "(56, 11)\n"
          ],
          "name": "stdout"
        }
      ]
    },
    {
      "cell_type": "code",
      "metadata": {
        "colab": {
          "base_uri": "https://localhost:8080/"
        },
        "id": "DWGXHyszE-d8",
        "outputId": "2fb9c854-0223-41c1-81b0-60bd526a76ce"
      },
      "source": [
        "mlp.fit(X_, y_, batch_size=4, epochs=100, validation_split=0.25)"
      ],
      "execution_count": null,
      "outputs": [
        {
          "output_type": "stream",
          "text": [
            "Epoch 1/100\n",
            "11/11 [==============================] - 0s 12ms/step - loss: 0.2375 - mse: 0.2375 - val_loss: 0.3067 - val_mse: 0.3067\n",
            "Epoch 2/100\n",
            "11/11 [==============================] - 0s 2ms/step - loss: 0.2267 - mse: 0.2267 - val_loss: 0.3092 - val_mse: 0.3092\n",
            "Epoch 3/100\n",
            "11/11 [==============================] - 0s 2ms/step - loss: 0.2079 - mse: 0.2079 - val_loss: 0.3118 - val_mse: 0.3118\n",
            "Epoch 4/100\n",
            "11/11 [==============================] - 0s 2ms/step - loss: 0.1926 - mse: 0.1926 - val_loss: 0.3116 - val_mse: 0.3116\n",
            "Epoch 5/100\n",
            "11/11 [==============================] - 0s 2ms/step - loss: 0.1896 - mse: 0.1896 - val_loss: 0.3088 - val_mse: 0.3088\n",
            "Epoch 6/100\n",
            "11/11 [==============================] - 0s 2ms/step - loss: 0.1798 - mse: 0.1798 - val_loss: 0.3064 - val_mse: 0.3064\n",
            "Epoch 7/100\n",
            "11/11 [==============================] - 0s 3ms/step - loss: 0.1719 - mse: 0.1719 - val_loss: 0.3043 - val_mse: 0.3043\n",
            "Epoch 8/100\n",
            "11/11 [==============================] - 0s 2ms/step - loss: 0.1709 - mse: 0.1709 - val_loss: 0.3073 - val_mse: 0.3073\n",
            "Epoch 9/100\n",
            "11/11 [==============================] - 0s 2ms/step - loss: 0.1683 - mse: 0.1683 - val_loss: 0.3074 - val_mse: 0.3074\n",
            "Epoch 10/100\n",
            "11/11 [==============================] - 0s 2ms/step - loss: 0.1533 - mse: 0.1533 - val_loss: 0.3085 - val_mse: 0.3085\n",
            "Epoch 11/100\n",
            "11/11 [==============================] - 0s 2ms/step - loss: 0.1598 - mse: 0.1598 - val_loss: 0.3076 - val_mse: 0.3076\n",
            "Epoch 12/100\n",
            "11/11 [==============================] - 0s 2ms/step - loss: 0.1508 - mse: 0.1508 - val_loss: 0.3079 - val_mse: 0.3079\n",
            "Epoch 13/100\n",
            "11/11 [==============================] - 0s 2ms/step - loss: 0.1502 - mse: 0.1502 - val_loss: 0.3039 - val_mse: 0.3039\n",
            "Epoch 14/100\n",
            "11/11 [==============================] - 0s 2ms/step - loss: 0.1421 - mse: 0.1421 - val_loss: 0.2996 - val_mse: 0.2996\n",
            "Epoch 15/100\n",
            "11/11 [==============================] - 0s 2ms/step - loss: 0.1527 - mse: 0.1527 - val_loss: 0.2980 - val_mse: 0.2980\n",
            "Epoch 16/100\n",
            "11/11 [==============================] - 0s 3ms/step - loss: 0.1428 - mse: 0.1428 - val_loss: 0.2965 - val_mse: 0.2965\n",
            "Epoch 17/100\n",
            "11/11 [==============================] - 0s 3ms/step - loss: 0.1343 - mse: 0.1343 - val_loss: 0.2961 - val_mse: 0.2961\n",
            "Epoch 18/100\n",
            "11/11 [==============================] - 0s 2ms/step - loss: 0.1330 - mse: 0.1330 - val_loss: 0.2983 - val_mse: 0.2983\n",
            "Epoch 19/100\n",
            "11/11 [==============================] - 0s 2ms/step - loss: 0.1349 - mse: 0.1349 - val_loss: 0.2995 - val_mse: 0.2995\n",
            "Epoch 20/100\n",
            "11/11 [==============================] - 0s 2ms/step - loss: 0.1289 - mse: 0.1289 - val_loss: 0.2933 - val_mse: 0.2933\n",
            "Epoch 21/100\n",
            "11/11 [==============================] - 0s 2ms/step - loss: 0.1265 - mse: 0.1265 - val_loss: 0.2892 - val_mse: 0.2892\n",
            "Epoch 22/100\n",
            "11/11 [==============================] - 0s 2ms/step - loss: 0.1192 - mse: 0.1192 - val_loss: 0.2868 - val_mse: 0.2868\n",
            "Epoch 23/100\n",
            "11/11 [==============================] - 0s 2ms/step - loss: 0.1122 - mse: 0.1122 - val_loss: 0.2848 - val_mse: 0.2848\n",
            "Epoch 24/100\n",
            "11/11 [==============================] - 0s 2ms/step - loss: 0.1095 - mse: 0.1095 - val_loss: 0.2841 - val_mse: 0.2841\n",
            "Epoch 25/100\n",
            "11/11 [==============================] - 0s 2ms/step - loss: 0.1061 - mse: 0.1061 - val_loss: 0.2671 - val_mse: 0.2671\n",
            "Epoch 26/100\n",
            "11/11 [==============================] - 0s 2ms/step - loss: 0.0915 - mse: 0.0915 - val_loss: 0.2550 - val_mse: 0.2550\n",
            "Epoch 27/100\n",
            "11/11 [==============================] - 0s 2ms/step - loss: 0.0858 - mse: 0.0858 - val_loss: 0.2497 - val_mse: 0.2497\n",
            "Epoch 28/100\n",
            "11/11 [==============================] - 0s 2ms/step - loss: 0.0943 - mse: 0.0943 - val_loss: 0.2494 - val_mse: 0.2494\n",
            "Epoch 29/100\n",
            "11/11 [==============================] - 0s 2ms/step - loss: 0.0823 - mse: 0.0823 - val_loss: 0.2528 - val_mse: 0.2528\n",
            "Epoch 30/100\n",
            "11/11 [==============================] - 0s 3ms/step - loss: 0.0794 - mse: 0.0794 - val_loss: 0.2522 - val_mse: 0.2522\n",
            "Epoch 31/100\n",
            "11/11 [==============================] - 0s 2ms/step - loss: 0.0555 - mse: 0.0555 - val_loss: 0.2474 - val_mse: 0.2474\n",
            "Epoch 32/100\n",
            "11/11 [==============================] - 0s 2ms/step - loss: 0.0675 - mse: 0.0675 - val_loss: 0.2481 - val_mse: 0.2481\n",
            "Epoch 33/100\n",
            "11/11 [==============================] - 0s 2ms/step - loss: 0.0646 - mse: 0.0646 - val_loss: 0.2492 - val_mse: 0.2492\n",
            "Epoch 34/100\n",
            "11/11 [==============================] - 0s 2ms/step - loss: 0.0555 - mse: 0.0555 - val_loss: 0.2534 - val_mse: 0.2534\n",
            "Epoch 35/100\n",
            "11/11 [==============================] - 0s 2ms/step - loss: 0.0505 - mse: 0.0505 - val_loss: 0.2590 - val_mse: 0.2590\n",
            "Epoch 36/100\n",
            "11/11 [==============================] - 0s 2ms/step - loss: 0.0361 - mse: 0.0361 - val_loss: 0.2575 - val_mse: 0.2575\n",
            "Epoch 37/100\n",
            "11/11 [==============================] - 0s 2ms/step - loss: 0.0509 - mse: 0.0509 - val_loss: 0.2438 - val_mse: 0.2438\n",
            "Epoch 38/100\n",
            "11/11 [==============================] - 0s 2ms/step - loss: 0.0439 - mse: 0.0439 - val_loss: 0.2463 - val_mse: 0.2463\n",
            "Epoch 39/100\n",
            "11/11 [==============================] - 0s 2ms/step - loss: 0.0350 - mse: 0.0350 - val_loss: 0.2631 - val_mse: 0.2631\n",
            "Epoch 40/100\n",
            "11/11 [==============================] - 0s 2ms/step - loss: 0.0300 - mse: 0.0300 - val_loss: 0.2775 - val_mse: 0.2775\n",
            "Epoch 41/100\n",
            "11/11 [==============================] - 0s 2ms/step - loss: 0.0451 - mse: 0.0451 - val_loss: 0.2738 - val_mse: 0.2738\n",
            "Epoch 42/100\n",
            "11/11 [==============================] - 0s 3ms/step - loss: 0.0258 - mse: 0.0258 - val_loss: 0.2816 - val_mse: 0.2816\n",
            "Epoch 43/100\n",
            "11/11 [==============================] - 0s 2ms/step - loss: 0.0157 - mse: 0.0157 - val_loss: 0.2899 - val_mse: 0.2899\n",
            "Epoch 44/100\n",
            "11/11 [==============================] - 0s 2ms/step - loss: 0.0296 - mse: 0.0296 - val_loss: 0.2757 - val_mse: 0.2757\n",
            "Epoch 45/100\n",
            "11/11 [==============================] - 0s 2ms/step - loss: 0.0388 - mse: 0.0388 - val_loss: 0.3220 - val_mse: 0.3220\n",
            "Epoch 46/100\n",
            "11/11 [==============================] - 0s 2ms/step - loss: 0.0345 - mse: 0.0345 - val_loss: 0.3241 - val_mse: 0.3241\n",
            "Epoch 47/100\n",
            "11/11 [==============================] - 0s 2ms/step - loss: 0.0201 - mse: 0.0201 - val_loss: 0.2882 - val_mse: 0.2882\n",
            "Epoch 48/100\n",
            "11/11 [==============================] - 0s 2ms/step - loss: 0.0218 - mse: 0.0218 - val_loss: 0.2873 - val_mse: 0.2873\n",
            "Epoch 49/100\n",
            "11/11 [==============================] - 0s 3ms/step - loss: 0.0198 - mse: 0.0198 - val_loss: 0.2844 - val_mse: 0.2844\n",
            "Epoch 50/100\n",
            "11/11 [==============================] - 0s 2ms/step - loss: 0.0321 - mse: 0.0321 - val_loss: 0.2823 - val_mse: 0.2823\n",
            "Epoch 51/100\n",
            "11/11 [==============================] - 0s 2ms/step - loss: 0.0345 - mse: 0.0345 - val_loss: 0.2974 - val_mse: 0.2974\n",
            "Epoch 52/100\n",
            "11/11 [==============================] - 0s 2ms/step - loss: 0.0265 - mse: 0.0265 - val_loss: 0.2985 - val_mse: 0.2985\n",
            "Epoch 53/100\n",
            "11/11 [==============================] - 0s 2ms/step - loss: 0.0174 - mse: 0.0174 - val_loss: 0.2936 - val_mse: 0.2936\n",
            "Epoch 54/100\n",
            "11/11 [==============================] - 0s 2ms/step - loss: 0.0394 - mse: 0.0394 - val_loss: 0.2797 - val_mse: 0.2797\n",
            "Epoch 55/100\n",
            "11/11 [==============================] - 0s 2ms/step - loss: 0.0197 - mse: 0.0197 - val_loss: 0.2702 - val_mse: 0.2702\n",
            "Epoch 56/100\n",
            "11/11 [==============================] - 0s 2ms/step - loss: 0.0183 - mse: 0.0183 - val_loss: 0.2697 - val_mse: 0.2697\n",
            "Epoch 57/100\n",
            "11/11 [==============================] - 0s 2ms/step - loss: 0.0244 - mse: 0.0244 - val_loss: 0.2851 - val_mse: 0.2851\n",
            "Epoch 58/100\n",
            "11/11 [==============================] - 0s 2ms/step - loss: 0.0290 - mse: 0.0290 - val_loss: 0.2889 - val_mse: 0.2889\n",
            "Epoch 59/100\n",
            "11/11 [==============================] - 0s 2ms/step - loss: 0.0268 - mse: 0.0268 - val_loss: 0.2850 - val_mse: 0.2850\n",
            "Epoch 60/100\n",
            "11/11 [==============================] - 0s 3ms/step - loss: 0.0470 - mse: 0.0470 - val_loss: 0.2695 - val_mse: 0.2695\n",
            "Epoch 61/100\n",
            "11/11 [==============================] - 0s 2ms/step - loss: 0.0278 - mse: 0.0278 - val_loss: 0.2674 - val_mse: 0.2674\n",
            "Epoch 62/100\n",
            "11/11 [==============================] - 0s 2ms/step - loss: 0.0318 - mse: 0.0318 - val_loss: 0.2709 - val_mse: 0.2709\n",
            "Epoch 63/100\n",
            "11/11 [==============================] - 0s 2ms/step - loss: 0.0225 - mse: 0.0225 - val_loss: 0.2897 - val_mse: 0.2897\n",
            "Epoch 64/100\n",
            "11/11 [==============================] - 0s 2ms/step - loss: 0.0173 - mse: 0.0173 - val_loss: 0.2972 - val_mse: 0.2972\n",
            "Epoch 65/100\n",
            "11/11 [==============================] - 0s 2ms/step - loss: 0.0308 - mse: 0.0308 - val_loss: 0.2709 - val_mse: 0.2709\n",
            "Epoch 66/100\n",
            "11/11 [==============================] - 0s 2ms/step - loss: 0.0108 - mse: 0.0108 - val_loss: 0.2585 - val_mse: 0.2585\n",
            "Epoch 67/100\n",
            "11/11 [==============================] - 0s 2ms/step - loss: 0.0181 - mse: 0.0181 - val_loss: 0.2477 - val_mse: 0.2477\n",
            "Epoch 68/100\n",
            "11/11 [==============================] - 0s 2ms/step - loss: 0.0154 - mse: 0.0154 - val_loss: 0.2544 - val_mse: 0.2544\n",
            "Epoch 69/100\n",
            "11/11 [==============================] - 0s 2ms/step - loss: 0.0172 - mse: 0.0172 - val_loss: 0.2579 - val_mse: 0.2579\n",
            "Epoch 70/100\n",
            "11/11 [==============================] - 0s 2ms/step - loss: 0.0179 - mse: 0.0179 - val_loss: 0.2618 - val_mse: 0.2618\n",
            "Epoch 71/100\n",
            "11/11 [==============================] - 0s 2ms/step - loss: 0.0355 - mse: 0.0355 - val_loss: 0.2358 - val_mse: 0.2358\n",
            "Epoch 72/100\n",
            "11/11 [==============================] - 0s 2ms/step - loss: 0.0222 - mse: 0.0222 - val_loss: 0.2327 - val_mse: 0.2327\n",
            "Epoch 73/100\n",
            "11/11 [==============================] - 0s 2ms/step - loss: 0.0261 - mse: 0.0261 - val_loss: 0.2509 - val_mse: 0.2509\n",
            "Epoch 74/100\n",
            "11/11 [==============================] - 0s 2ms/step - loss: 0.0149 - mse: 0.0149 - val_loss: 0.2595 - val_mse: 0.2595\n",
            "Epoch 75/100\n",
            "11/11 [==============================] - 0s 2ms/step - loss: 0.0133 - mse: 0.0133 - val_loss: 0.2605 - val_mse: 0.2605\n",
            "Epoch 76/100\n",
            "11/11 [==============================] - 0s 2ms/step - loss: 0.0254 - mse: 0.0254 - val_loss: 0.2645 - val_mse: 0.2645\n",
            "Epoch 77/100\n",
            "11/11 [==============================] - 0s 3ms/step - loss: 0.0239 - mse: 0.0239 - val_loss: 0.2557 - val_mse: 0.2557\n",
            "Epoch 78/100\n",
            "11/11 [==============================] - 0s 2ms/step - loss: 0.0199 - mse: 0.0199 - val_loss: 0.2585 - val_mse: 0.2585\n",
            "Epoch 79/100\n",
            "11/11 [==============================] - 0s 2ms/step - loss: 0.0166 - mse: 0.0166 - val_loss: 0.2609 - val_mse: 0.2609\n",
            "Epoch 80/100\n",
            "11/11 [==============================] - 0s 2ms/step - loss: 0.0127 - mse: 0.0127 - val_loss: 0.2546 - val_mse: 0.2546\n",
            "Epoch 81/100\n",
            "11/11 [==============================] - 0s 2ms/step - loss: 0.0173 - mse: 0.0173 - val_loss: 0.2436 - val_mse: 0.2436\n",
            "Epoch 82/100\n",
            "11/11 [==============================] - 0s 2ms/step - loss: 0.0183 - mse: 0.0183 - val_loss: 0.2417 - val_mse: 0.2417\n",
            "Epoch 83/100\n",
            "11/11 [==============================] - 0s 3ms/step - loss: 0.0226 - mse: 0.0226 - val_loss: 0.2479 - val_mse: 0.2479\n",
            "Epoch 84/100\n",
            "11/11 [==============================] - 0s 2ms/step - loss: 0.0145 - mse: 0.0145 - val_loss: 0.2452 - val_mse: 0.2452\n",
            "Epoch 85/100\n",
            "11/11 [==============================] - 0s 2ms/step - loss: 0.0156 - mse: 0.0156 - val_loss: 0.2437 - val_mse: 0.2437\n",
            "Epoch 86/100\n",
            "11/11 [==============================] - 0s 2ms/step - loss: 0.0218 - mse: 0.0218 - val_loss: 0.2378 - val_mse: 0.2378\n",
            "Epoch 87/100\n",
            "11/11 [==============================] - 0s 2ms/step - loss: 0.0155 - mse: 0.0155 - val_loss: 0.2352 - val_mse: 0.2352\n",
            "Epoch 88/100\n",
            "11/11 [==============================] - 0s 2ms/step - loss: 0.0244 - mse: 0.0244 - val_loss: 0.2307 - val_mse: 0.2307\n",
            "Epoch 89/100\n",
            "11/11 [==============================] - 0s 2ms/step - loss: 0.0162 - mse: 0.0162 - val_loss: 0.2377 - val_mse: 0.2377\n",
            "Epoch 90/100\n",
            "11/11 [==============================] - 0s 3ms/step - loss: 0.0141 - mse: 0.0141 - val_loss: 0.2407 - val_mse: 0.2407\n",
            "Epoch 91/100\n",
            "11/11 [==============================] - 0s 2ms/step - loss: 0.0219 - mse: 0.0219 - val_loss: 0.2272 - val_mse: 0.2272\n",
            "Epoch 92/100\n",
            "11/11 [==============================] - 0s 2ms/step - loss: 0.0109 - mse: 0.0109 - val_loss: 0.2084 - val_mse: 0.2084\n",
            "Epoch 93/100\n",
            "11/11 [==============================] - 0s 2ms/step - loss: 0.0156 - mse: 0.0156 - val_loss: 0.2023 - val_mse: 0.2023\n",
            "Epoch 94/100\n",
            "11/11 [==============================] - 0s 2ms/step - loss: 0.0149 - mse: 0.0149 - val_loss: 0.2082 - val_mse: 0.2082\n",
            "Epoch 95/100\n",
            "11/11 [==============================] - 0s 2ms/step - loss: 0.0194 - mse: 0.0194 - val_loss: 0.1881 - val_mse: 0.1881\n",
            "Epoch 96/100\n",
            "11/11 [==============================] - 0s 2ms/step - loss: 0.0196 - mse: 0.0196 - val_loss: 0.1836 - val_mse: 0.1836\n",
            "Epoch 97/100\n",
            "11/11 [==============================] - 0s 2ms/step - loss: 0.0201 - mse: 0.0201 - val_loss: 0.1879 - val_mse: 0.1879\n",
            "Epoch 98/100\n",
            "11/11 [==============================] - 0s 2ms/step - loss: 0.0202 - mse: 0.0202 - val_loss: 0.1925 - val_mse: 0.1925\n",
            "Epoch 99/100\n",
            "11/11 [==============================] - 0s 2ms/step - loss: 0.0134 - mse: 0.0134 - val_loss: 0.2000 - val_mse: 0.2000\n",
            "Epoch 100/100\n",
            "11/11 [==============================] - 0s 2ms/step - loss: 0.0144 - mse: 0.0144 - val_loss: 0.2032 - val_mse: 0.2032\n"
          ],
          "name": "stdout"
        },
        {
          "output_type": "execute_result",
          "data": {
            "text/plain": [
              "<tensorflow.python.keras.callbacks.History at 0x7f1e4bacecc0>"
            ]
          },
          "metadata": {
            "tags": []
          },
          "execution_count": 21
        }
      ]
    },
    {
      "cell_type": "code",
      "metadata": {
        "colab": {
          "base_uri": "https://localhost:8080/"
        },
        "id": "fd93h-DTFwX2",
        "outputId": "056a3e27-6d84-4858-c737-4b41baf5336a"
      },
      "source": [
        "pred = model.predict(test_x.to_numpy())\n",
        "print('{} Anova: {} ttest: {}'.format(name, anova(pred, test_y.to_numpy()), ttest(pred, test_y.to_numpy())))"
      ],
      "execution_count": null,
      "outputs": [
        {
          "output_type": "stream",
          "text": [
            "DecisionTree Anova: 0.9073033064213671 ttest: 0.9073033064213685\n"
          ],
          "name": "stdout"
        }
      ]
    },
    {
      "cell_type": "markdown",
      "metadata": {
        "id": "XoLX4RuwDP8Y"
      },
      "source": [
        "# Time series"
      ]
    },
    {
      "cell_type": "code",
      "metadata": {
        "id": "ILwZ3Khc7o5m"
      },
      "source": [
        "df = pd.read_csv('data/GC-Predictive-Analytics-worksheet - Sheet1 - week6.csv')\n",
        "df = df.drop([11, 12])\n",
        "df = df.reset_index()\n",
        "del df['cluster']\n",
        "del df['Unnamed: 12']"
      ],
      "execution_count": null,
      "outputs": []
    },
    {
      "cell_type": "code",
      "metadata": {
        "id": "CtzGACYhDlRC"
      },
      "source": [
        "rec_idxs = [str(i) for i in range(1, 15)]\n",
        "er_idxs = ['ER']\n",
        "er_idxs.extend(['ER.{}'.format(i) for i in range(1, 14)])\n",
        "rec_idxs.append('16 Recommendation ')\n",
        "rec_idxs.append('17 Recommendation')\n",
        "er_idxs.append('Actual ER')\n",
        "er_idxs.append('Actual ER.1')"
      ],
      "execution_count": null,
      "outputs": []
    },
    {
      "cell_type": "code",
      "metadata": {
        "id": "ih_nRxP0D6__"
      },
      "source": [
        "rrecs = []\n",
        "eers = []\n",
        "iids = []\n",
        "for i in range(len(df)):\n",
        "  recs = []\n",
        "  ers = []\n",
        "  for rec, er in zip(rec_idxs, er_idxs):\n",
        "      recomendation = df[rec][i]\n",
        "      try:\n",
        "        engagement = float(df[er][i])\n",
        "      except ValueError:\n",
        "        engagement = 0.0\n",
        "      if pd.isna(recomendation):\n",
        "        continue\n",
        "      elif recomendation == 'Phy':\n",
        "        recomendation = 0\n",
        "      else:\n",
        "        recomendation = 1\n",
        "      recs.append(recomendation)\n",
        "      ers.append(engagement)\n",
        "  rrecs.append(recs)\n",
        "  eers.append(ers)"
      ],
      "execution_count": null,
      "outputs": []
    },
    {
      "cell_type": "code",
      "metadata": {
        "colab": {
          "base_uri": "https://localhost:8080/",
          "height": 1000
        },
        "id": "QlxJ-bU9D8Kt",
        "outputId": "d4ab88bc-04ec-4fb6-9177-73aff71a0853"
      },
      "source": [
        "for i in range(len(rrecs)):\n",
        "  plt.figure(figsize=(16, 8))\n",
        "  plt.plot(list(range(len(rrecs[i]))), rrecs[i], '*', list(range(len(rrecs[i]))), eers[i])\n",
        "  plt.legend(['RECOMMENDATION (1=diet)', 'ER'])\n",
        "  plt.xlabel('week')\n",
        "  plt.ylabel('ER')\n",
        "  plt.show()"
      ],
      "execution_count": null,
      "outputs": [
        {
          "output_type": "display_data",
          "data": {
            "image/png": "[encoded data removed]",
            "text/plain": [
              "<Figure size 1152x576 with 1 Axes>"
            ]
          },
          "metadata": {
            "tags": [],
            "needs_background": "light"
          }
        },
        {
          "output_type": "display_data",
          "data": {
            "image/png": "[encoded data removed]",
            "text/plain": [
              "<Figure size 1152x576 with 1 Axes>"
            ]
          },
          "metadata": {
            "tags": [],
            "needs_background": "light"
          }
        },
        {
          "output_type": "display_data",
          "data": {
            "image/png": "[encoded data removed]",
            "text/plain": [
              "<Figure size 1152x576 with 1 Axes>"
            ]
          },
          "metadata": {
            "tags": [],
            "needs_background": "light"
          }
        },
        {
          "output_type": "display_data",
          "data": {
            "image/png": "[encoded data removed]",
            "text/plain": [
              "<Figure size 1152x576 with 1 Axes>"
            ]
          },
          "metadata": {
            "tags": [],
            "needs_background": "light"
          }
        },
        {
          "output_type": "display_data",
          "data": {
            "image/png": "[encoded data removed]",
            "text/plain": [
              "<Figure size 1152x576 with 1 Axes>"
            ]
          },
          "metadata": {
            "tags": [],
            "needs_background": "light"
          }
        },
        {
          "output_type": "display_data",
          "data": {
            "image/png": "[encoded data removed]",
            "text/plain": [
              "<Figure size 1152x576 with 1 Axes>"
            ]
          },
          "metadata": {
            "tags": [],
            "needs_background": "light"
          }
        },
        {
          "output_type": "display_data",
          "data": {
            "image/png": "[encoded data removed]",
            "text/plain": [
              "<Figure size 1152x576 with 1 Axes>"
            ]
          },
          "metadata": {
            "tags": [],
            "needs_background": "light"
          }
        },
        {
          "output_type": "display_data",
          "data": {
            "image/png": "[encoded data removed]",
            "text/plain": [
              "<Figure size 1152x576 with 1 Axes>"
            ]
          },
          "metadata": {
            "tags": [],
            "needs_background": "light"
          }
        },
        {
          "output_type": "display_data",
          "data": {
            "image/png": "[encoded data removed]",
            "text/plain": [
              "<Figure size 1152x576 with 1 Axes>"
            ]
          },
          "metadata": {
            "tags": [],
            "needs_background": "light"
          }
        },
        {
          "output_type": "display_data",
          "data": {
            "image/png": "[encoded data removed]",
            "text/plain": [
              "<Figure size 1152x576 with 1 Axes>"
            ]
          },
          "metadata": {
            "tags": [],
            "needs_background": "light"
          }
        },
        {
          "output_type": "display_data",
          "data": {
            "image/png": "[encoded data removed]",
            "text/plain": [
              "<Figure size 1152x576 with 1 Axes>"
            ]
          },
          "metadata": {
            "tags": [],
            "needs_background": "light"
          }
        },
        {
          "output_type": "display_data",
          "data": {
            "image/png": "[encoded data removed]",
            "text/plain": [
              "<Figure size 1152x576 with 1 Axes>"
            ]
          },
          "metadata": {
            "tags": [],
            "needs_background": "light"
          }
        },
        {
          "output_type": "display_data",
          "data": {
            "image/png": "[encoded data removed]",
            "text/plain": [
              "<Figure size 1152x576 with 1 Axes>"
            ]
          },
          "metadata": {
            "tags": [],
            "needs_background": "light"
          }
        },
        {
          "output_type": "display_data",
          "data": {
            "image/png": "[encoded data removed]",
            "text/plain": [
              "<Figure size 1152x576 with 1 Axes>"
            ]
          },
          "metadata": {
            "tags": [],
            "needs_background": "light"
          }
        },
        {
          "output_type": "display_data",
          "data": {
            "image/png": "[encoded data removed]",
            "text/plain": [
              "<Figure size 1152x576 with 1 Axes>"
            ]
          },
          "metadata": {
            "tags": [],
            "needs_background": "light"
          }
        },
        {
          "output_type": "display_data",
          "data": {
            "image/png": "[encoded data removed]",
            "text/plain": [
              "<Figure size 1152x576 with 1 Axes>"
            ]
          },
          "metadata": {
            "tags": [],
            "needs_background": "light"
          }
        }
      ]
    },
    {
      "cell_type": "code",
      "metadata": {
        "id": "pREQDnu6EPjQ"
      },
      "source": [
        "max_len = max([len(s) for s in eers])"
      ],
      "execution_count": null,
      "outputs": []
    },
    {
      "cell_type": "code",
      "metadata": {
        "id": "NooH5mInG3M8"
      },
      "source": [
        "new_er = []\n",
        "for er in eers:\n",
        "  if sum(er) == 0:\n",
        "    continue\n",
        "  if len(er) < max_len:\n",
        "    er = [0]*(max_len - len(er)) + er\n",
        "  new_er.append(np.array(er))\n",
        "new_er = np.vstack(new_er)"
      ],
      "execution_count": null,
      "outputs": []
    },
    {
      "cell_type": "code",
      "metadata": {
        "id": "F7x1OyJcIxQb"
      },
      "source": [
        "train = new_er[:, :-1]\n",
        "true_pred = new_er[:, -1]"
      ],
      "execution_count": null,
      "outputs": []
    },
    {
      "cell_type": "code",
      "metadata": {
        "colab": {
          "base_uri": "https://localhost:8080/"
        },
        "id": "orCPtwnDI9et",
        "outputId": "209fd647-6cc8-4859-b5ff-632384d45693"
      },
      "source": [
        "true_pred"
      ],
      "execution_count": null,
      "outputs": [
        {
          "output_type": "execute_result",
          "data": {
            "text/plain": [
              "array([0.        , 0.        , 0.57142857, 0.9       , 0.3       ,\n",
              "       0.1       , 0.3       , 1.        , 0.        , 0.        ])"
            ]
          },
          "metadata": {
            "tags": []
          },
          "execution_count": 30
        }
      ]
    },
    {
      "cell_type": "code",
      "metadata": {
        "id": "EpMTurA5ISRb"
      },
      "source": [
        "startDate = '2020-09-01'\n",
        "endDate = '2020-12-14'"
      ],
      "execution_count": null,
      "outputs": []
    },
    {
      "cell_type": "code",
      "metadata": {
        "id": "aYqf5DSuINhH"
      },
      "source": [
        "date_rng = pd.date_range(start=datetime.datetime.strptime(startDate, \"%Y-%m-%d\"), \n",
        "                         end=datetime.datetime.strptime(endDate, \"%Y-%m-%d\"), \n",
        "                         freq='W')"
      ],
      "execution_count": null,
      "outputs": []
    },
    {
      "cell_type": "code",
      "metadata": {
        "colab": {
          "base_uri": "https://localhost:8080/"
        },
        "id": "BpVIayj1J_e6",
        "outputId": "d6904bda-e7c7-4caa-8a3c-f84ff430060c"
      },
      "source": [
        "date_rng"
      ],
      "execution_count": null,
      "outputs": [
        {
          "output_type": "execute_result",
          "data": {
            "text/plain": [
              "DatetimeIndex(['2020-09-06', '2020-09-13', '2020-09-20', '2020-09-27',\n",
              "               '2020-10-04', '2020-10-11', '2020-10-18', '2020-10-25',\n",
              "               '2020-11-01', '2020-11-08', '2020-11-15', '2020-11-22',\n",
              "               '2020-11-29', '2020-12-06', '2020-12-13'],\n",
              "              dtype='datetime64[ns]', freq='W-SUN')"
            ]
          },
          "metadata": {
            "tags": []
          },
          "execution_count": 33
        }
      ]
    },
    {
      "cell_type": "code",
      "metadata": {
        "colab": {
          "base_uri": "https://localhost:8080/"
        },
        "id": "TasRlUdjHJnz",
        "outputId": "06fb4e1e-24e1-4958-e30a-277707bf0f4a"
      },
      "source": [
        "preds = []\n",
        "for i in range(train.shape[0]):\n",
        "  df = pd.DataFrame(date_rng, columns=['date'])\n",
        "  df['data'] = train[i]\n",
        "  df['datetime'] = pd.to_datetime(df['date'])\n",
        "  df = df.set_index('datetime')\n",
        "  df.drop(['date'], axis=1, inplace=True)\n",
        "\n",
        "  model = ARIMA(df, order=(3, 1, 0))\n",
        "  model_fit = model.fit(disp=1)\n",
        "  preds.append(model_fit.predict(start=\"2020-12-20\")[0])"
      ],
      "execution_count": null,
      "outputs": [
        {
          "output_type": "stream",
          "text": [
            "/usr/local/lib/python3.6/dist-packages/statsmodels/tsa/base/tsa_model.py:165: ValueWarning: No frequency information was provided, so inferred frequency W-SUN will be used.\n",
            "  % freq, ValueWarning)\n",
            "/usr/local/lib/python3.6/dist-packages/statsmodels/tsa/base/tsa_model.py:165: ValueWarning: No frequency information was provided, so inferred frequency W-SUN will be used.\n",
            "  % freq, ValueWarning)\n",
            "/usr/local/lib/python3.6/dist-packages/statsmodels/tsa/base/tsa_model.py:165: ValueWarning: No frequency information was provided, so inferred frequency W-SUN will be used.\n",
            "  % freq, ValueWarning)\n",
            "/usr/local/lib/python3.6/dist-packages/statsmodels/tsa/base/tsa_model.py:165: ValueWarning: No frequency information was provided, so inferred frequency W-SUN will be used.\n",
            "  % freq, ValueWarning)\n",
            "/usr/local/lib/python3.6/dist-packages/statsmodels/tsa/base/tsa_model.py:165: ValueWarning: No frequency information was provided, so inferred frequency W-SUN will be used.\n",
            "  % freq, ValueWarning)\n",
            "/usr/local/lib/python3.6/dist-packages/statsmodels/tsa/base/tsa_model.py:165: ValueWarning: No frequency information was provided, so inferred frequency W-SUN will be used.\n",
            "  % freq, ValueWarning)\n",
            "/usr/local/lib/python3.6/dist-packages/statsmodels/tsa/base/tsa_model.py:165: ValueWarning: No frequency information was provided, so inferred frequency W-SUN will be used.\n",
            "  % freq, ValueWarning)\n",
            "/usr/local/lib/python3.6/dist-packages/statsmodels/tsa/base/tsa_model.py:165: ValueWarning: No frequency information was provided, so inferred frequency W-SUN will be used.\n",
            "  % freq, ValueWarning)\n",
            "/usr/local/lib/python3.6/dist-packages/statsmodels/tsa/base/tsa_model.py:165: ValueWarning: No frequency information was provided, so inferred frequency W-SUN will be used.\n",
            "  % freq, ValueWarning)\n",
            "/usr/local/lib/python3.6/dist-packages/statsmodels/tsa/base/tsa_model.py:165: ValueWarning: No frequency information was provided, so inferred frequency W-SUN will be used.\n",
            "  % freq, ValueWarning)\n",
            "/usr/local/lib/python3.6/dist-packages/statsmodels/tsa/base/tsa_model.py:165: ValueWarning: No frequency information was provided, so inferred frequency W-SUN will be used.\n",
            "  % freq, ValueWarning)\n",
            "/usr/local/lib/python3.6/dist-packages/statsmodels/tsa/base/tsa_model.py:165: ValueWarning: No frequency information was provided, so inferred frequency W-SUN will be used.\n",
            "  % freq, ValueWarning)\n",
            "/usr/local/lib/python3.6/dist-packages/statsmodels/tsa/base/tsa_model.py:165: ValueWarning: No frequency information was provided, so inferred frequency W-SUN will be used.\n",
            "  % freq, ValueWarning)\n",
            "/usr/local/lib/python3.6/dist-packages/statsmodels/tsa/base/tsa_model.py:165: ValueWarning: No frequency information was provided, so inferred frequency W-SUN will be used.\n",
            "  % freq, ValueWarning)\n",
            "/usr/local/lib/python3.6/dist-packages/statsmodels/tsa/base/tsa_model.py:165: ValueWarning: No frequency information was provided, so inferred frequency W-SUN will be used.\n",
            "  % freq, ValueWarning)\n",
            "/usr/local/lib/python3.6/dist-packages/statsmodels/tsa/base/tsa_model.py:165: ValueWarning: No frequency information was provided, so inferred frequency W-SUN will be used.\n",
            "  % freq, ValueWarning)\n",
            "/usr/local/lib/python3.6/dist-packages/statsmodels/tsa/base/tsa_model.py:165: ValueWarning: No frequency information was provided, so inferred frequency W-SUN will be used.\n",
            "  % freq, ValueWarning)\n",
            "/usr/local/lib/python3.6/dist-packages/statsmodels/tsa/base/tsa_model.py:165: ValueWarning: No frequency information was provided, so inferred frequency W-SUN will be used.\n",
            "  % freq, ValueWarning)\n",
            "/usr/local/lib/python3.6/dist-packages/statsmodels/tsa/base/tsa_model.py:165: ValueWarning: No frequency information was provided, so inferred frequency W-SUN will be used.\n",
            "  % freq, ValueWarning)\n",
            "/usr/local/lib/python3.6/dist-packages/statsmodels/tsa/base/tsa_model.py:165: ValueWarning: No frequency information was provided, so inferred frequency W-SUN will be used.\n",
            "  % freq, ValueWarning)\n"
          ],
          "name": "stderr"
        }
      ]
    },
    {
      "cell_type": "code",
      "metadata": {
        "colab": {
          "base_uri": "https://localhost:8080/"
        },
        "id": "gILoQPZfHwhi",
        "outputId": "0c5c181d-9a55-49e1-9cf0-52c119c7859c"
      },
      "source": [
        "anova(preds, true_pred)"
      ],
      "execution_count": null,
      "outputs": [
        {
          "output_type": "execute_result",
          "data": {
            "text/plain": [
              "0.026195981834259644"
            ]
          },
          "metadata": {
            "tags": []
          },
          "execution_count": 35
        }
      ]
    },
    {
      "cell_type": "code",
      "metadata": {
        "colab": {
          "base_uri": "https://localhost:8080/"
        },
        "id": "99ogt3k3Pqa-",
        "outputId": "b85952d8-6f94-4c89-be58-0ee03170c7ff"
      },
      "source": [
        "ttest(preds, true_pred)"
      ],
      "execution_count": null,
      "outputs": [
        {
          "output_type": "execute_result",
          "data": {
            "text/plain": [
              "0.026195981834259734"
            ]
          },
          "metadata": {
            "tags": []
          },
          "execution_count": 36
        }
      ]
    },
    {
      "cell_type": "markdown",
      "metadata": {
        "id": "i3GFox5GSYLB"
      },
      "source": [
        "# Weekly predictions"
      ]
    },
    {
      "cell_type": "code",
      "metadata": {
        "id": "pdbLHQt6TDLV"
      },
      "source": [
        "df = pd.read_csv('data/GC-Predictive-Analytics-worksheet - Sheet1 - week6.csv')\n",
        "df = df.drop([11, 12])\n",
        "df = df.reset_index()\n",
        "del df['cluster']\n",
        "del df['Unnamed: 12']\n",
        "\n",
        "df['Age'] = df['Age'].replace(\"40-50's\", '45')\n",
        "df['Age'] = df['Age'].astype('int32')"
      ],
      "execution_count": null,
      "outputs": []
    },
    {
      "cell_type": "code",
      "metadata": {
        "id": "kF0T77XEUTXH"
      },
      "source": [
        "rec_idxs = [str(i) for i in range(1, 15)]\n",
        "er_idxs = ['ER']\n",
        "er_idxs.extend(['ER.{}'.format(i) for i in range(1, 14)])\n",
        "rec_idxs.append('16 Recommendation ')\n",
        "rec_idxs.append('17 Recommendation')\n",
        "er_idxs.append('Actual ER')\n",
        "er_idxs.append('Actual ER.1')"
      ],
      "execution_count": null,
      "outputs": []
    },
    {
      "cell_type": "code",
      "metadata": {
        "id": "m8mpjgr1Urxi"
      },
      "source": [
        "rrecs = []\n",
        "eers = []\n",
        "iids = []\n",
        "for i in range(len(df)):\n",
        "  recs = []\n",
        "  ers = []\n",
        "  for rec, er in zip(rec_idxs, er_idxs):\n",
        "      recomendation = df[rec][i]\n",
        "      try:\n",
        "        engagement = float(df[er][i])\n",
        "      except ValueError:\n",
        "        engagement = 0.0\n",
        "      if pd.isna(recomendation):\n",
        "        continue\n",
        "      elif recomendation == 'Phy':\n",
        "        recomendation = 0\n",
        "      else:\n",
        "        recomendation = 1\n",
        "      recs.append(recomendation)\n",
        "      ers.append(engagement)\n",
        "  rrecs.append(recs)\n",
        "  eers.append(ers)"
      ],
      "execution_count": null,
      "outputs": []
    },
    {
      "cell_type": "code",
      "metadata": {
        "id": "ttDQW2U2U1CM"
      },
      "source": [
        "sum_diet = 0\n",
        "sum_phy = 0\n",
        "diet_n = 0\n",
        "phy_n = 0\n",
        "for ers_, rec_ in zip(eers, rrecs):\n",
        "  for i in range(len(ers_)):\n",
        "    if rec_[i] == 1:\n",
        "      sum_diet += ers_[i]\n",
        "      diet_n += 1\n",
        "    else:\n",
        "      sum_phy += ers_[i]\n",
        "      phy_n += 1\n",
        "\n",
        "diet = sum_diet / diet_n\n",
        "phy = sum_phy / phy_n"
      ],
      "execution_count": null,
      "outputs": []
    },
    {
      "cell_type": "code",
      "metadata": {
        "colab": {
          "base_uri": "https://localhost:8080/"
        },
        "id": "UdhsxitZU8lB",
        "outputId": "8ef45279-7861-468b-ee30-5884d963d0cf"
      },
      "source": [
        "diet"
      ],
      "execution_count": null,
      "outputs": [
        {
          "output_type": "execute_result",
          "data": {
            "text/plain": [
              "0.33028784430218744"
            ]
          },
          "metadata": {
            "tags": []
          },
          "execution_count": 41
        }
      ]
    },
    {
      "cell_type": "code",
      "metadata": {
        "colab": {
          "base_uri": "https://localhost:8080/"
        },
        "id": "NB-Le9ZbU93a",
        "outputId": "aac0e8c3-3bb8-418a-ec07-8708bb55930a"
      },
      "source": [
        "phy"
      ],
      "execution_count": null,
      "outputs": [
        {
          "output_type": "execute_result",
          "data": {
            "text/plain": [
              "0.2400511928913793"
            ]
          },
          "metadata": {
            "tags": []
          },
          "execution_count": 42
        }
      ]
    },
    {
      "cell_type": "code",
      "metadata": {
        "id": "BGoqK7GpU-7x"
      },
      "source": [
        "max_len = max([len(s) for s in eers])"
      ],
      "execution_count": null,
      "outputs": []
    },
    {
      "cell_type": "code",
      "metadata": {
        "id": "P9eSrgamVc_b"
      },
      "source": [
        "new_er = []\n",
        "for er in eers:\n",
        "  # if sum(er) == 0:\n",
        "  #   continue\n",
        "  if len(er) < max_len:\n",
        "    er = [0]*(max_len - len(er)) + er\n",
        "  new_er.append(np.array(er))\n",
        "new_er = np.vstack(new_er)"
      ],
      "execution_count": null,
      "outputs": []
    },
    {
      "cell_type": "code",
      "metadata": {
        "id": "Mj4m43oyVhsd"
      },
      "source": [
        "rows = [2, 4, 5, 6, 7]\n",
        "new_er = new_er[rows, :]"
      ],
      "execution_count": null,
      "outputs": []
    },
    {
      "cell_type": "code",
      "metadata": {
        "id": "5TXhUoALVimU"
      },
      "source": [
        "startDate = '2020-09-01'\n",
        "endDate = '2020-12-20'\n",
        "date_rng = pd.date_range(start=datetime.datetime.strptime(startDate, \"%Y-%m-%d\"), \n",
        "                         end=datetime.datetime.strptime(endDate, \"%Y-%m-%d\"), \n",
        "                         freq='W')"
      ],
      "execution_count": null,
      "outputs": []
    },
    {
      "cell_type": "code",
      "metadata": {
        "colab": {
          "base_uri": "https://localhost:8080/"
        },
        "id": "1kK2O_zWW8Ae",
        "outputId": "ed5ec087-e442-4380-d126-88c51429a5cd"
      },
      "source": [
        "preds = []\n",
        "for i in range(new_er.shape[0]):\n",
        "  df = pd.DataFrame(date_rng, columns=['date'])\n",
        "  df['data'] = new_er[i]\n",
        "  df['datetime'] = pd.to_datetime(df['date'])\n",
        "  df = df.set_index('datetime')\n",
        "  df.drop(['date'], axis=1, inplace=True)\n",
        "\n",
        "  model = ARIMA(df, order=(3, 1, 0))\n",
        "  model_fit = model.fit(disp=1)\n",
        "  preds.append(model_fit.predict(start=\"2020-12-27\")[0])"
      ],
      "execution_count": null,
      "outputs": [
        {
          "output_type": "stream",
          "text": [
            "/usr/local/lib/python3.6/dist-packages/statsmodels/tsa/base/tsa_model.py:165: ValueWarning: No frequency information was provided, so inferred frequency W-SUN will be used.\n",
            "  % freq, ValueWarning)\n",
            "/usr/local/lib/python3.6/dist-packages/statsmodels/tsa/base/tsa_model.py:165: ValueWarning: No frequency information was provided, so inferred frequency W-SUN will be used.\n",
            "  % freq, ValueWarning)\n",
            "/usr/local/lib/python3.6/dist-packages/statsmodels/tsa/base/tsa_model.py:165: ValueWarning: No frequency information was provided, so inferred frequency W-SUN will be used.\n",
            "  % freq, ValueWarning)\n",
            "/usr/local/lib/python3.6/dist-packages/statsmodels/tsa/base/tsa_model.py:165: ValueWarning: No frequency information was provided, so inferred frequency W-SUN will be used.\n",
            "  % freq, ValueWarning)\n",
            "/usr/local/lib/python3.6/dist-packages/statsmodels/tsa/base/tsa_model.py:165: ValueWarning: No frequency information was provided, so inferred frequency W-SUN will be used.\n",
            "  % freq, ValueWarning)\n",
            "/usr/local/lib/python3.6/dist-packages/statsmodels/tsa/base/tsa_model.py:165: ValueWarning: No frequency information was provided, so inferred frequency W-SUN will be used.\n",
            "  % freq, ValueWarning)\n",
            "/usr/local/lib/python3.6/dist-packages/statsmodels/tsa/base/tsa_model.py:165: ValueWarning: No frequency information was provided, so inferred frequency W-SUN will be used.\n",
            "  % freq, ValueWarning)\n",
            "/usr/local/lib/python3.6/dist-packages/statsmodels/tsa/base/tsa_model.py:165: ValueWarning: No frequency information was provided, so inferred frequency W-SUN will be used.\n",
            "  % freq, ValueWarning)\n",
            "/usr/local/lib/python3.6/dist-packages/statsmodels/tsa/base/tsa_model.py:165: ValueWarning: No frequency information was provided, so inferred frequency W-SUN will be used.\n",
            "  % freq, ValueWarning)\n",
            "/usr/local/lib/python3.6/dist-packages/statsmodels/tsa/base/tsa_model.py:165: ValueWarning: No frequency information was provided, so inferred frequency W-SUN will be used.\n",
            "  % freq, ValueWarning)\n"
          ],
          "name": "stderr"
        }
      ]
    },
    {
      "cell_type": "code",
      "metadata": {
        "colab": {
          "base_uri": "https://localhost:8080/"
        },
        "id": "Ibk_rj_cXXKg",
        "outputId": "8e69d46e-bc09-4aa0-86a7-15c8acc7cf4f"
      },
      "source": [
        "for r, p in zip(rows, preds):\n",
        "  print('{}:{}'.format(r, p))"
      ],
      "execution_count": null,
      "outputs": [
        {
          "output_type": "stream",
          "text": [
            "2:0.060415466714210456\n",
            "4:0.15009046298640752\n",
            "5:0.1018601117732206\n",
            "6:0.024422947733754453\n",
            "7:-0.2693955909225728\n"
          ],
          "name": "stdout"
        }
      ]
    },
    {
      "cell_type": "markdown",
      "metadata": {
        "id": "TiqZhssteLnf"
      },
      "source": [
        "# Regression model with selected features"
      ]
    },
    {
      "cell_type": "code",
      "metadata": {
        "id": "nPnakOqAXuFG"
      },
      "source": [
        "df = pd.read_csv('data/GC-Predictive-Analytics-worksheet - Sheet1 - week6.csv')\n",
        "df = df.drop([11, 12])\n",
        "df = df.reset_index()\n",
        "del df['cluster']\n",
        "del df['Unnamed: 12']\n",
        "\n",
        "df['Age'] = df['Age'].replace(\"40-50's\", '45')\n",
        "df['Age'] = df['Age'].astype('int32')"
      ],
      "execution_count": null,
      "outputs": []
    },
    {
      "cell_type": "code",
      "metadata": {
        "id": "Uz9DYBOZedfl"
      },
      "source": [
        "rec_idxs = [str(i) for i in range(1, 15)]\n",
        "er_idxs = ['ER']\n",
        "er_idxs.extend(['ER.{}'.format(i) for i in range(1, 14)])\n",
        "rec_idxs.append('16 Recommendation ')\n",
        "rec_idxs.append('17 Recommendation')\n",
        "er_idxs.append('Actual ER')\n",
        "er_idxs.append('Actual ER.1')"
      ],
      "execution_count": null,
      "outputs": []
    },
    {
      "cell_type": "code",
      "metadata": {
        "id": "TU3dNBm1eeY1"
      },
      "source": [
        "rrecs = []\n",
        "eers = []\n",
        "iids = []\n",
        "lines = []\n",
        "for i in range(len(df)):\n",
        "  recs = []\n",
        "  ers = []\n",
        "  for rec, er in zip(rec_idxs, er_idxs):\n",
        "      recomendation = df[rec][i]\n",
        "      try:\n",
        "        engagement = float(df[er][i])\n",
        "      except ValueError:\n",
        "        engagement = 0.0\n",
        "      if pd.isna(recomendation):\n",
        "        continue\n",
        "      elif recomendation == 'Phy':\n",
        "        recomendation = 0\n",
        "      else:\n",
        "        recomendation = 1\n",
        "      recs.append(recomendation)\n",
        "      ers.append(engagement)\n",
        "  rrecs.append(recs)\n",
        "  eers.append(ers)\n",
        "  gender = df.Gender[i]\n",
        "  hours = df['Work hours'][i]\n",
        "  hmap = {'1-15 hrs/week': 0.2, '16-35 hrs/week': 0.4, '36-50 hrs/week': 0.6, '50+ hrs/week': 1.0}\n",
        "  if hours in hmap:\n",
        "    hours = hmap[hours]\n",
        "  else:\n",
        "    hours = 0.0\n",
        "  if gender == 'Female':\n",
        "    gender = 0\n",
        "  else:\n",
        "    gender = 1\n",
        "  motivation = df.Motivation[i]\t\n",
        "  if pd.isna(motivation):\n",
        "    motivation = 0.0\n",
        "  attitude = df.Attitude[i]\n",
        "  if pd.isna(attitude):\n",
        "    attitude = 0\n",
        "  intention = df.Intention[i]\n",
        "  if pd.isna(intention):\n",
        "    intention = 0\n",
        "  ownership = df.Ownership[i]\n",
        "  if pd.isna(ownership):\n",
        "    ownership = 0\n",
        "  iids.append(dict(age = df.Age[i] / 82,\n",
        "                   gender = gender,  \n",
        "                   motivation = motivation,\t\n",
        "                   attitude = attitude, \n",
        "                   intention = intention,\n",
        "                   ownership = ownership,\n",
        "                   hours = hours))"
      ],
      "execution_count": null,
      "outputs": []
    },
    {
      "cell_type": "code",
      "metadata": {
        "id": "E8cp7BjPehqH"
      },
      "source": [
        "X = []\n",
        "y = []\n",
        "for i in range(len(rrecs)):\n",
        "  for j in range(len(rrecs[i]) - 2):\n",
        "    r1 = rrecs[i][j]\n",
        "    r2 = rrecs[i][j+1]\n",
        "    # X.append([eers[i][j], r2 - r1, r1, r2, iids[i]['age']])\n",
        "    X.append([eers[i][j], r1, r2, r2-r1, iids[i]['age'], iids[i]['motivation']]) #iids[i]['attitude']])\n",
        "    y.append(eers[i][j+1])"
      ],
      "execution_count": null,
      "outputs": []
    },
    {
      "cell_type": "code",
      "metadata": {
        "id": "g18U9zjAhMCO"
      },
      "source": [
        "test_x = []\n",
        "test_y = []\n",
        "\n",
        "for i in range(len(rrecs)):\n",
        "  if len(rrecs[i]) < 2:\n",
        "    continue\n",
        "  r1 = rrecs[i][-2]\n",
        "  r2 = rrecs[i][-1]\n",
        "  test_x.append([eers[i][-2], r1, r2, r2-r1, iids[i]['age'], iids[i]['motivation']])\n",
        "  test_y.append(eers[i][-1])"
      ],
      "execution_count": null,
      "outputs": []
    },
    {
      "cell_type": "code",
      "metadata": {
        "colab": {
          "base_uri": "https://localhost:8080/"
        },
        "id": "tr6XeAkSiPoa",
        "outputId": "41c0c156-0bcb-432c-d529-6deda5713ee6"
      },
      "source": [
        "test_x"
      ],
      "execution_count": null,
      "outputs": [
        {
          "output_type": "execute_result",
          "data": {
            "text/plain": [
              "[[0.0, 0, 1, 1, 0.5365853658536586, 0.2656231692],\n",
              " [0.0, 0, 1, 1, 0.45121951219512196, 0.38612782090000003],\n",
              " [1.0, 1, 1, 0, 0.7682926829268293, 0.1475109276],\n",
              " [0.0, 1, 1, 0, 0.45121951219512196, 0.4920412394],\n",
              " [1.0, 1, 1, 0, 0.7560975609756098, 0.5941193599],\n",
              " [0.75, 1, 1, 0, 0.7195121951219512, 0.7606024253],\n",
              " [0.0, 1, 1, 0, 0.34146341463414637, 0.653542647],\n",
              " [0.0, 1, 1, 0, 0.7317073170731707, 0.7367078616],\n",
              " [1.0, 0, 0, 0, 0.6951219512195121, 0.5505932954],\n",
              " [0.0, 1, 1, 0, 0.4878048780487805, 0.6891558439],\n",
              " [0.0, 0, 0, 0, 0.4146341463414634, 0.653391631],\n",
              " [0.0, 0, 0, 0, 0.7682926829268293, 0.0],\n",
              " [0.0, 0, 0, 0, 0.5975609756097561, 0.0],\n",
              " [0.0, 1, 1, 0, 0.9878048780487805, 0.10177911070000001]]"
            ]
          },
          "metadata": {
            "tags": []
          },
          "execution_count": 54
        }
      ]
    },
    {
      "cell_type": "code",
      "metadata": {
        "colab": {
          "base_uri": "https://localhost:8080/"
        },
        "id": "DrW0YhsRe2xc",
        "outputId": "781e4942-09a9-42d4-89f1-e46df6c75914"
      },
      "source": [
        "models = []\n",
        "models.append(('Linear', LinearRegression()))\n",
        "models.append(('Ridge', Ridge()))\n",
        "models.append(('Lasso', Lasso()))\n",
        "models.append(('Elastic', ElasticNet()))\n",
        "models.append(('RegTree', RandomForestRegressor()))\n",
        "\n",
        "# evaluate each model in turn\n",
        "for name, model in models:\n",
        "    cv_results = cross_val_score(model, X, y, cv=KFold(n_splits=5, shuffle=True), scoring='r2')\n",
        "    print(\"{}: {:.3f} ({})\".format(name, cv_results.mean(), cv_results))"
      ],
      "execution_count": null,
      "outputs": [
        {
          "output_type": "stream",
          "text": [
            "Linear: 0.646 ([0.56825597 0.63374897 0.71449464 0.50915871 0.80509446])\n",
            "Ridge: 0.673 ([0.46589742 0.62466389 0.83887025 0.83535422 0.60230352])\n",
            "Lasso: -0.004 ([-0.00076975 -0.00033373 -0.00924655 -0.00789453 -0.00307641])\n",
            "Elastic: -0.002 ([-2.87344815e-03 -2.23319293e-03 -8.69882737e-06 -3.34551895e-03\n",
            " -2.61514597e-03])\n",
            "RegTree: 0.615 ([0.35567818 0.75364061 0.59935824 0.71737626 0.64995319])\n"
          ],
          "name": "stdout"
        }
      ]
    },
    {
      "cell_type": "code",
      "metadata": {
        "id": "d8YjcN-TjP40"
      },
      "source": [
        ""
      ],
      "execution_count": null,
      "outputs": []
    },
    {
      "cell_type": "code",
      "metadata": {
        "id": "Ga_QrSn5e68V"
      },
      "source": [
        "poly = PolynomialFeatures(2)\n",
        "X_ = poly.fit_transform(X)"
      ],
      "execution_count": null,
      "outputs": []
    },
    {
      "cell_type": "code",
      "metadata": {
        "colab": {
          "base_uri": "https://localhost:8080/"
        },
        "id": "Zj6t2XuLe-rT",
        "outputId": "b3cedfda-9fcc-4d39-e8af-cece829274f7"
      },
      "source": [
        "models = []\n",
        "models.append(('Linear', LinearRegression()))\n",
        "models.append(('Ridge', Ridge()))\n",
        "models.append(('Lasso', Lasso()))\n",
        "models.append(('Elastic', ElasticNet()))\n",
        "models.append(('RegTree', RandomForestRegressor()))\n",
        "\n",
        "# evaluate each model in turn\n",
        "for name, model in models:\n",
        "    cv_results = cross_val_score(model, X_, y, cv=KFold(n_splits=5, shuffle=True), scoring='r2')\n",
        "    print(\"{}: {:.3f} ({})\".format(name, cv_results.mean(), cv_results))"
      ],
      "execution_count": null,
      "outputs": [
        {
          "output_type": "stream",
          "text": [
            "Linear: 0.713 ([0.80852101 0.80927755 0.48889947 0.74633341 0.71036431])\n",
            "Ridge: 0.684 ([0.72612409 0.79729255 0.60152815 0.6276577  0.6679265 ])\n",
            "Lasso: -0.013 ([-0.0034841  -0.00459995 -0.04908544 -0.00159452 -0.0046575 ])\n",
            "Elastic: -0.051 ([-0.05505189 -0.0326652  -0.01544483 -0.11617535 -0.03354154])\n",
            "RegTree: 0.624 ([0.63040752 0.6500289  0.75691345 0.47241714 0.61100008])\n"
          ],
          "name": "stdout"
        }
      ]
    },
    {
      "cell_type": "code",
      "metadata": {
        "colab": {
          "base_uri": "https://localhost:8080/"
        },
        "id": "gaZCXgMPfCrC",
        "outputId": "d0618cf7-5a84-485a-da08-4d22d03455a7"
      },
      "source": [
        "poly = PolynomialFeatures(2)\n",
        "X_ = poly.fit_transform(X)\n",
        "model = RandomForestRegressor()\n",
        "model.fit(X_, y)"
      ],
      "execution_count": null,
      "outputs": [
        {
          "output_type": "execute_result",
          "data": {
            "text/plain": [
              "RandomForestRegressor(bootstrap=True, ccp_alpha=0.0, criterion='mse',\n",
              "                      max_depth=None, max_features='auto', max_leaf_nodes=None,\n",
              "                      max_samples=None, min_impurity_decrease=0.0,\n",
              "                      min_impurity_split=None, min_samples_leaf=1,\n",
              "                      min_samples_split=2, min_weight_fraction_leaf=0.0,\n",
              "                      n_estimators=100, n_jobs=None, oob_score=False,\n",
              "                      random_state=None, verbose=0, warm_start=False)"
            ]
          },
          "metadata": {
            "tags": []
          },
          "execution_count": 58
        }
      ]
    },
    {
      "cell_type": "code",
      "metadata": {
        "colab": {
          "base_uri": "https://localhost:8080/"
        },
        "id": "vF34yYGQibS-",
        "outputId": "29645dd0-eca1-40fd-c588-4bcd4a31395a"
      },
      "source": [
        "pred = model.predict(poly.transform(test_x))\n",
        "print('{} Anova: {} ttest: {}'.format(name, anova(pred, test_y), ttest(pred, test_y)))"
      ],
      "execution_count": null,
      "outputs": [
        {
          "output_type": "stream",
          "text": [
            "RegTree Anova: 0.6693126126806433 ttest: 0.6693126126806452\n"
          ],
          "name": "stdout"
        }
      ]
    },
    {
      "cell_type": "code",
      "metadata": {
        "colab": {
          "base_uri": "https://localhost:8080/"
        },
        "id": "fAaPG9xRlhNN",
        "outputId": "63fb59a0-36e7-44ad-cca9-5b51cc89932b"
      },
      "source": [
        "model = LinearRegression()\n",
        "model.fit(X_, y)\n",
        "pred = model.predict(poly.transform(test_x))\n",
        "print('{} Anova: {} ttest: {}'.format(name, anova(pred, test_y), ttest(pred, test_y)))"
      ],
      "execution_count": null,
      "outputs": [
        {
          "output_type": "stream",
          "text": [
            "RegTree Anova: 0.5691908258816754 ttest: 0.5691908258816754\n"
          ],
          "name": "stdout"
        }
      ]
    },
    {
      "cell_type": "code",
      "metadata": {
        "id": "IW3ACTwylkly"
      },
      "source": [
        ""
      ],
      "execution_count": null,
      "outputs": []
    },
    {
      "cell_type": "code",
      "metadata": {
        "colab": {
          "base_uri": "https://localhost:8080/"
        },
        "id": "T39gwlw6fH-Q",
        "outputId": "503c9e8a-a965-4502-aa11-9e766624725c"
      },
      "source": [
        "for i in [0, 1, 2, 3, 4, 5, 6, 7, 8]:\n",
        "    r1 = rrecs[i][-1]\n",
        "    diet_er = model.predict(poly.transform(np.array([eers[i][-1], r1, 1 - r1, 1, iids[i]['age'], iids[i]['motivation']]).reshape(1, -1)))\n",
        "    phy_er = model.predict(poly.transform(np.array([eers[i][-1], r1, 0 - r1, 0, iids[i]['age'], iids[i]['motivation']]).reshape(1, -1)))\n",
        "    if diet_er > phy_er:\n",
        "      print('id: {} recomendation: {} er: {}'.format(i, 'diet', diet_er[0]))\n",
        "    else:\n",
        "      print('id: {} recomendation: {} er: {}'.format(i, 'Phy', phy_er[0]))"
      ],
      "execution_count": null,
      "outputs": [
        {
          "output_type": "stream",
          "text": [
            "id: 0 recomendation: diet er: 0.2925344060780313\n",
            "id: 1 recomendation: diet er: 0.23000000001100013\n",
            "id: 2 recomendation: diet er: 0.355670168065\n",
            "id: 3 recomendation: diet er: 0.041428571429\n",
            "id: 4 recomendation: Phy er: 0.8837263655499693\n",
            "id: 5 recomendation: diet er: 0.5582153361354\n",
            "id: 6 recomendation: diet er: 0.14214285714800004\n",
            "id: 7 recomendation: diet er: 0.5592153361354\n",
            "id: 8 recomendation: Phy er: 0.9354861111082058\n"
          ],
          "name": "stdout"
        }
      ]
    },
    {
      "cell_type": "code",
      "metadata": {
        "colab": {
          "base_uri": "https://localhost:8080/"
        },
        "id": "hJPeLvuEfMmO",
        "outputId": "36d30cf3-62eb-42d1-ef24-8fbea10ab3d9"
      },
      "source": [
        "y"
      ],
      "execution_count": null,
      "outputs": [
        {
          "output_type": "execute_result",
          "data": {
            "text/plain": [
              "[0.7142857143000001,\n",
              " 0.42857142859999997,\n",
              " 0.5714285714,\n",
              " 0.75,\n",
              " 0.42857142859999997,\n",
              " 0.8571428570999999,\n",
              " 1.0,\n",
              " 1.0,\n",
              " 0.2857142857,\n",
              " 0.5714285714,\n",
              " 0.5,\n",
              " 0.0,\n",
              " 0.0,\n",
              " 0.0,\n",
              " 0.42857142859999997,\n",
              " 1.0,\n",
              " 0.8571428570999999,\n",
              " 0.875,\n",
              " 0.8571428570999999,\n",
              " 1.0,\n",
              " 1.0,\n",
              " 1.0,\n",
              " 0.8571428570999999,\n",
              " 0.8571428570999999,\n",
              " 1.0,\n",
              " 1.0,\n",
              " 0.8571428570999999,\n",
              " 0.0,\n",
              " 0.14285714289999998,\n",
              " 0.0,\n",
              " 0.5714285714,\n",
              " 0.0,\n",
              " 0.0,\n",
              " 0.0,\n",
              " 0.0,\n",
              " 0.0,\n",
              " 0.0,\n",
              " 0.0,\n",
              " 0.0,\n",
              " 1.0,\n",
              " 1.0,\n",
              " 0.0,\n",
              " 0.0,\n",
              " 0.0,\n",
              " 1.0,\n",
              " 0.4705882353,\n",
              " 0.9,\n",
              " 0.9166666667,\n",
              " 1.0,\n",
              " 0.5,\n",
              " 0.5,\n",
              " 0.75,\n",
              " 0.0,\n",
              " 0.0,\n",
              " 0.8571428570999999,\n",
              " 0.8571428570999999,\n",
              " 1.0,\n",
              " 1.0,\n",
              " 0.7142857143000001,\n",
              " 1.0,\n",
              " 1.0,\n",
              " 1.0,\n",
              " 1.0,\n",
              " 1.0,\n",
              " 0.8333333333,\n",
              " 1.0,\n",
              " 0.0,\n",
              " 0.2857142857,\n",
              " 0.0,\n",
              " 0.125,\n",
              " 0.42857142859999997,\n",
              " 0.0,\n",
              " 0.0,\n",
              " 0.0,\n",
              " 0.0,\n",
              " 0.0,\n",
              " 0.0,\n",
              " 0.0,\n",
              " 0.0,\n",
              " 0.0,\n",
              " 0.0,\n",
              " 0.0,\n",
              " 0.0,\n",
              " 0.0,\n",
              " 0.0,\n",
              " 0.0,\n",
              " 0.0,\n",
              " 0.0,\n",
              " 0.0,\n",
              " 0.0,\n",
              " 0.0,\n",
              " 0.0,\n",
              " 0.0,\n",
              " 0.0,\n",
              " 0.0,\n",
              " 0.0,\n",
              " 0.0,\n",
              " 0.0,\n",
              " 0.0,\n",
              " 0.0,\n",
              " 0.0,\n",
              " 0.0,\n",
              " 0.14285714289999998,\n",
              " 0.2857142857,\n",
              " 0.2857142857,\n",
              " 0.125,\n",
              " 0.14285714289999998,\n",
              " 0.0,\n",
              " 0.0,\n",
              " 0.0,\n",
              " 0.0,\n",
              " 0.0,\n",
              " 0.0,\n",
              " 0.0,\n",
              " 0.0,\n",
              " 0.0,\n",
              " 0.0,\n",
              " 0.0,\n",
              " 0.0,\n",
              " 0.0,\n",
              " 0.0,\n",
              " 0.0,\n",
              " 0.0,\n",
              " 0.0,\n",
              " 0.0,\n",
              " 0.0]"
            ]
          },
          "metadata": {
            "tags": []
          },
          "execution_count": 61
        }
      ]
    },
    {
      "cell_type": "code",
      "metadata": {
        "colab": {
          "base_uri": "https://localhost:8080/"
        },
        "id": "YxaMKmmcghak",
        "outputId": "820a7c73-7711-4aca-915c-8b30482c3ab7"
      },
      "source": [
        "len(iids)"
      ],
      "execution_count": null,
      "outputs": [
        {
          "output_type": "execute_result",
          "data": {
            "text/plain": [
              "16"
            ]
          },
          "metadata": {
            "tags": []
          },
          "execution_count": 62
        }
      ]
    },
    {
      "cell_type": "code",
      "metadata": {
        "id": "0X4eReTMg3A2"
      },
      "source": [
        ""
      ],
      "execution_count": null,
      "outputs": []
    }
  ]
}