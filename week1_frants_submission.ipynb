{
  "nbformat": 4,
  "nbformat_minor": 0,
  "metadata": {
    "colab": {
      "name": "week1_frants_submission.ipynb",
      "provenance": []
    },
    "kernelspec": {
      "name": "python3",
      "display_name": "Python 3"
    }
  },
  "cells": [
    {
      "cell_type": "code",
      "metadata": {
        "id": "HqIvXEsiNIW1",
        "colab": {
          "base_uri": "https://localhost:8080/"
        },
        "outputId": "3e67e1fe-42ae-4e81-a93f-980737e42bf0"
      },
      "source": [
        "import pandas as pd\n",
        "\n",
        "from sklearn.linear_model import LinearRegression\n",
        "from sklearn.preprocessing import PolynomialFeatures\n",
        "\n",
        "import matplotlib.pyplot as plt\n",
        "%matplotlib inline\n",
        "\n",
        "from google.colab import drive\n",
        "drive.mount('/content/drive')"
      ],
      "execution_count": null,
      "outputs": [
        {
          "output_type": "stream",
          "text": [
            "Mounted at /content/drive\n"
          ],
          "name": "stdout"
        }
      ]
    },
    {
      "cell_type": "code",
      "metadata": {
        "id": "nBprhUhlOZsh"
      },
      "source": [
        "!mkdir data\n",
        "!cp '/content/drive/My Drive/pred-analit/GC-predictive-analytics-worksheet - Sheet1.csv' data"
      ],
      "execution_count": null,
      "outputs": []
    },
    {
      "cell_type": "code",
      "metadata": {
        "id": "mG9iUt53N-LL"
      },
      "source": [
        "df = pd.read_csv('data/GC-predictive-analytics-worksheet - Sheet1.csv')"
      ],
      "execution_count": null,
      "outputs": []
    },
    {
      "cell_type": "code",
      "metadata": {
        "id": "o1qqT6YhOSLW"
      },
      "source": [
        "rec_idxs = [str(i) for i in range(1, 16)]\n",
        "er_idxs = ['ER']\n",
        "er_idxs.extend(['ER.{}'.format(i) for i in range(1, 15)])"
      ],
      "execution_count": null,
      "outputs": []
    },
    {
      "cell_type": "code",
      "metadata": {
        "id": "2-5wFRT7OVgM"
      },
      "source": [
        "rrecs = []\n",
        "eers = []\n",
        "iids = []\n",
        "for i in range(len(df)):\n",
        "  recs = []\n",
        "  ers = []\n",
        "  for rec, er in zip(rec_idxs, er_idxs):\n",
        "      recomendation = df[rec][i]\n",
        "      try:\n",
        "        engagement = float(df[er][i])\n",
        "      except ValueError:\n",
        "        engagement = 0.0\n",
        "      if pd.isna(recomendation):\n",
        "        continue\n",
        "      elif recomendation == 'Phy':\n",
        "        recomendation = 0\n",
        "      else:\n",
        "        recomendation = 1\n",
        "      recs.append(recomendation)\n",
        "      ers.append(engagement)\n",
        "  rrecs.append(recs)\n",
        "  eers.append(ers)\n",
        "  gender = df.Gender[i]\n",
        "  hours = df['Work hours'][i]\n",
        "  hmap = {'1-15 hrs/week': 0.2, '16-35 hrs/week': 0.4, '36-50 hrs/week': 0.6, '50+ hrs/week': 1.0}\n",
        "  if hours in hmap:\n",
        "    hours = hmap[hours]\n",
        "  else:\n",
        "    hours = 0.0\n",
        "  if gender == 'Female':\n",
        "    gender = 0\n",
        "  else:\n",
        "    gender = 1\n",
        "  motivation = df.Motivation[i]\t\n",
        "  if pd.isna(motivation):\n",
        "    motivation = 0.0\n",
        "  attitude = df.Attitude[i]\n",
        "  if pd.isna(attitude):\n",
        "    attitude = 0\n",
        "  intention = df.Intention[i]\n",
        "  if pd.isna(intention):\n",
        "    intention = 0\n",
        "  ownership = df.Ownership[i]\n",
        "  if pd.isna(ownership):\n",
        "    ownership = 0\n",
        "  iids.append(dict(age = df.Age[i] / 82,\n",
        "                   gender = gender,  \n",
        "                   motivation = motivation,\t\n",
        "                   attitude = attitude, \n",
        "                   intention = intention,\n",
        "                   ownership = ownership,\n",
        "                   hours = hours))"
      ],
      "execution_count": null,
      "outputs": []
    },
    {
      "cell_type": "code",
      "metadata": {
        "id": "LPZB9bpnOqYt"
      },
      "source": [
        "X = []\n",
        "y = []\n",
        "for i in range(len(rrecs)):\n",
        "  for j in range(len(rrecs[i]) - 2):\n",
        "    r1 = rrecs[i][j]\n",
        "    r2 = rrecs[i][j+1]\n",
        "    # X.append([eers[i][j], r2 - r1, r1, r2, iids[i]['age']])\n",
        "    X.append([eers[i][j], r1, r2, r2-r1, iids[i]['age'], iids[i]['motivation']]) #iids[i]['attitude']])\n",
        "    y.append(eers[i][j+1])"
      ],
      "execution_count": null,
      "outputs": []
    },
    {
      "cell_type": "code",
      "metadata": {
        "id": "cQcdwwnmOwIp"
      },
      "source": [
        "poly = PolynomialFeatures(2)\n",
        "X_ = poly.fit_transform(X)"
      ],
      "execution_count": null,
      "outputs": []
    },
    {
      "cell_type": "code",
      "metadata": {
        "id": "5lbCd0IZO1qV",
        "colab": {
          "base_uri": "https://localhost:8080/"
        },
        "outputId": "a84ee5b5-7220-483d-b345-99fc17630002"
      },
      "source": [
        "model = LinearRegression()\n",
        "model.fit(X_, y)"
      ],
      "execution_count": null,
      "outputs": [
        {
          "output_type": "execute_result",
          "data": {
            "text/plain": [
              "LinearRegression(copy_X=True, fit_intercept=True, n_jobs=None, normalize=False)"
            ]
          },
          "metadata": {
            "tags": []
          },
          "execution_count": 9
        }
      ]
    },
    {
      "cell_type": "code",
      "metadata": {
        "id": "bJ5wuAdHO_XV"
      },
      "source": [
        "pX = []\n",
        "my_recs = []\n",
        "for i in [0, 2]:\n",
        "    r1 = rrecs[i][-1]\n",
        "    pX.append([eers[i][-1], r1, 1 - r1, 1, iids[i]['age'], iids[i]['motivation']])\n",
        "    my_recs.append('diet')\n",
        "    pX.append([eers[i][-1], r1, 0 - r1, 0, iids[i]['age'], iids[i]['motivation']])\n",
        "    my_recs.append('Phy')"
      ],
      "execution_count": null,
      "outputs": []
    },
    {
      "cell_type": "code",
      "metadata": {
        "id": "cMSA6E8SPA-k"
      },
      "source": [
        "pX_ = poly.fit_transform(pX)"
      ],
      "execution_count": null,
      "outputs": []
    },
    {
      "cell_type": "code",
      "metadata": {
        "id": "_1jbEKOzQlzF",
        "colab": {
          "base_uri": "https://localhost:8080/"
        },
        "outputId": "618bb50b-9500-47a2-8cda-5e362111c6cd"
      },
      "source": [
        "model.predict(pX_)"
      ],
      "execution_count": null,
      "outputs": [
        {
          "output_type": "execute_result",
          "data": {
            "text/plain": [
              "array([0.23776317, 0.22633416, 0.87826127, 0.32420668])"
            ]
          },
          "metadata": {
            "tags": []
          },
          "execution_count": 16
        }
      ]
    },
    {
      "cell_type": "code",
      "metadata": {
        "id": "cIzcajnOQoNM",
        "colab": {
          "base_uri": "https://localhost:8080/"
        },
        "outputId": "98f309a4-b06a-4490-d31b-e799bd2a7a24"
      },
      "source": [
        "my_recs"
      ],
      "execution_count": null,
      "outputs": [
        {
          "output_type": "execute_result",
          "data": {
            "text/plain": [
              "['diet', 'Phy', 'diet', 'Phy']"
            ]
          },
          "metadata": {
            "tags": []
          },
          "execution_count": 17
        }
      ]
    },
    {
      "cell_type": "code",
      "metadata": {
        "id": "J9VCf0yiRDXp"
      },
      "source": [
        ""
      ],
      "execution_count": null,
      "outputs": []
    }
  ]
}