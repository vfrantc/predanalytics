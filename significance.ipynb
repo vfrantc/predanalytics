{
  "nbformat": 4,
  "nbformat_minor": 0,
  "metadata": {
    "colab": {
      "name": "significance.ipynb",
      "provenance": []
    },
    "kernelspec": {
      "name": "python3",
      "display_name": "Python 3"
    }
  },
  "cells": [
    {
      "cell_type": "code",
      "metadata": {
        "id": "EQWWZ3wjipl8"
      },
      "source": [
        "import numpy as np\n",
        "from scipy import stats"
      ],
      "execution_count": null,
      "outputs": []
    },
    {
      "cell_type": "code",
      "metadata": {
        "id": "jaA-V6E0igyc"
      },
      "source": [
        "pred_er = np.array([0.7, 0.5, 0.2, 0.8, 0.5])\n",
        "true_er = np.array([0.45, 0.51, 0.2, 0.81, 0.5])"
      ],
      "execution_count": null,
      "outputs": []
    },
    {
      "cell_type": "markdown",
      "metadata": {
        "id": "2DE7Q3_Cjqu1"
      },
      "source": [
        "# Anova"
      ]
    },
    {
      "cell_type": "code",
      "metadata": {
        "colab": {
          "base_uri": "https://localhost:8080/"
        },
        "id": "eqTKkO4niouH",
        "outputId": "f6249132-e8f3-4651-d3f9-4d9a78ffe587"
      },
      "source": [
        "F, p = stats.f_oneway(pred_er, true_er)\n",
        "print('F: {}, p: {}'.format(F, p))"
      ],
      "execution_count": null,
      "outputs": [
        {
          "output_type": "stream",
          "text": [
            "F: 0.10566263856985911, p: 0.7534751457332902\n"
          ],
          "name": "stdout"
        }
      ]
    },
    {
      "cell_type": "code",
      "metadata": {
        "id": "yI_g-Wctk0SS"
      },
      "source": [
        "stats.f_oneway?"
      ],
      "execution_count": null,
      "outputs": []
    },
    {
      "cell_type": "markdown",
      "metadata": {
        "id": "PUmrwwenjtwI"
      },
      "source": [
        "# TTEST for paired samples"
      ]
    },
    {
      "cell_type": "code",
      "metadata": {
        "colab": {
          "base_uri": "https://localhost:8080/"
        },
        "id": "YkNhPFnGjcGZ",
        "outputId": "b911a4e8-3c29-4a2a-e909-b30c039169e2"
      },
      "source": [
        "stats.ttest_ind(pred_er,true_er)"
      ],
      "execution_count": null,
      "outputs": [
        {
          "output_type": "execute_result",
          "data": {
            "text/plain": [
              "Ttest_indResult(statistic=0.32505790033447823, pvalue=0.75347514573329)"
            ]
          },
          "metadata": {
            "tags": []
          },
          "execution_count": 10
        }
      ]
    },
    {
      "cell_type": "code",
      "metadata": {
        "id": "6bCn0AGCkG4R"
      },
      "source": [
        "stats.ttest_rel?"
      ],
      "execution_count": null,
      "outputs": []
    },
    {
      "cell_type": "code",
      "metadata": {
        "id": "FYv2ykRpkiUo"
      },
      "source": [
        ""
      ],
      "execution_count": null,
      "outputs": []
    }
  ]
}